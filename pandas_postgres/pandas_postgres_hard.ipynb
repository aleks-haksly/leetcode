{
  "nbformat": 4,
  "nbformat_minor": 0,
  "metadata": {
    "colab": {
      "provenance": [],
      "authorship_tag": "ABX9TyO+ZRsuVv9Y82JJse22Qlxn",
      "include_colab_link": true
    },
    "kernelspec": {
      "name": "python3",
      "display_name": "Python 3"
    },
    "language_info": {
      "name": "python"
    }
  },
  "cells": [
    {
      "cell_type": "markdown",
      "metadata": {
        "id": "view-in-github",
        "colab_type": "text"
      },
      "source": [
        "<a href=\"https://colab.research.google.com/github/aleks-haksly/leetcode/blob/main/pandas_postgres/pandas_postgres_hard.ipynb\" target=\"_parent\"><img src=\"https://colab.research.google.com/assets/colab-badge.svg\" alt=\"Open In Colab\"/></a>"
      ]
    },
    {
      "cell_type": "code",
      "source": [
        "import pandas as pd"
      ],
      "metadata": {
        "id": "cCLIcJ3PfWNR"
      },
      "execution_count": 1,
      "outputs": []
    },
    {
      "cell_type": "markdown",
      "source": [
        "185. Department Top Three Salaries\n",
        "\n",
        "https://leetcode.com/problems/department-top-three-salaries/description/\n",
        "\n",
        "```sql\n",
        "\n",
        "SELECT d.name as Department, sub.name as Employee, sub.salary as Salary\n",
        "FROM (\n",
        "SELECT\n",
        "    e.departmentId , e.name, e.salary,\n",
        "    dense_rank() OVER (PARTITION BY departmentId ORDER BY salary DESC) as rnk\n",
        "FROM Employee e) sub\n",
        "LEFT JOIN Department d ON d.id = sub.departmentId\n",
        "WHERE sub.rnk < 4\n",
        "```"
      ],
      "metadata": {
        "id": "ITv_9risLHTZ"
      }
    },
    {
      "cell_type": "code",
      "source": [
        "data = [[1, 'Joe', 85000, 1], [2, 'Henry', 80000, 2], [3, 'Sam', 60000, 2], [4, 'Max', 90000, 1], [5, 'Janet', 69000, 1], [6, 'Randy', 85000, 1], [7, 'Will', 70000, 1]]\n",
        "employee = pd.DataFrame(data, columns=['id', 'name', 'salary', 'departmentId']).astype({'id':'Int64', 'name':'object', 'salary':'Int64', 'departmentId':'Int64'})\n",
        "data = [[1, 'IT'], [2, 'Sales']]\n",
        "department = pd.DataFrame(data, columns=['id', 'name']).astype({'id':'Int64', 'name':'object'})"
      ],
      "metadata": {
        "id": "E8NmcLl-LbU_"
      },
      "execution_count": null,
      "outputs": []
    },
    {
      "cell_type": "code",
      "source": [
        "def top_three_salaries(employee: pd.DataFrame, department: pd.DataFrame) -> pd.DataFrame:\n",
        "    return employee.assign(rnk = employee.groupby('departmentId').salary.rank(method='dense', ascending=False))\\\n",
        "                    .query('rnk <= 3', engine='python')\\\n",
        "                    .merge(department, how='left', left_on='departmentId', right_on='id', suffixes=['_emp', '_dpt'])\\\n",
        "                    [['name_dpt', 'name_emp', 'salary']].rename({'name_dpt': 'Department', 'name_emp': 'Employee', 'salary': 'Salary'}, axis=1)"
      ],
      "metadata": {
        "id": "zjCl7f54MAaQ"
      },
      "execution_count": null,
      "outputs": []
    },
    {
      "cell_type": "markdown",
      "source": [
        "262. Trips and Users\n",
        "\n",
        "https://leetcode.com/problems/trips-and-users/description/\n",
        "\n",
        "```sql\n",
        "WITH banned AS (\n",
        "    SELECT users_id FROM Users WHERE banned = 'Yes'\n",
        ")\n",
        "SELECT\n",
        "request_at as Day,\n",
        "ROUND(1 - count(id) FILTER (WHERE t.status NOT IN ('cancelled_by_driver', 'cancelled_by_client'))*1.0 / count(id), 2) as \"Cancellation Rate\"\n",
        "\n",
        "FROM Trips t\n",
        "WHERE t.request_at  BETWEEN '2013-10-01' and '2013-10-03' AND t.client_id NOT IN (SELECT users_id FROM banned) AND t.driver_id NOT IN (SELECT users_id FROM banned)\n",
        "GROUP BY request_at\n",
        "HAVING count(t.id) > 0\n",
        "```\n",
        "\n",
        "The cancellation rate is computed by dividing the number of canceled (by client or driver) requests with unbanned users by the total number of requests with unbanned users on that day.\n",
        "\n",
        "Write a solution to find the cancellation rate of requests with unbanned users (both client and driver must not be banned) each day between \"2013-10-01\" and \"2013-10-03\" with at least one trip. Round Cancellation Rate to two decimal points.\n",
        "\n",
        "Return the result table in any order.\n",
        "\n"
      ],
      "metadata": {
        "id": "___MPk_cQEPb"
      }
    },
    {
      "cell_type": "code",
      "source": [
        "data = [['1', '1', '10', '1', 'completed', '2013-10-01'], ['2', '2', '11', '1', 'cancelled_by_driver', '2013-10-01'], ['3', '3', '12', '6', 'completed', '2013-10-01'], ['4', '4', '13', '6', 'cancelled_by_client', '2013-10-01'], ['5', '1', '10', '1', 'completed', '2013-10-02'], ['6', '2', '11', '6', 'completed', '2013-10-02'], ['7', '3', '12', '6', 'completed', '2013-10-02'], ['8', '2', '12', '12', 'completed', '2013-10-03'], ['9', '3', '10', '12', 'completed', '2013-10-03'], ['10', '4', '13', '12', 'cancelled_by_driver', '2013-10-03']]\n",
        "trips = pd.DataFrame(data, columns=['id', 'client_id', 'driver_id', 'city_id', 'status', 'request_at']).astype({'id':'Int64', 'client_id':'Int64', 'driver_id':'Int64', 'city_id':'Int64', 'status':'object', 'request_at':'object'})\n",
        "\n",
        "data = [['1', 'No', 'client'], ['2', 'Yes', 'client'], ['3', 'No', 'client'], ['4', 'No', 'client'], ['10', 'No', 'driver'], ['11', 'No', 'driver'], ['12', 'No', 'driver'], ['13', 'No', 'driver']]\n",
        "users = pd.DataFrame(data, columns=['users_id', 'banned', 'role']).astype({'users_id':'Int64', 'banned':'object', 'role':'object'})"
      ],
      "metadata": {
        "id": "O3oY7_WfL7Qb"
      },
      "execution_count": null,
      "outputs": []
    },
    {
      "cell_type": "code",
      "source": [
        "def trips_and_users(trips: pd.DataFrame, users: pd.DataFrame) -> pd.DataFrame:\n",
        "    banned_ids = users[users.banned == 'Yes'].users_id.values\n",
        "    df = trips[(trips.request_at.between('2013-10-01', '2013-10-03')) &\n",
        "        (~trips.client_id.isin(banned_ids)) &\n",
        "        (~trips.driver_id.isin(banned_ids))]\n",
        "    df = df.assign(cancelled = np.where(df.status.str.match('cancelled'), 1, 0))\\\n",
        "    .groupby('request_at')['cancelled'].agg(['sum', 'size']).reset_index().rename({\"request_at\": \"Day\"}, axis=1)\n",
        "\n",
        "\n",
        "    df['Cancellation Rate'] = (df['sum']/df['size']).round(2)\n",
        "    return df[['Day','Cancellation Rate']]"
      ],
      "metadata": {
        "id": "NRH5nvJbQP1Y"
      },
      "execution_count": null,
      "outputs": []
    },
    {
      "cell_type": "markdown",
      "source": [
        "601. Human Traffic of Stadium\n",
        "\n",
        "https://leetcode.com/problems/human-traffic-of-stadium/description/\n",
        "\n",
        "```sql\n",
        "-- Write your PostgreSQL query statement below\n",
        "SELECT\n",
        "id, visit_date, people\n",
        "FROM (\n",
        "SELECT\n",
        "*,\n",
        "LEAD(id) OVER (ORDER BY id) as ld,\n",
        "LAG(id) OVER (ORDER BY id) as lg,\n",
        "LEAD(id, 2) OVER (ORDER BY id) as ld2,\n",
        "LAG(id, 2) OVER (ORDER BY id) as lg2\n",
        "FROM Stadium\n",
        "WHERE people   >= 100) sub\n",
        "WHERE (id - lg = 1 AND ld - id = 1) OR\n",
        "      (id - lg = 1 AND id - lg2 = 2) OR\n",
        "      (ld - id = 1 AND ld2 - id = 2)\n",
        "ORDER BY visit_date\n",
        "```"
      ],
      "metadata": {
        "id": "19s54CRCbNFk"
      }
    },
    {
      "cell_type": "markdown",
      "source": [
        "Write a solution to display the records with three or more rows with consecutive id's, and the number of people is greater than or equal to 100 for each.\n",
        "\n",
        "Return the result table ordered by visit_date in ascending order.\n",
        "\n",
        "The result format is in the following example."
      ],
      "metadata": {
        "id": "nsiflFtqbdKq"
      }
    },
    {
      "cell_type": "code",
      "source": [
        "data = [[1, '2017-01-01', 10], [2, '2017-01-02', 109], [3, '2017-01-03', 150], [4, '2017-01-04', 99], [5, '2017-01-05', 145], [6, '2017-01-06', 1455], [7, '2017-01-07', 199], [8, '2017-01-09', 188]]\n",
        "stadium = pd.DataFrame(data, columns=['id', 'visit_date', 'people']).astype({'id':'Int64', 'visit_date':'datetime64[ns]', 'people':'Int64'})"
      ],
      "metadata": {
        "id": "F20LoOlIbRQT"
      },
      "execution_count": null,
      "outputs": []
    },
    {
      "cell_type": "code",
      "source": [
        "def human_traffic(stadium: pd.DataFrame) -> pd.DataFrame:\n",
        "    filtered = stadium[stadium.people.ge(100)]\n",
        "    return filtered.assign(lg1_diff = filtered.id.diff(1), ld1_diff = - filtered.id.diff(-1), lg2_diff = filtered.id.diff(2), ld2_diff = - filtered.id.diff(-2))\\\n",
        "                  .query(\"(lg1_diff == 1 & ld1_diff == 1) | \\\n",
        "                          (ld1_diff == 1 & ld2_diff == 2) | \\\n",
        "                          (lg1_diff == 1 & lg2_diff == 2)\", engine='python')\\\n",
        "                          .iloc[:,0:3].sort_values(by='visit_date')"
      ],
      "metadata": {
        "id": "WG3c_5IFbVkv"
      },
      "execution_count": null,
      "outputs": []
    },
    {
      "cell_type": "markdown",
      "source": [
        "3374. First Letter Capitalization II\n",
        "\n",
        "https://leetcode.com/problems/first-letter-capitalization-ii/description/\n",
        "\n",
        "```sql\n",
        "SELECT\n",
        "\tcontent_id,\n",
        "\tcontent_text AS original_text,\n",
        "  initcap(content_text)   AS converted_text\n",
        "FROM user_content\n",
        "```"
      ],
      "metadata": {
        "id": "rUH2rwVwigkR"
      }
    },
    {
      "cell_type": "code",
      "source": [
        "data = [[1, 'hello world of SQL'], [2, 'the QUICK-brown fox'], [3, 'modern-day DATA science'], [4, 'web-based FRONT-end development']]\n",
        "user_content = pd.DataFrame(data, columns=['content_id', 'content_text'])"
      ],
      "metadata": {
        "id": "jTmeo8Qwga80"
      },
      "execution_count": null,
      "outputs": []
    },
    {
      "cell_type": "code",
      "source": [
        "def capitalize_content(user_content: pd.DataFrame) -> pd.DataFrame:\n",
        "    user_content['converted_text'] = user_content.content_text.apply(lambda x: x.title())\n",
        "    return user_content.rename({'content_text': 'original_text'}, axis=1)"
      ],
      "metadata": {
        "id": "fqaREi0Rix69"
      },
      "execution_count": null,
      "outputs": []
    },
    {
      "cell_type": "markdown",
      "source": [
        "569. Median Employee Salary\n",
        "\n",
        "https://leetcode.com/problems/median-employee-salary/description/\n",
        "\n",
        "```sql\n",
        "SELECT id, company, salary FROM (\n",
        "SELECT\n",
        "company,\n",
        "id, salary,\n",
        "row_number() OVER (PARTITION BY company ORDER BY salary DESC, id DESC) -\n",
        "row_number() OVER (PARTITION BY company ORDER BY salary ASC, id ASC) as rn_delta,\n",
        "count(*) OVER (PARTITION BY company) AS  cnt\n",
        "FROM Employee\n",
        " ) sub\n",
        "--WHERE rn_delta <= 1 - (cnt * 1.0) % 2 AND rn_delta >= -1 + (cnt * 1.0) % 2\n",
        "WHERE rn_delta <= 1  AND rn_delta >= -1\n",
        "```"
      ],
      "metadata": {
        "id": "u-k9V537BbPL"
      }
    },
    {
      "cell_type": "markdown",
      "source": [
        "571. Find Median Given Frequency of Numbers\n",
        "\n",
        "https://leetcode.com/problems/find-median-given-frequency-of-numbers/description/\n",
        "\n",
        "```sql\n",
        "SELECT\n",
        "percentile_cont(0.5) WITHIN GROUP (ORDER BY num) as median FROM (\n",
        "SELECT num, generate_series(1, frequency)  FROM Numbers) sub\n",
        "```"
      ],
      "metadata": {
        "id": "iWCeYxzeXwoY"
      }
    },
    {
      "cell_type": "markdown",
      "source": [
        "579. Find Cumulative Salary of an Employee\n",
        "\n",
        "https://leetcode.com/problems/find-median-given-frequency-of-numbers/\n",
        "\n",
        "```sql\n",
        "WITH t as (\n",
        "SELECT\n",
        "id, generate_series(1, mm) as month\n",
        "FROM (\n",
        "SELECT\n",
        "id, max(month) - 1 as mm\n",
        "FROM Employee\n",
        "GROUP BY id) sub\n",
        "ORDER BY 1, 2),\n",
        "\n",
        "analytical_t as (\n",
        "SELECT\n",
        "id, month, COALESCE(salary, 0) as salary\n",
        "FROM t\n",
        "LEFT JOIN Employee USING (id, month)),\n",
        "\n",
        "full_table as (\n",
        "SELECT\n",
        "id, month,\n",
        "sum(salary) OVER (PARTITION BY id ORDER BY month ROWS BETWEEN 2 PRECEDING AND CURRENT ROW) as Salary\n",
        "FROM analytical_t)\n",
        "\n",
        "SELECT f.id, f.month, f.Salary FROM full_table f\n",
        "INNER JOIN Employee e USING(id, month)\n",
        "ORDER BY 1, 2 DESC\n",
        "```\n",
        "\n",
        "```sql\n",
        "SELECT e.id, e.month,\n",
        "    SUM(e2.Salary) as Salary\n",
        "FROM Employee e\n",
        "JOIN Employee e2 ON (e.Id = e2.Id AND e.Month >= e2.Month AND (e.Month - e2.Month <= 2))\n",
        "WHERE e.Month < (SELECT MAX(Month) from Employee where Id = e.Id)\n",
        "GROUP BY e.Id, e.Month\n",
        "ORDER BY e.Id, e.Month DESC\n",
        "```"
      ],
      "metadata": {
        "id": "xmTEsLkPXdRv"
      }
    },
    {
      "cell_type": "code",
      "source": [],
      "metadata": {
        "id": "fgkie8ESBvOc"
      },
      "execution_count": null,
      "outputs": []
    }
  ]
}