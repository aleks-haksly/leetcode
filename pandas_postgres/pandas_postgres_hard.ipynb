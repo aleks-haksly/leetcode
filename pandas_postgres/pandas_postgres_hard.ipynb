{
  "nbformat": 4,
  "nbformat_minor": 0,
  "metadata": {
    "colab": {
      "provenance": [],
      "authorship_tag": "ABX9TyNKQf5zfKY7pFa/PUuiHF0u",
      "include_colab_link": true
    },
    "kernelspec": {
      "name": "python3",
      "display_name": "Python 3"
    },
    "language_info": {
      "name": "python"
    }
  },
  "cells": [
    {
      "cell_type": "markdown",
      "metadata": {
        "id": "view-in-github",
        "colab_type": "text"
      },
      "source": [
        "<a href=\"https://colab.research.google.com/github/aleks-haksly/leetcode/blob/main/pandas_postgres/pandas_postgres_hard.ipynb\" target=\"_parent\"><img src=\"https://colab.research.google.com/assets/colab-badge.svg\" alt=\"Open In Colab\"/></a>"
      ]
    },
    {
      "cell_type": "code",
      "source": [
        "import pandas as pd"
      ],
      "metadata": {
        "id": "cCLIcJ3PfWNR"
      },
      "execution_count": 1,
      "outputs": []
    },
    {
      "cell_type": "markdown",
      "source": [
        "185. Department Top Three Salaries\n",
        "\n",
        "https://leetcode.com/problems/department-top-three-salaries/description/\n",
        "\n",
        "```sql\n",
        "\n",
        "SELECT d.name as Department, sub.name as Employee, sub.salary as Salary\n",
        "FROM (\n",
        "SELECT\n",
        "    e.departmentId , e.name, e.salary,\n",
        "    dense_rank() OVER (PARTITION BY departmentId ORDER BY salary DESC) as rnk\n",
        "FROM Employee e) sub\n",
        "LEFT JOIN Department d ON d.id = sub.departmentId\n",
        "WHERE sub.rnk < 4\n",
        "```"
      ],
      "metadata": {
        "id": "ITv_9risLHTZ"
      }
    },
    {
      "cell_type": "code",
      "source": [
        "data = [[1, 'Joe', 85000, 1], [2, 'Henry', 80000, 2], [3, 'Sam', 60000, 2], [4, 'Max', 90000, 1], [5, 'Janet', 69000, 1], [6, 'Randy', 85000, 1], [7, 'Will', 70000, 1]]\n",
        "employee = pd.DataFrame(data, columns=['id', 'name', 'salary', 'departmentId']).astype({'id':'Int64', 'name':'object', 'salary':'Int64', 'departmentId':'Int64'})\n",
        "data = [[1, 'IT'], [2, 'Sales']]\n",
        "department = pd.DataFrame(data, columns=['id', 'name']).astype({'id':'Int64', 'name':'object'})"
      ],
      "metadata": {
        "id": "E8NmcLl-LbU_"
      },
      "execution_count": null,
      "outputs": []
    },
    {
      "cell_type": "code",
      "source": [
        "def top_three_salaries(employee: pd.DataFrame, department: pd.DataFrame) -> pd.DataFrame:\n",
        "    return employee.assign(rnk = employee.groupby('departmentId').salary.rank(method='dense', ascending=False))\\\n",
        "                    .query('rnk <= 3', engine='python')\\\n",
        "                    .merge(department, how='left', left_on='departmentId', right_on='id', suffixes=['_emp', '_dpt'])\\\n",
        "                    [['name_dpt', 'name_emp', 'salary']].rename({'name_dpt': 'Department', 'name_emp': 'Employee', 'salary': 'Salary'}, axis=1)"
      ],
      "metadata": {
        "id": "zjCl7f54MAaQ"
      },
      "execution_count": null,
      "outputs": []
    },
    {
      "cell_type": "markdown",
      "source": [
        "262. Trips and Users\n",
        "\n",
        "https://leetcode.com/problems/trips-and-users/description/\n",
        "\n",
        "```sql\n",
        "WITH banned AS (\n",
        "    SELECT users_id FROM Users WHERE banned = 'Yes'\n",
        ")\n",
        "SELECT\n",
        "request_at as Day,\n",
        "ROUND(1 - count(id) FILTER (WHERE t.status NOT IN ('cancelled_by_driver', 'cancelled_by_client'))*1.0 / count(id), 2) as \"Cancellation Rate\"\n",
        "\n",
        "FROM Trips t\n",
        "WHERE t.request_at  BETWEEN '2013-10-01' and '2013-10-03' AND t.client_id NOT IN (SELECT users_id FROM banned) AND t.driver_id NOT IN (SELECT users_id FROM banned)\n",
        "GROUP BY request_at\n",
        "HAVING count(t.id) > 0\n",
        "```\n",
        "\n",
        "The cancellation rate is computed by dividing the number of canceled (by client or driver) requests with unbanned users by the total number of requests with unbanned users on that day.\n",
        "\n",
        "Write a solution to find the cancellation rate of requests with unbanned users (both client and driver must not be banned) each day between \"2013-10-01\" and \"2013-10-03\" with at least one trip. Round Cancellation Rate to two decimal points.\n",
        "\n",
        "Return the result table in any order.\n",
        "\n"
      ],
      "metadata": {
        "id": "___MPk_cQEPb"
      }
    },
    {
      "cell_type": "code",
      "source": [
        "data = [['1', '1', '10', '1', 'completed', '2013-10-01'], ['2', '2', '11', '1', 'cancelled_by_driver', '2013-10-01'], ['3', '3', '12', '6', 'completed', '2013-10-01'], ['4', '4', '13', '6', 'cancelled_by_client', '2013-10-01'], ['5', '1', '10', '1', 'completed', '2013-10-02'], ['6', '2', '11', '6', 'completed', '2013-10-02'], ['7', '3', '12', '6', 'completed', '2013-10-02'], ['8', '2', '12', '12', 'completed', '2013-10-03'], ['9', '3', '10', '12', 'completed', '2013-10-03'], ['10', '4', '13', '12', 'cancelled_by_driver', '2013-10-03']]\n",
        "trips = pd.DataFrame(data, columns=['id', 'client_id', 'driver_id', 'city_id', 'status', 'request_at']).astype({'id':'Int64', 'client_id':'Int64', 'driver_id':'Int64', 'city_id':'Int64', 'status':'object', 'request_at':'object'})\n",
        "\n",
        "data = [['1', 'No', 'client'], ['2', 'Yes', 'client'], ['3', 'No', 'client'], ['4', 'No', 'client'], ['10', 'No', 'driver'], ['11', 'No', 'driver'], ['12', 'No', 'driver'], ['13', 'No', 'driver']]\n",
        "users = pd.DataFrame(data, columns=['users_id', 'banned', 'role']).astype({'users_id':'Int64', 'banned':'object', 'role':'object'})"
      ],
      "metadata": {
        "id": "O3oY7_WfL7Qb"
      },
      "execution_count": null,
      "outputs": []
    },
    {
      "cell_type": "code",
      "source": [
        "def trips_and_users(trips: pd.DataFrame, users: pd.DataFrame) -> pd.DataFrame:\n",
        "    banned_ids = users[users.banned == 'Yes'].users_id.values\n",
        "    df = trips[(trips.request_at.between('2013-10-01', '2013-10-03')) &\n",
        "        (~trips.client_id.isin(banned_ids)) &\n",
        "        (~trips.driver_id.isin(banned_ids))]\n",
        "    df = df.assign(cancelled = np.where(df.status.str.match('cancelled'), 1, 0))\\\n",
        "    .groupby('request_at')['cancelled'].agg(['sum', 'size']).reset_index().rename({\"request_at\": \"Day\"}, axis=1)\n",
        "\n",
        "\n",
        "    df['Cancellation Rate'] = (df['sum']/df['size']).round(2)\n",
        "    return df[['Day','Cancellation Rate']]"
      ],
      "metadata": {
        "id": "NRH5nvJbQP1Y"
      },
      "execution_count": null,
      "outputs": []
    },
    {
      "cell_type": "markdown",
      "source": [
        "601. Human Traffic of Stadium\n",
        "\n",
        "https://leetcode.com/problems/human-traffic-of-stadium/description/\n",
        "\n",
        "```sql\n",
        "-- Write your PostgreSQL query statement below\n",
        "SELECT\n",
        "id, visit_date, people\n",
        "FROM (\n",
        "SELECT\n",
        "*,\n",
        "LEAD(id) OVER (ORDER BY id) as ld,\n",
        "LAG(id) OVER (ORDER BY id) as lg,\n",
        "LEAD(id, 2) OVER (ORDER BY id) as ld2,\n",
        "LAG(id, 2) OVER (ORDER BY id) as lg2\n",
        "FROM Stadium\n",
        "WHERE people   >= 100) sub\n",
        "WHERE (id - lg = 1 AND ld - id = 1) OR\n",
        "      (id - lg = 1 AND id - lg2 = 2) OR\n",
        "      (ld - id = 1 AND ld2 - id = 2)\n",
        "ORDER BY visit_date\n",
        "```"
      ],
      "metadata": {
        "id": "19s54CRCbNFk"
      }
    },
    {
      "cell_type": "markdown",
      "source": [
        "Write a solution to display the records with three or more rows with consecutive id's, and the number of people is greater than or equal to 100 for each.\n",
        "\n",
        "Return the result table ordered by visit_date in ascending order.\n",
        "\n",
        "The result format is in the following example."
      ],
      "metadata": {
        "id": "nsiflFtqbdKq"
      }
    },
    {
      "cell_type": "code",
      "source": [
        "data = [[1, '2017-01-01', 10], [2, '2017-01-02', 109], [3, '2017-01-03', 150], [4, '2017-01-04', 99], [5, '2017-01-05', 145], [6, '2017-01-06', 1455], [7, '2017-01-07', 199], [8, '2017-01-09', 188]]\n",
        "stadium = pd.DataFrame(data, columns=['id', 'visit_date', 'people']).astype({'id':'Int64', 'visit_date':'datetime64[ns]', 'people':'Int64'})"
      ],
      "metadata": {
        "id": "F20LoOlIbRQT"
      },
      "execution_count": null,
      "outputs": []
    },
    {
      "cell_type": "code",
      "source": [
        "def human_traffic(stadium: pd.DataFrame) -> pd.DataFrame:\n",
        "    filtered = stadium[stadium.people.ge(100)]\n",
        "    return filtered.assign(lg1_diff = filtered.id.diff(1), ld1_diff = - filtered.id.diff(-1), lg2_diff = filtered.id.diff(2), ld2_diff = - filtered.id.diff(-2))\\\n",
        "                  .query(\"(lg1_diff == 1 & ld1_diff == 1) | \\\n",
        "                          (ld1_diff == 1 & ld2_diff == 2) | \\\n",
        "                          (lg1_diff == 1 & lg2_diff == 2)\", engine='python')\\\n",
        "                          .iloc[:,0:3].sort_values(by='visit_date')"
      ],
      "metadata": {
        "id": "WG3c_5IFbVkv"
      },
      "execution_count": null,
      "outputs": []
    },
    {
      "cell_type": "markdown",
      "source": [
        "3374. First Letter Capitalization II\n",
        "\n",
        "https://leetcode.com/problems/first-letter-capitalization-ii/description/\n",
        "\n",
        "```sql\n",
        "SELECT\n",
        "\tcontent_id,\n",
        "\tcontent_text AS original_text,\n",
        "  initcap(content_text)   AS converted_text\n",
        "FROM user_content\n",
        "```"
      ],
      "metadata": {
        "id": "rUH2rwVwigkR"
      }
    },
    {
      "cell_type": "code",
      "source": [
        "data = [[1, 'hello world of SQL'], [2, 'the QUICK-brown fox'], [3, 'modern-day DATA science'], [4, 'web-based FRONT-end development']]\n",
        "user_content = pd.DataFrame(data, columns=['content_id', 'content_text'])"
      ],
      "metadata": {
        "id": "jTmeo8Qwga80"
      },
      "execution_count": null,
      "outputs": []
    },
    {
      "cell_type": "code",
      "source": [
        "def capitalize_content(user_content: pd.DataFrame) -> pd.DataFrame:\n",
        "    user_content['converted_text'] = user_content.content_text.apply(lambda x: x.title())\n",
        "    return user_content.rename({'content_text': 'original_text'}, axis=1)"
      ],
      "metadata": {
        "id": "fqaREi0Rix69"
      },
      "execution_count": null,
      "outputs": []
    },
    {
      "cell_type": "markdown",
      "source": [
        "569. Median Employee Salary\n",
        "\n",
        "https://leetcode.com/problems/median-employee-salary/description/\n",
        "\n",
        "```sql\n",
        "SELECT id, company, salary FROM (\n",
        "SELECT\n",
        "company,\n",
        "id, salary,\n",
        "row_number() OVER (PARTITION BY company ORDER BY salary DESC, id DESC) -\n",
        "row_number() OVER (PARTITION BY company ORDER BY salary ASC, id ASC) as rn_delta,\n",
        "count(*) OVER (PARTITION BY company) AS  cnt\n",
        "FROM Employee\n",
        " ) sub\n",
        "--WHERE rn_delta <= 1 - (cnt * 1.0) % 2 AND rn_delta >= -1 + (cnt * 1.0) % 2\n",
        "WHERE rn_delta <= 1  AND rn_delta >= -1\n",
        "```"
      ],
      "metadata": {
        "id": "u-k9V537BbPL"
      }
    },
    {
      "cell_type": "markdown",
      "source": [
        "571. Find Median Given Frequency of Numbers\n",
        "\n",
        "https://leetcode.com/problems/find-median-given-frequency-of-numbers/description/\n",
        "\n",
        "```sql\n",
        "SELECT\n",
        "percentile_cont(0.5) WITHIN GROUP (ORDER BY num) as median FROM (\n",
        "SELECT num, generate_series(1, frequency)  FROM Numbers) sub\n",
        "```"
      ],
      "metadata": {
        "id": "iWCeYxzeXwoY"
      }
    },
    {
      "cell_type": "markdown",
      "source": [
        "579. Find Cumulative Salary of an Employee\n",
        "\n",
        "https://leetcode.com/problems/find-median-given-frequency-of-numbers/\n",
        "\n",
        "```sql\n",
        "WITH t as (\n",
        "SELECT\n",
        "id, generate_series(1, mm) as month\n",
        "FROM (\n",
        "SELECT\n",
        "id, max(month) - 1 as mm\n",
        "FROM Employee\n",
        "GROUP BY id) sub\n",
        "ORDER BY 1, 2),\n",
        "\n",
        "analytical_t as (\n",
        "SELECT\n",
        "id, month, COALESCE(salary, 0) as salary\n",
        "FROM t\n",
        "LEFT JOIN Employee USING (id, month)),\n",
        "\n",
        "full_table as (\n",
        "SELECT\n",
        "id, month,\n",
        "sum(salary) OVER (PARTITION BY id ORDER BY month ROWS BETWEEN 2 PRECEDING AND CURRENT ROW) as Salary\n",
        "FROM analytical_t)\n",
        "\n",
        "SELECT f.id, f.month, f.Salary FROM full_table f\n",
        "INNER JOIN Employee e USING(id, month)\n",
        "ORDER BY 1, 2 DESC\n",
        "```\n",
        "\n",
        "```sql\n",
        "SELECT e.id, e.month,\n",
        "    SUM(e2.Salary) as Salary\n",
        "FROM Employee e\n",
        "JOIN Employee e2 ON (e.Id = e2.Id AND e.Month >= e2.Month AND (e.Month - e2.Month <= 2))\n",
        "WHERE e.Month < (SELECT MAX(Month) from Employee where Id = e.Id)\n",
        "GROUP BY e.Id, e.Month\n",
        "ORDER BY e.Id, e.Month DESC\n",
        "```"
      ],
      "metadata": {
        "id": "xmTEsLkPXdRv"
      }
    },
    {
      "cell_type": "markdown",
      "source": [
        "1336. Number of Transactions per Visit\n",
        "\n",
        "https://leetcode.com/problems/number-of-transactions-per-visit/description/\n",
        "\n",
        "```sql\n",
        "WITH t as (\n",
        "SELECT\n",
        "v.user_id,\n",
        "v.visit_date,\n",
        "count(v.visit_date) as visit_count,\n",
        "count(t.amount) as trancations_count\n",
        "FROM Visits v\n",
        "LEFT JOIN Transactions t\n",
        "ON v.user_id = t.user_id AND  v.visit_date = t.transaction_date\n",
        "GROUP BY v.user_id, v.visit_date),\n",
        "\n",
        "t_cnts AS (\n",
        "SELECT\n",
        "generate_series(0, max(trancations_count)) as trancations_count_full\n",
        "FROM t\n",
        ")\n",
        "\n",
        "SELECT\n",
        "trancations_count_full as transactions_count,\n",
        "count(t.user_id) as visits_count\n",
        "FROM t_cnts\n",
        "LEFT JOIN t ON t.trancations_count = t_cnts.trancations_count_full\n",
        "GROUP BY trancations_count_full\n",
        "ORDER BY 1\n",
        "```"
      ],
      "metadata": {
        "id": "y7nbDQuaaOjR"
      }
    },
    {
      "cell_type": "code",
      "source": [
        "data = [[1, '2020-01-01'], [2, '2020-01-02'], [12, '2020-01-01'], [19, '2020-01-03'], [1, '2020-01-02'], [2, '2020-01-03'], [1, '2020-01-04'], [7, '2020-01-11'], [9, '2020-01-25'], [8, '2020-01-28']]\n",
        "visits = pd.DataFrame(data, columns=['user_id', 'visit_date']).astype({'user_id':'Int64', 'visit_date':'datetime64[ns]'})\n",
        "data = [[1, '2020-01-02', 120], [2, '2020-01-03', 22], [7, '2020-01-11', 232], [1, '2020-01-04', 7], [9, '2020-01-25', 33], [9, '2020-01-25', 66], [8, '2020-01-28', 1], [9, '2020-01-25', 99]]\n",
        "transactions = pd.DataFrame(data, columns=['user_id', 'transaction_date', 'amount']).astype({'user_id':'Int64', 'transaction_date':'datetime64[ns]', 'amount':'Int64'})"
      ],
      "metadata": {
        "id": "fgkie8ESBvOc"
      },
      "execution_count": null,
      "outputs": []
    },
    {
      "cell_type": "code",
      "source": [
        "transactions_in_visits = visits.merge(transactions, how='left', left_on=['user_id', 'visit_date'], right_on=['user_id', 'transaction_date']).groupby(['user_id', 'visit_date'], as_index=False).amount.count()\n",
        "all_t_cnt = pd.Series(list(range(max(transactions_in_visits.amount) + 1)), name='tcnt').to_frame()\n",
        "all_t_cnt = pd.Series(list(range(max(transactions_in_visits.amount) + 1)), name='transactions_count').to_frame()\n",
        "result = all_t_cnt.join(transactions_in_visits.groupby(['amount']).agg(visits_count = ('user_id', 'count')), how='left').fillna(0).sort_values(by=['transactions_count'])"
      ],
      "metadata": {
        "id": "gEEXmEF5bE3D"
      },
      "execution_count": null,
      "outputs": []
    },
    {
      "cell_type": "code",
      "source": [
        "def draw_chart(visits: pd.DataFrame, transactions: pd.DataFrame) -> pd.DataFrame:\n",
        "    transactions_in_visits = visits.merge(transactions,\n",
        "                                          how='left',\n",
        "                                          left_on=['user_id', 'visit_date'],\n",
        "                                          right_on=['user_id', 'transaction_date'])\\\n",
        "                                          .groupby(['user_id', 'visit_date'], as_index=False)\\\n",
        "                                          .amount.count()\n",
        "    all_t_cnt = pd.Series(list(range(max(transactions_in_visits.amount) + 1)), name='transactions_count')\\\n",
        "                  .to_frame()\n",
        "    result = all_t_cnt.join(transactions_in_visits\\\n",
        "                      .groupby(['amount'])\\\n",
        "                      .agg(visits_count = ('user_id', 'count')), how='left')\\\n",
        "                      .fillna(0)\\\n",
        "                      .sort_values(by=['transactions_count'])\n",
        "    return result"
      ],
      "metadata": {
        "id": "BI5Svl_jdj-A"
      },
      "execution_count": null,
      "outputs": []
    },
    {
      "cell_type": "markdown",
      "source": [
        "615. Average Salary: Departments VS Company\n",
        "\n",
        "https://leetcode.com/problems/average-salary-departments-vs-company/description/\n",
        "\n",
        "```sql\n",
        "WITH company_avg_salary AS (\n",
        "SELECT\n",
        "to_char(pay_date, 'YYYY-MM') AS month,\n",
        "round(avg(amount), 2) as avg_salary\n",
        "FROM Salary s\n",
        "GROUP BY to_char(pay_date, 'YYYY-MM')),\n",
        "\n",
        "dept_avg_salary AS (\n",
        "SELECT\n",
        "e.department_id,\n",
        "to_char(pay_date, 'YYYY-MM')  AS month,\n",
        "round(avg(amount), 2) as avg_salary\n",
        "FROM Salary s\n",
        "JOIN Employee e USING(employee_id)\n",
        "GROUP BY department_id , to_char(pay_date, 'YYYY-MM'))\n",
        "\n",
        "SELECT\n",
        "month as pay_month,\n",
        "department_id,\n",
        "CASE WHEN ds.avg_salary > cs.avg_salary THEN 'higher'\n",
        "     WHEN ds.avg_salary < cs.avg_salary THEN 'lower'\n",
        "     ELSE 'same' END AS comparison\n",
        "FROM dept_avg_salary ds\n",
        "LEFT JOIN company_avg_salary cs USING(month)\n",
        "```"
      ],
      "metadata": {
        "id": "AWdppSblkB4v"
      }
    },
    {
      "cell_type": "code",
      "source": [
        "data = [[1, 1, 9000, '2017/03/31'], [2, 2, 6000, '2017/03/31'], [3, 3, 10000, '2017/03/31'], [4, 1, 7000, '2017/02/28'], [5, 2, 6000, '2017/02/28'], [6, 3, 8000, '2017/02/28']]\n",
        "salary = pd.DataFrame(data, columns=['id', 'employee_id', 'amount', 'pay_date']).astype({'id':'Int64', 'employee_id':'Int64', 'amount':'Int64', 'pay_date':'datetime64[ns]'})\n",
        "data = [[1, 1], [2, 2], [3, 2]]\n",
        "employee = pd.DataFrame(data, columns=['employee_id', 'department_id']).astype({'employee_id':'Int64', 'department_id':'Int64'})"
      ],
      "metadata": {
        "id": "5Oo7BWqbfQjF"
      },
      "execution_count": null,
      "outputs": []
    },
    {
      "cell_type": "code",
      "source": [
        "import numpy as np"
      ],
      "metadata": {
        "id": "4KFr1mDMn3Vo"
      },
      "execution_count": null,
      "outputs": []
    },
    {
      "cell_type": "code",
      "source": [
        "def average_salary(salary: pd.DataFrame, employee: pd.DataFrame) -> pd.DataFrame:\n",
        "    salary['pay_month'] = salary.pay_date.dt.to_period('M').astype(str)\n",
        "    comp_avg_salary = salary.groupby(['pay_month'])\\\n",
        "                            .agg(comp_avg_salary = ('amount', 'mean'))\\\n",
        "                            .reset_index()\n",
        "    dept_avg_salary = salary.merge(employee, how='inner', on='employee_id')\\\n",
        "                            .groupby(['department_id', 'pay_month'])\\\n",
        "                            .agg(dept_avg_salary = ('amount', 'mean'))\\\n",
        "                            .reset_index()\n",
        "    agg_salaries =  dept_avg_salary.merge(comp_avg_salary, how='inner', on='pay_month')\n",
        "    agg_salaries['comparison'] = np.where(agg_salaries.dept_avg_salary > agg_salaries.comp_avg_salary,\n",
        "                                            'higher',\n",
        "                                            np.where(agg_salaries.dept_avg_salary < agg_salaries.comp_avg_salary,\n",
        "                                                    'lower',\n",
        "                                                    'same'))\n",
        "    return agg_salaries[['pay_month','department_id', 'comparison']]"
      ],
      "metadata": {
        "id": "VflsZH-ho9aQ"
      },
      "execution_count": null,
      "outputs": []
    },
    {
      "cell_type": "markdown",
      "source": [
        "618. Students Report By Geography\n",
        "\n",
        "https://leetcode.com/problems/students-report-by-geography/description/\n",
        "\n",
        "```sql\n",
        "SELECT\n",
        "max(name) FILTER (WHERE continent = 'America') as America,\n",
        "max(name) FILTER (WHERE continent = 'Asia') as Asia,\n",
        "max(name) FILTER (WHERE continent = 'Europe') as Europe\n",
        "FROM\n",
        "(SELECT *,\n",
        "row_number() OVER (PARTITION BY continent order by name) as rn\n",
        "FROM Student)\n",
        "GROUP BY rn\n",
        "ORDER BY rn\n",
        "```"
      ],
      "metadata": {
        "id": "1Ejz5VsayCrg"
      }
    },
    {
      "cell_type": "code",
      "source": [
        "data = [['Jane', 'America'], ['Pascal', 'Europe'], ['Xi', 'Asia'], ['Jack', 'America']]\n",
        "student = pd.DataFrame(data, columns=['name', 'continent']).astype({'name':'object', 'continent':'object'})"
      ],
      "metadata": {
        "id": "QK4hZo_nyJln"
      },
      "execution_count": null,
      "outputs": []
    },
    {
      "cell_type": "code",
      "source": [
        "def geography_report(student: pd.DataFrame) -> pd.DataFrame:\n",
        "    student = pd.concat([student, pd.DataFrame([[None, 'Europe'], [None, 'Asia']], columns=student.columns)], axis=0)\n",
        "    student = student.sort_values('name')\n",
        "    student['order'] = student.groupby('continent').cumcount()\n",
        "    result = student.pivot(index='order', columns = 'continent', values = 'name').reset_index(drop=True)\n",
        "    return result.dropna(how='all')"
      ],
      "metadata": {
        "id": "YW9DgFFx_QBY"
      },
      "execution_count": null,
      "outputs": []
    },
    {
      "cell_type": "markdown",
      "source": [
        "1097. Game Play Analysis V\n",
        "\n",
        "https://leetcode.com/problems/game-play-analysis-v/description/\n",
        "\n",
        "```sql\n",
        "WITH t AS (\n",
        "SELECT\n",
        "player_id, event_date,\n",
        "first_value(event_date) OVER (PARTITION BY player_id  ORDER BY event_date) as install_dt ,\n",
        "event_date - first_value(event_date) OVER (PARTITION BY player_id  ORDER BY event_date) as ret\n",
        "FROM Activity a)\n",
        "\n",
        "SELECT\n",
        "install_dt,\n",
        "count(DISTINCT player_id) as installs,\n",
        "round(count(DISTINCT player_id) FILTER (WHERE ret=1) * 1.0 / count(DISTINCT player_id), 2) as Day1_retention\n",
        "FROM t\n",
        "GROUP BY install_dt\n",
        "```"
      ],
      "metadata": {
        "id": "sa0EcY5roJr8"
      }
    },
    {
      "cell_type": "markdown",
      "source": [
        "1127. User Purchase Platform\n",
        "\n",
        "https://leetcode.com/problems/user-purchase-platform/description/\n",
        "\n",
        "```sql\n",
        "WITH analytical AS (\n",
        "SELECT\n",
        "    spend_date,\n",
        "    platform\n",
        "FROM\n",
        "(SELECT UNNEST(ARRAY['desktop', 'mobile', 'both']) platform),\n",
        "(SELECT DISTINCT spend_date  FROM Spending) as spend_date),\n",
        "\n",
        "t as (\n",
        "SELECT\n",
        "    user_id, spend_date,\n",
        "    sum(amount) as total_amount ,\n",
        "    count(DISTINCT user_id) as total_users ,\n",
        "    max(CASE WHEN platform = 'mobile' THEN 1 ELSE 0 END)  +\n",
        "    max(CASE WHEN platform = 'desktop' THEN 10 ELSE 0 END) AS platform\n",
        "FROM Spending\n",
        "GROUP BY user_id, spend_date),\n",
        "\n",
        "\n",
        "data as (\n",
        "\n",
        "SELECT\n",
        "    spend_date,\n",
        "    CASE WHEN platform = 1 THEN 'mobile' WHEN platform = 10 THEN 'desktop' ELSE 'both' END as platform,\n",
        "    sum(total_amount) as total_amount,\n",
        "    sum(total_users) as total_users\n",
        "FROM t\n",
        "GROUP BY  spend_date, platform)\n",
        "\n",
        "SELECT\n",
        "    a.spend_date,\n",
        "    a.platform,\n",
        "    coalesce(sum(d.total_amount), 0) as total_amount,\n",
        "    coalesce(sum(d.total_users), 0) as total_users\n",
        "FROM data d\n",
        "RIGHT JOIN analytical a USING(platform, spend_date)\n",
        "GROUP BY  a.spend_date, a.platform\n",
        "```"
      ],
      "metadata": {
        "id": "w80bUVe4FpuA"
      }
    },
    {
      "cell_type": "markdown",
      "source": [
        "1194. Tournament Winners\n",
        "\n",
        "https://leetcode.com/problems/tournament-winners/description/\n",
        "\n",
        "```sql\n",
        "WITH all_matches AS (\n",
        "\n",
        "(SELECT\n",
        "    first_player as player_id,\n",
        "    first_score as score\n",
        "FROM Matches)\n",
        "\n",
        "UNION ALL\n",
        "\n",
        "(SELECT\n",
        "    second_player as player_id,\n",
        "    second_score  as score\n",
        "FROM Matches)),\n",
        "\n",
        "players_ranked AS (\n",
        "SELECT DISTINCT\n",
        "    player_id,\n",
        "    group_id,\n",
        "    rank() OVER (PARTITION BY group_id ORDER BY sum(score) DESC, player_id)  as rnk\n",
        "FROM\n",
        "    all_matches m\n",
        "INNER JOIN Players p USING (player_id)\n",
        "GROUP BY player_id, group_id)\n",
        "\n",
        "\n",
        "SELECT\n",
        "    group_id,\n",
        "    player_id\n",
        "FROM players_ranked\n",
        "WHERE rnk = 1\n",
        "```"
      ],
      "metadata": {
        "id": "nb79nj8vOxvt"
      }
    },
    {
      "cell_type": "markdown",
      "source": [
        "1225. Report Contiguous Dates\n",
        "\n",
        "https://leetcode.com/problems/report-contiguous-dates/description/\n",
        "\n",
        "```sql\n",
        "WITH t as (\n",
        "SELECT\n",
        "  'succeeded' flag,\n",
        "  success_date as dates     \n",
        "FROM Succeeded\n",
        "\n",
        "UNION ALL\n",
        "\n",
        "SELECT\n",
        "  'failed',\n",
        "  fail_date as dates     \n",
        "FROM Failed ),\n",
        "\n",
        "t2 as (\n",
        "SELECT\n",
        "*,\n",
        "row_number() OVER (ORDER BY dates) -\n",
        "dense_rank() OVER (PARTITION BY flag ORDER BY dates)  as delta\n",
        "FROM t\n",
        "WHERE dates BETWEEN '2019-01-01' AND '2019-12-31')\n",
        "\n",
        "SELECT\n",
        "  flag as period_state ,\n",
        "  min(dates) as start_date  ,\n",
        "  max(dates) as end_date\n",
        "FROM t2\n",
        "GROUP BY flag,delta\n",
        "ORDER BY 2\n",
        "```"
      ],
      "metadata": {
        "id": "aV-MuHR_Z1PE"
      }
    },
    {
      "cell_type": "markdown",
      "source": [
        "1369. Get the Second Most Recent Activity\n",
        "\n",
        "https://leetcode.com/problems/get-the-second-most-recent-activity/description/\n",
        "\n",
        "```sql\n",
        "SELECT\n",
        "  username,\n",
        "  activity,\n",
        "  startDate,\n",
        "  endDate\n",
        "FROM (\n",
        "SELECT\n",
        "  *,\n",
        "  row_number() OVER (PARTITION BY username   ORDER BY endDate DESC) as rn,\n",
        "  count(activity) OVER (PARTITION BY username) as cnt\n",
        "FROM UserActivity) sub\n",
        "WHERE sub.rn = 2 or sub.cnt = 1\n",
        "```"
      ],
      "metadata": {
        "id": "3Oe_bMFzfodR"
      }
    },
    {
      "cell_type": "markdown",
      "source": [
        "1412. Find the Quiet Students in All Exams\n",
        "\n",
        "https://leetcode.com/problems/find-the-quiet-students-in-all-exams/description/\n",
        "\n",
        "```sql\n",
        "WITH exam_scores AS (\n",
        "    SELECT\n",
        "        exam_id,\n",
        "        MIN(score) AS min_score,\n",
        "        MAX(score) AS max_score\n",
        "    FROM Exam\n",
        "    GROUP BY exam_id\n",
        "),\n",
        "\n",
        "quiet_student_ids as (\n",
        "SELECT\n",
        "  e.student_id\n",
        "FROM Exam e\n",
        "INNER JOIN exam_scores USING(exam_id)\n",
        "GROUP BY student_id\n",
        "HAVING count(exam_id) FILTER (WHERE e.score > min_score AND e.score < max_score) = count(exam_id)\n",
        ")\n",
        "\n",
        "\n",
        "SELECT\n",
        "  s.*\n",
        "FROM quiet_student_ids\n",
        "INNER JOIN Student s USING(student_id)\n",
        "```"
      ],
      "metadata": {
        "id": "OBpwkBmSuCaW"
      }
    },
    {
      "cell_type": "markdown",
      "source": [
        "1479. Sales by Day of the Week\n",
        "\n",
        "https://leetcode.com/problems/sales-by-day-of-the-week/description/\n",
        "\n",
        "```sql\n",
        "\n",
        "WITH weekday_sales AS (\n",
        "SELECT\n",
        "  i.item_category,\n",
        "  to_char(order_date, 'DAY') as weekdays,\n",
        "  sum(quantity) as items_cnt\n",
        "FROM Orders\n",
        "RIGHT JOIN Items i USING(item_id)\n",
        "GROUP BY i.item_category, to_char(order_date, 'DAY'))\n",
        "\n",
        "\n",
        "SELECT\n",
        "  item_category as CATEGORY,\n",
        "  SUM(CASE WHEN TRIM(weekdays) = 'MONDAY' THEN items_cnt ELSE 0 END) AS MONDAY,\n",
        "  SUM(CASE WHEN TRIM(weekdays) = 'TUESDAY' THEN items_cnt ELSE 0 END) AS TUESDAY,\n",
        "  SUM(CASE WHEN TRIM(weekdays) = 'WEDNESDAY' THEN items_cnt ELSE 0 END) AS WEDNESDAY,\n",
        "  SUM(CASE WHEN TRIM(weekdays) = 'THURSDAY' THEN items_cnt ELSE 0 END) AS THURSDAY,\n",
        "  SUM(CASE WHEN TRIM(weekdays) = 'FRIDAY' THEN items_cnt ELSE 0 END) AS FRIDAY,\n",
        "  SUM(CASE WHEN TRIM(weekdays) = 'SATURDAY' THEN items_cnt ELSE 0 END) AS SATURDAY,\n",
        "  SUM(CASE WHEN TRIM(weekdays) = 'SUNDAY' THEN items_cnt ELSE 0 END) AS SUNDAY\n",
        "FROM weekday_sales\n",
        "GROUP BY item_category\n",
        "ORDER BY 1\n",
        "```"
      ],
      "metadata": {
        "id": "PZDjINDG3BHB"
      }
    },
    {
      "cell_type": "code",
      "source": [],
      "metadata": {
        "id": "yOtANxdmFpg-"
      },
      "execution_count": null,
      "outputs": []
    },
    {
      "cell_type": "code",
      "source": [],
      "metadata": {
        "id": "_LrlX3PIxQBA"
      },
      "execution_count": null,
      "outputs": []
    }
  ]
}