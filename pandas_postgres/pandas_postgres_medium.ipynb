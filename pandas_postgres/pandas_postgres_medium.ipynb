{
  "nbformat": 4,
  "nbformat_minor": 0,
  "metadata": {
    "colab": {
      "provenance": [],
      "authorship_tag": "ABX9TyOg9bH9x1PDK51/OzmqRgpj",
      "include_colab_link": true
    },
    "kernelspec": {
      "name": "python3",
      "display_name": "Python 3"
    },
    "language_info": {
      "name": "python"
    }
  },
  "cells": [
    {
      "cell_type": "markdown",
      "metadata": {
        "id": "view-in-github",
        "colab_type": "text"
      },
      "source": [
        "<a href=\"https://colab.research.google.com/github/aleks-haksly/leetcode/blob/main/pandas_postgres/pandas_postgres_medium.ipynb\" target=\"_parent\"><img src=\"https://colab.research.google.com/assets/colab-badge.svg\" alt=\"Open In Colab\"/></a>"
      ]
    },
    {
      "cell_type": "code",
      "source": [
        "import pandas as pd"
      ],
      "metadata": {
        "id": "cCLIcJ3PfWNR"
      },
      "execution_count": 2,
      "outputs": []
    },
    {
      "cell_type": "markdown",
      "source": [
        "176. Second Highest Salary\n",
        "\n",
        "https://leetcode.com/problems/second-highest-salary/description/\n",
        "\n",
        "```sql\n",
        "SELECT max(salary) as SecondHighestSalary\n",
        "FROM (\n",
        "SELECT\n",
        "    id, salary,\n",
        "    dense_rank() OVER (ORDER BY salary DESC) AS rn\n",
        "FROM Employee e)\n",
        "WHERE rn = 2\n",
        "```"
      ],
      "metadata": {
        "id": "HpCi5KDkEKOV"
      }
    },
    {
      "cell_type": "code",
      "source": [
        "data = [[1, 100], [2, 200], [3, 300]]\n",
        "employee = pd.DataFrame(data, columns=['id', 'salary']).astype({'id':'int64', 'salary':'int64'})"
      ],
      "metadata": {
        "id": "pcV90IlBEL8G"
      },
      "execution_count": null,
      "outputs": []
    },
    {
      "cell_type": "code",
      "source": [
        "def second_highest_salary(employee: pd.DataFrame) -> pd.DataFrame:\n",
        "    result = employee.assign(rn = employee.salary.rank(method='dense', ascending=False)).query(\"rn == 2\")[['salary']].rename({\"salary\":\"SecondHighestSalary\"}, axis=1)\n",
        "    return result.head(1) if result.shape[0] else pd.DataFrame([{\"SecondHighestSalary\": None}])"
      ],
      "metadata": {
        "id": "4QO06x1gENsK"
      },
      "execution_count": null,
      "outputs": []
    },
    {
      "cell_type": "markdown",
      "source": [
        "177. Nth Highest Salary\n",
        "\n",
        "https://leetcode.com/problems/nth-highest-salary/description/\n",
        "\n",
        "```sql\n",
        "CREATE OR REPLACE FUNCTION NthHighestSalary(N INT) RETURNS TABLE (Salary INT) AS $$\n",
        "BEGIN\n",
        "  RETURN QUERY (\n",
        "    -- Write your PostgreSQL query statement below.\n",
        "    SELECT max(sub.salary) FROM (\n",
        "    SELECT\n",
        "        e.salary,\n",
        "        dense_rank() OVER (ORDER BY e.salary DESC) as rn\n",
        "    FROM Employee e) sub\n",
        "    WHERE sub.rn = N\n",
        "      \n",
        "  );\n",
        "END;\n",
        "$$ LANGUAGE plpgsql;\n",
        "```"
      ],
      "metadata": {
        "id": "HQRTGKTCMWL_"
      }
    },
    {
      "cell_type": "code",
      "source": [
        "data = [[1, 100], [2, 200], [3, 300]]\n",
        "employee = pd.DataFrame(data, columns=['Id', 'Salary']).astype({'Id':'Int64', 'Salary':'Int64'})"
      ],
      "metadata": {
        "id": "o3RF_HuIMLLz"
      },
      "execution_count": null,
      "outputs": []
    },
    {
      "cell_type": "code",
      "source": [
        "def nth_highest_salary(employee: pd.DataFrame, N: int) -> pd.DataFrame:\n",
        "    result = employee.assign(rn = employee.salary.rank(method='dense', ascending=False)).query(\"rn == @N\")[['salary']].rename({\"salary\":f\"getNthHighestSalary({N})\"}, axis=1)\n",
        "    return result.head(1) if result.shape[0] else pd.DataFrame([{f\"getNthHighestSalary({N})\": None}])"
      ],
      "metadata": {
        "id": "siT7JR4_MhRD"
      },
      "execution_count": null,
      "outputs": []
    },
    {
      "cell_type": "markdown",
      "source": [
        "178. Rank Scores\n",
        "\n",
        "https://leetcode.com/problems/rank-scores/description/\n",
        "\n",
        "```sql\n",
        "SELECT\n",
        "    score,\n",
        "    dense_rank() OVER (ORDER BY score DESC) as rank\n",
        "FROM Scores\n",
        "ORDER BY score DESC\n",
        "```"
      ],
      "metadata": {
        "id": "kjLWudLoNc2V"
      }
    },
    {
      "cell_type": "code",
      "source": [
        "data = [[1, 3.5], [2, 3.65], [3, 4.0], [4, 3.85], [5, 4.0], [6, 3.65]]\n",
        "scores = pd.DataFrame(data, columns=['id', 'score']).astype({'id':'Int64', 'score':'Float64'})"
      ],
      "metadata": {
        "id": "RaJ3TLfFMj03"
      },
      "execution_count": null,
      "outputs": []
    },
    {
      "cell_type": "code",
      "source": [
        "def order_scores(scores: pd.DataFrame) -> pd.DataFrame:\n",
        "    return scores.assign(rank = scores.score.rank(method='dense', ascending=False))[['score','rank']].sort_values(by='score', ascending=False)"
      ],
      "metadata": {
        "id": "uxpk7XqkNk_T"
      },
      "execution_count": null,
      "outputs": []
    },
    {
      "cell_type": "markdown",
      "source": [
        "180. Consecutive Numbers\n",
        "\n",
        "https://leetcode.com/problems/consecutive-numbers/\n",
        "\n",
        "```sql\n",
        "-- Write your PostgreSQL query statement below\n",
        "SELECT\n",
        "    DISTINCT consecutivenums FROM (\n",
        "SELECT\n",
        "    num as ConsecutiveNums,\n",
        "    lag(num) OVER (ORDER BY id) as b,\n",
        "    lead(num) OVER (ORDER BY id) as a\n",
        " FROM Logs) sub\n",
        " WHERE ConsecutiveNums = a AND ConsecutiveNums = b\n",
        " ```\n"
      ],
      "metadata": {
        "id": "wyEUJqjywPCD"
      }
    },
    {
      "cell_type": "code",
      "source": [
        "data = [[1, 1], [2, 1], [3, 1], [4, 2], [5, 1], [6, 2], [7, 2]]\n",
        "logs = pd.DataFrame(data, columns=['id', 'num']).astype({'id':'Int64', 'num':'Int64'})"
      ],
      "metadata": {
        "id": "NMpKlYpmNqik"
      },
      "execution_count": null,
      "outputs": []
    },
    {
      "cell_type": "code",
      "source": [
        "def consecutive_numbers(logs: pd.DataFrame) -> pd.DataFrame:\n",
        "    condition = ((logs.num.shift(1) == logs.num) & ((logs.num.shift(-1) == logs.num)))\n",
        "    return logs[condition]['num'].drop_duplicates().rename('ConsecutiveNums').to_frame()"
      ],
      "metadata": {
        "id": "XyhIixjbydRW"
      },
      "execution_count": null,
      "outputs": []
    },
    {
      "cell_type": "markdown",
      "source": [
        "184. Department Highest Salary\n",
        "\n",
        "https://leetcode.com/problems/department-highest-salary/description/\n",
        "\n",
        "```sql\n",
        "SELECT\n",
        "    d.name AS Department,\n",
        "    sub.Employee,\n",
        "    sub.Salary\n",
        "FROM (\n",
        "SELECT\n",
        "    e.departmentId,\n",
        "    e.name AS Employee ,\n",
        "    salary AS Salary,\n",
        "    RANK() OVER (PARTITION BY departmentId ORDER BY Salary DESC) as rnk\n",
        "FROM Employee e) sub\n",
        "LEFT JOIN Department d ON sub.departmentId = d.id\n",
        "WHERE sub.rnk = 1\n",
        "```"
      ],
      "metadata": {
        "id": "XckxWJ3ZzDKb"
      }
    },
    {
      "cell_type": "code",
      "source": [
        "data = [[1, 'Joe', 70000, 1], [2, 'Jim', 90000, 1], [3, 'Henry', 80000, 2], [4, 'Sam', 60000, 2], [5, 'Max', 90000, 1]]\n",
        "employee = pd.DataFrame(data, columns=['id', 'name', 'salary', 'departmentId']).astype({'id':'Int64', 'name':'object', 'salary':'Int64', 'departmentId':'Int64'})\n",
        "data = [[1, 'IT'], [2, 'Sales']]\n",
        "department = pd.DataFrame(data, columns=['id', 'name']).astype({'id':'Int64', 'name':'object'})"
      ],
      "metadata": {
        "id": "men64bJfy17K"
      },
      "execution_count": null,
      "outputs": []
    },
    {
      "cell_type": "code",
      "source": [
        "def department_highest_salary(employee: pd.DataFrame, department: pd.DataFrame) -> pd.DataFrame:\n",
        "    return employee[employee.groupby('departmentId')['salary']\\\n",
        "                    .rank(method='min', ascending=False) == 1].merge(department, how='left', left_on='departmentId', right_on='id')\\\n",
        "                    .rename({\"name_y\": \"Department\", \"name_x\": \"Employee\", \"salary\": \"Salary\"}, axis=1)[[\"Department\", \"Employee\", \"Salary\"]]"
      ],
      "metadata": {
        "id": "9Hu0diZVzNRo"
      },
      "execution_count": null,
      "outputs": []
    },
    {
      "cell_type": "markdown",
      "source": [
        "550. Game Play Analysis IV\n",
        "\n",
        "https://leetcode.com/problems/game-play-analysis-iv/\n",
        "\n",
        "```sql\n",
        "-- Write your PostgreSQL query statement below\n",
        "WITH t AS (\n",
        "SELECT\n",
        "    a.player_id,\n",
        "    min(a.event_date) + INTERVAL '1 day ' as next_day\n",
        "FROM Activity a\n",
        "GROUP BY a.player_id )\n",
        "\n",
        "SELECT\n",
        "ROUND(COUNT(a.player_id)*1.0 / (SELECT COUNT(DISTINCT player_id) FROM Activity), 2) AS fraction  \n",
        "FROM Activity a\n",
        "JOIN t ON a.player_id = t.player_id AND t.next_day = a.event_date\n",
        "\n",
        "```"
      ],
      "metadata": {
        "id": "k31yVcT352eX"
      }
    },
    {
      "cell_type": "code",
      "source": [
        "data = [[1, 2, '2016-03-01', 5], [1, 2, '2016-03-02', 6], [2, 3, '2017-06-25', 1], [3, 1, '2016-03-02', 0], [3, 4, '2018-07-03', 5]]\n",
        "activity = pd.DataFrame(data, columns=['player_id', 'device_id', 'event_date', 'games_played']).astype({'player_id':'Int64', 'device_id':'Int64', 'event_date':'datetime64[ns]', 'games_played':'Int64'})"
      ],
      "metadata": {
        "id": "_N7UWnZa57_6"
      },
      "execution_count": null,
      "outputs": []
    },
    {
      "cell_type": "code",
      "source": [
        "def gameplay_analysis(activity: pd.DataFrame) -> pd.DataFrame:\n",
        "    next_day = activity.groupby(\"player_id\").event_date.apply(lambda x: x.min() + pd.DateOffset(days=1))\n",
        "    fraction = round(activity.assign(next_day=activity.player_id.map(next_day)).query(\"event_date == next_day\").player_id.nunique() / activity.player_id.nunique(), 2)\n",
        "    return pd.DataFrame([fraction], columns=['fraction'], index=[0])"
      ],
      "metadata": {
        "id": "jcbuDfJS58fO"
      },
      "execution_count": null,
      "outputs": []
    },
    {
      "cell_type": "markdown",
      "source": [
        "570. Managers with at Least 5 Direct Reports\n",
        "\n",
        "https://leetcode.com/problems/managers-with-at-least-5-direct-reports/description/\n",
        "\n",
        "```sql\n",
        "SELECT\n",
        "    e1.name\n",
        "FROM Employee e1\n",
        "JOIN Employee e2 ON e1.id = e2.managerId\n",
        "GROUP BY e1.id, e1.name\n",
        "HAVING count(e2.managerId) >= 5\n",
        "```"
      ],
      "metadata": {
        "id": "E5Q12FwXAay1"
      }
    },
    {
      "cell_type": "code",
      "source": [
        "data = [[101, 'John', 'A', None], [102, 'Dan', 'A', 101], [103, 'James', 'A', 101], [104, 'Amy', 'A', 101], [105, 'Anne', 'A', 101], [106, 'Ron', 'B', 101]]\n",
        "employee = pd.DataFrame(data, columns=['id', 'name', 'department', 'managerId']).astype({'id':'Int64', 'name':'object', 'department':'object', 'managerId':'Int64'})"
      ],
      "metadata": {
        "id": "hVVNObj5_DXf"
      },
      "execution_count": null,
      "outputs": []
    },
    {
      "cell_type": "code",
      "source": [
        "def find_managers(employee: pd.DataFrame) -> pd.DataFrame:\n",
        "    filtered = employee.groupby('managerId', ).agg(reporting = ('id', 'count')).query('reporting >=5', engine='python')\n",
        "    return employee[employee.id.isin(filtered.index)][['name']]"
      ],
      "metadata": {
        "id": "enVmCaeBAh6e"
      },
      "execution_count": null,
      "outputs": []
    },
    {
      "cell_type": "code",
      "source": [],
      "metadata": {
        "id": "zj7FYqP8BfEk"
      },
      "execution_count": null,
      "outputs": []
    },
    {
      "cell_type": "markdown",
      "source": [
        "585. Investments in 2016\n",
        "\n",
        "https://leetcode.com/problems/investments-in-2016/description/\n",
        "\n",
        "```sql\n",
        "WITH uniqu_ltt AS(\n",
        "SELECT\n",
        "    lat::text||' '||lon::text as ltconc\n",
        "FROM Insurance i\n",
        "GROUP BY lat::text||' '||lon::text\n",
        "HAVING count(*) = 1),\n",
        "\n",
        "repeted_tiv AS (\n",
        "SELECT\n",
        "tiv_2015\n",
        "FROM Insurance i\n",
        "GROUP BY tiv_2015\n",
        "HAVING COUNT(tiv_2015) > 1)\n",
        "\n",
        "SELECT\n",
        "ROUND(sum(tiv_2016)::NUMERIC, 2) as tiv_2016\n",
        "FROM Insurance\n",
        "WHERE tiv_2015 in (SELECT tiv_2015 FROM repeted_tiv) AND lat::text||' '||lon::text IN (SELECT ltconc FROM uniqu_ltt)\n",
        "```"
      ],
      "metadata": {
        "id": "oyhnsdPkG_0r"
      }
    },
    {
      "cell_type": "code",
      "source": [
        "data = [[1, 10, 5, 10, 10], [2, 20, 20, 20, 20], [3, 10, 30, 20, 20], [4, 10, 40, 40, 40]]\n",
        "insurance = pd.DataFrame(data, columns=['pid', 'tiv_2015', 'tiv_2016', 'lat', 'lon']).astype({'pid':'Int64', 'tiv_2015':'Float64', 'tiv_2016':'Float64', 'lat':'Float64', 'lon':'Float64'})"
      ],
      "metadata": {
        "id": "Ofxkdjc_Jr7T"
      },
      "execution_count": null,
      "outputs": []
    },
    {
      "cell_type": "code",
      "source": [
        "def find_investments(insurance: pd.DataFrame) -> pd.DataFrame:\n",
        "    uniqu_ltt  = insurance.assign(ltconc = insurance.lat.astype(str).str.cat(insurance.lon.astype(str), sep=' ')).groupby('ltconc').agg(ltconc=('pid', 'count')).query(\"ltconc == 1\", engine='python').index\n",
        "    repeted_tiv  = insurance.groupby('tiv_2015').agg(tiv_2015_cnt = ('tiv_2015', 'count')).query(\"tiv_2015_cnt > 1\", engine='python').index\n",
        "    tiv_2016 = insurance[insurance.tiv_2015.isin(repeted_tiv) & insurance.lat.astype(str).str.cat(insurance.lon.astype(str), sep=' ').isin(uniqu_ltt)].tiv_2016.sum().round(2)\n",
        "    return pd.DataFrame([tiv_2016], columns=['tiv_2016'], index=[0])"
      ],
      "metadata": {
        "id": "JwcxQvhlJutz"
      },
      "execution_count": null,
      "outputs": []
    },
    {
      "cell_type": "markdown",
      "source": [
        "602. Friend Requests II: Who Has the Most Friends\n",
        "\n",
        "https://leetcode.com/problems/friend-requests-ii-who-has-the-most-friends/description/\n",
        "\n",
        "```sql\n",
        "WITH temp as\n",
        "(SELECT requester_id as id FROM RequestAccepted\n",
        "UNION ALL\n",
        "SELECT accepter_id as id FROM RequestAccepted)\n",
        "\n",
        "SELECT id, COUNT(id) as num FROM temp GROUP BY id\n",
        "ORDER BY num DESC LIMIT 1\n",
        "```"
      ],
      "metadata": {
        "id": "UJQunGqPOjs_"
      }
    },
    {
      "cell_type": "code",
      "source": [
        "data = [[1, 2, '2016/06/03'], [1, 3, '2016/06/08'], [2, 3, '2016/06/08'], [3, 4, '2016/06/09']]\n",
        "request_accepted = pd.DataFrame(data, columns=['requester_id', 'accepter_id', 'accept_date']).astype({'requester_id':'Int64', 'accepter_id':'Int64', 'accept_date':'datetime64[ns]'})"
      ],
      "metadata": {
        "id": "LmeXjXJJNUdK"
      },
      "execution_count": null,
      "outputs": []
    },
    {
      "cell_type": "code",
      "source": [
        "def most_friends(request_accepted: pd.DataFrame) -> pd.DataFrame:\n",
        "    result = request_accepted.requester_id.to_list() + request_accepted.accepter_id.to_list()\n",
        "    return pd.DataFrame(result, columns=['id'], index=range(len(result))).value_counts().sort_values(ascending=False).head(1).reset_index(name='num')"
      ],
      "metadata": {
        "id": "8AdvWZQCVl_a"
      },
      "execution_count": null,
      "outputs": []
    },
    {
      "cell_type": "code",
      "source": [
        "import pandas as pd\n",
        "from collections import Counter\n",
        "\n",
        "def most_friends(request_accepted: pd.DataFrame) -> pd.DataFrame:\n",
        "    c = Counter(request_accepted.requester_id)\n",
        "    c.update(request_accepted.accepter_id)\n",
        "    return pd.DataFrame(c.most_common()[:1], columns=['id', 'num'], index=[0])"
      ],
      "metadata": {
        "id": "etgfORvKWD-J"
      },
      "execution_count": null,
      "outputs": []
    },
    {
      "cell_type": "markdown",
      "source": [
        "608. Tree Node\n",
        "\n",
        "https://leetcode.com/problems/tree-node/description/\n",
        "\n",
        "```sql\n",
        "SELECT\n",
        "    id,\n",
        "    CASE WHEN p_id IS NULL THEN 'Root'\n",
        "         WHEN id in (SELECT p_id FROM Tree) THEN 'Inner'\n",
        "         ELSE 'Leaf' END as \"type\"\n",
        "FROM Tree\n",
        "```"
      ],
      "metadata": {
        "id": "a-_cPtpgakB9"
      }
    },
    {
      "cell_type": "code",
      "source": [
        "data = [[1, None], [2, 1], [3, 1], [4, 2], [5, 2]]\n",
        "tree = pd.DataFrame(data, columns=['id', 'p_id']).astype({'id':'Int64', 'p_id':'Int64'})"
      ],
      "metadata": {
        "id": "6MBXWXC-YwVb"
      },
      "execution_count": null,
      "outputs": []
    },
    {
      "cell_type": "code",
      "source": [
        "import numpy as np\n",
        "\n",
        "def tree_node(tree: pd.DataFrame) -> pd.DataFrame:\n",
        "    tree[\"type\"] = np.where(tree.p_id.isna(), 'Root',\n",
        "                        np.where(~tree.id.isin(tree.p_id), 'Leaf', 'Inner'))\n",
        "    return tree[['id', 'type']]"
      ],
      "metadata": {
        "id": "HfOr8rmNb38x"
      },
      "execution_count": null,
      "outputs": []
    },
    {
      "cell_type": "markdown",
      "source": [
        "626. Exchange Seats\n",
        "\n",
        "https://leetcode.com/problems/exchange-seats/description/\n",
        "\n",
        "```sql\n",
        "SELECT\n",
        "id,\n",
        "CASE WHEN id % 2 = 1 THEN LEAD(student, 1, student) OVER (ORDER BY id)\n",
        "    ELSE LAG(student, 1, student) OVER (ORDER BY id) END AS student\n",
        "FROM Seat\n",
        "```"
      ],
      "metadata": {
        "id": "5qaqa-GWfWSJ"
      }
    },
    {
      "cell_type": "code",
      "source": [
        "data = [[1, 'Abbot'], [2, 'Doris'], [3, 'Emerson'], [4, 'Green'], [5, 'Jeames']]\n",
        "seat = pd.DataFrame(data, columns=['id', 'student']).astype({'id':'Int64', 'student':'object'})"
      ],
      "metadata": {
        "id": "EAuC6nJQfbXK"
      },
      "execution_count": null,
      "outputs": []
    },
    {
      "cell_type": "code",
      "source": [
        "def exchange_seats(seat: pd.DataFrame) -> pd.DataFrame:\n",
        "    seat['student'] = np.where((seat.id %2 == 1) & (seat.id != seat.shape[0]), seat.student.shift(-1),\n",
        "                               np.where(seat.id %2 == 0, seat.student.shift(1), seat.student))\n",
        "    return seat"
      ],
      "metadata": {
        "id": "LX9NqRKPfhGn"
      },
      "execution_count": null,
      "outputs": []
    },
    {
      "cell_type": "markdown",
      "source": [
        "1045. Customers Who Bought All Products\n",
        "\n",
        "https://leetcode.com/problems/customers-who-bought-all-products/description/\n",
        "\n",
        "```sql\n",
        "SELECT\n",
        "    customer_id\n",
        "FROM Customer\n",
        "GROUP BY customer_id\n",
        "HAVING ARRAY_LENGTH(ARRAY_AGG(DISTINCT product_key), 1) = (SELECT COUNT(*) FROM Product);\n",
        "\n",
        "```"
      ],
      "metadata": {
        "id": "h_v8-yvw8021"
      }
    },
    {
      "cell_type": "code",
      "source": [
        "data = [[1, 5], [2, 6], [3, 5], [3, 6], [1, 6]]\n",
        "customer = pd.DataFrame(data, columns=['customer_id', 'product_key']).astype({'customer_id':'Int64', 'product_key':'Int64'})\n",
        "data = [[5], [6]]\n",
        "product = pd.DataFrame(data, columns=['product_key']).astype({'product_key':'Int64'})"
      ],
      "metadata": {
        "id": "SKkaub5Q6_Ti"
      },
      "execution_count": null,
      "outputs": []
    },
    {
      "cell_type": "code",
      "source": [
        "def find_customers(customer: pd.DataFrame, product: pd.DataFrame) -> pd.DataFrame:\n",
        "    all_product = set(product.product_key.values)\n",
        "    return customer.groupby('customer_id')\\\n",
        "                   .product_key\\\n",
        "                   .apply(lambda x: set(x))\\\n",
        "                   .reset_index(name='product_keys')\\\n",
        "                   .query('product_keys == @all_product')\\\n",
        "                   [['customer_id']]"
      ],
      "metadata": {
        "id": "oSpByYQV8-Vd"
      },
      "execution_count": null,
      "outputs": []
    },
    {
      "cell_type": "markdown",
      "source": [
        "1070. Product Sales Analysis III\n",
        "\n",
        "https://leetcode.com/problems/product-sales-analysis-iii/description/\n",
        "\n",
        "```sql\n",
        "-- Write your PostgreSQL query statement below\n",
        "WITH t as (\n",
        "SELECT\n",
        "    product_id,\n",
        "    min(year) as min_year\n",
        "FROM Sales\n",
        "GROUP BY product_id)\n",
        "\n",
        "SELECT\n",
        "    s.product_id,\n",
        "    s.year as first_year ,\n",
        "    s.quantity,\n",
        "    s.price\n",
        "FROM Sales s\n",
        "JOIN t ON t.product_id = s.product_id AND t.min_year = s.year\n",
        "```"
      ],
      "metadata": {
        "id": "wZ7cPK12_1Ek"
      }
    },
    {
      "cell_type": "code",
      "source": [
        "data = [[1, 100, 2008, 10, 5000], [2, 100, 2009, 12, 5000], [7, 200, 2011, 15, 9000]]\n",
        "sales = pd.DataFrame(data, columns=['sale_id', 'product_id', 'year', 'quantity', 'price']).astype({'sale_id':'Int64', 'product_id':'Int64', 'year':'Int64', 'quantity':'Int64', 'price':'Int64'})\n",
        "data = [[100, 'Nokia'], [200, 'Apple'], [300, 'Samsung']]\n",
        "product = pd.DataFrame(data, columns=['product_id', 'product_name']).astype({'product_id':'Int64', 'product_name':'object'})"
      ],
      "metadata": {
        "id": "ns3A5dKs9viw"
      },
      "execution_count": null,
      "outputs": []
    },
    {
      "cell_type": "code",
      "source": [
        "def sales_analysis(sales: pd.DataFrame, product: pd.DataFrame) -> pd.DataFrame:\n",
        "    return sales.assign(min_year = sales.groupby('product_id').year.rank(method='min'))\\\n",
        "                .query('min_year ==  1', engine='python')\\\n",
        "                .iloc[:,1:-1]\\\n",
        "                .rename({'year': 'first_year'}, axis=1)"
      ],
      "metadata": {
        "id": "PFmxqrm8_8m-"
      },
      "execution_count": null,
      "outputs": []
    },
    {
      "cell_type": "markdown",
      "source": [
        "1158. Market Analysis I\n",
        "\n",
        "https://leetcode.com/problems/market-analysis-i/description/\n",
        "\n",
        "```sql\n",
        "SELECT\n",
        "    u.user_id as buyer_id,\n",
        "    u.join_date,\n",
        "    count(o.order_id) as orders_in_2019\n",
        "FROM Users u\n",
        "LEFT JOIN Orders o ON u.user_id = o.buyer_id AND date_part('year', o.order_date) = 2019\n",
        "GROUP BY u.user_id, u.join_date\n",
        "```"
      ],
      "metadata": {
        "id": "GgzenvdzCeFL"
      }
    },
    {
      "cell_type": "code",
      "source": [
        "data = [[1, '2018-01-01', 'Lenovo'], [2, '2018-02-09', 'Samsung'], [3, '2018-01-19', 'LG'], [4, '2018-05-21', 'HP']]\n",
        "users = pd.DataFrame(data, columns=['user_id', 'join_date', 'favorite_brand']).astype({'user_id':'Int64', 'join_date':'datetime64[ns]', 'favorite_brand':'object'})\n",
        "data = [[1, '2019-08-01', 4, 1, 2], [2, '2018-08-02', 2, 1, 3], [3, '2019-08-03', 3, 2, 3], [4, '2018-08-04', 1, 4, 2], [5, '2018-08-04', 1, 3, 4], [6, '2019-08-05', 2, 2, 4]]\n",
        "orders = pd.DataFrame(data, columns=['order_id', 'order_date', 'item_id', 'buyer_id', 'seller_id']).astype({'order_id':'Int64', 'order_date':'datetime64[ns]', 'item_id':'Int64', 'buyer_id':'Int64', 'seller_id':'Int64'})\n",
        "data = [[1, 'Samsung'], [2, 'Lenovo'], [3, 'LG'], [4, 'HP']]\n",
        "items = pd.DataFrame(data, columns=['item_id', 'item_brand']).astype({'item_id':'Int64', 'item_brand':'object'})"
      ],
      "metadata": {
        "id": "Yl39K4flAmbm"
      },
      "execution_count": null,
      "outputs": []
    },
    {
      "cell_type": "code",
      "source": [
        "def market_analysis(users: pd.DataFrame, orders: pd.DataFrame, items: pd.DataFrame) -> pd.DataFrame:\n",
        "    buyers = orders[orders.order_date.dt.year == 2019]\\\n",
        "                  .groupby('buyer_id')\\\n",
        "                  .order_id.count()\\\n",
        "                  .reset_index(name='orders_in_2019')\n",
        "    return users.merge(buyers, how='left', left_on='user_id', right_on='buyer_id')[['user_id', 'join_date', 'orders_in_2019']].fillna({'orders_in_2019': 0})\\\n",
        "                            .rename({'user_id': 'buyer_id'}, axis=1)"
      ],
      "metadata": {
        "id": "T3fCxFwpCuGZ"
      },
      "execution_count": null,
      "outputs": []
    },
    {
      "cell_type": "markdown",
      "source": [
        "1164. Product Price at a Given Date\n",
        "\n",
        "https://leetcode.com/problems/product-price-at-a-given-date/description/\n",
        "\n",
        "```sql\n",
        "WITH t as (\n",
        "SELECT\n",
        "    s1.product_id,\n",
        "    s2.new_price,\n",
        "    row_number() OVER (PARTITION BY s1.product_id ORDER BY s2.change_date DESC NULLS LAST) as rn\n",
        "FROM Products s1\n",
        "LEFT JOIN  Products s2 ON s1.product_id = s2.product_id AND s1.change_date = s2.change_date  AND s2.change_date <= '2019-08-16')\n",
        "\n",
        "SELECT\n",
        "    product_id,\n",
        "    COALESCE(new_price, 10) AS  price\n",
        "FROM t\n",
        "WHERE rn = 1\n",
        "```"
      ],
      "metadata": {
        "id": "xzkB4r7HIRYP"
      }
    },
    {
      "cell_type": "code",
      "source": [
        "data = [[1, 20, '2019-08-14'], [2, 50, '2019-08-14'], [1, 30, '2019-08-15'], [1, 35, '2019-08-16'], [2, 65, '2019-08-17'], [3, 20, '2019-08-18']]\n",
        "products = pd.DataFrame(data, columns=['product_id', 'new_price', 'change_date']).astype({'product_id':'Int64', 'new_price':'Int64', 'change_date':'datetime64[ns]'})"
      ],
      "metadata": {
        "id": "lDaSGpjYCwSd"
      },
      "execution_count": null,
      "outputs": []
    },
    {
      "cell_type": "code",
      "source": [
        "def price_at_given_date(products: pd.DataFrame) -> pd.DataFrame:\n",
        "    temp = products[products.change_date.le('2019-08-16')]\\\n",
        "      .assign(max_date = products[products.change_date.le('2019-08-16')]\\\n",
        "              .groupby('product_id')\\\n",
        "              .change_date.rank(method='min', ascending=False))\\\n",
        "              .query(\"max_date == 1\")\\\n",
        "              .set_index('product_id')\\\n",
        "              .new_price\n",
        "    products['price'] = products.product_id\\\n",
        "                                    .map(temp)\\\n",
        "                                    .fillna(10)\n",
        "    return products[['product_id','price']].drop_duplicates()"
      ],
      "metadata": {
        "id": "xcDxfVQqIX93"
      },
      "execution_count": null,
      "outputs": []
    },
    {
      "cell_type": "markdown",
      "source": [
        "1174. Immediate Food Delivery II\n",
        "\n",
        "https://leetcode.com/problems/immediate-food-delivery-ii/description/\n",
        "\n",
        "```sql\n",
        "\n",
        "WITH t as (\n",
        "SELECT\n",
        "    *,\n",
        "    row_number() OVER (PARTITION BY customer_id ORDER BY order_date) as rn\n",
        "FROM Delivery)\n",
        "\n",
        "\n",
        "SELECT\n",
        "    round(count(delivery_id) FILTER (WHERE order_date = customer_pref_delivery_date )*100.0 / count(delivery_id), 2) as immediate_percentage\n",
        "FROM t\n",
        "WHERE t.rn = 1\n",
        "```"
      ],
      "metadata": {
        "id": "PAv8AsGvNJY0"
      }
    },
    {
      "cell_type": "code",
      "source": [
        "data = [[1, 1, '2019-08-01', '2019-08-02'], [2, 2, '2019-08-02', '2019-08-02'], [3, 1, '2019-08-11', '2019-08-12'], [4, 3, '2019-08-24', '2019-08-24'], [5, 3, '2019-08-21', '2019-08-22'], [6, 2, '2019-08-11', '2019-08-13'], [7, 4, '2019-08-09', '2019-08-09']]\n",
        "delivery = pd.DataFrame(data, columns=['delivery_id', 'customer_id', 'order_date', 'customer_pref_delivery_date']).astype({'delivery_id':'Int64', 'customer_id':'Int64', 'order_date':'datetime64[ns]', 'customer_pref_delivery_date':'datetime64[ns]'})"
      ],
      "metadata": {
        "id": "hCTio1gbLqKf"
      },
      "execution_count": null,
      "outputs": []
    },
    {
      "cell_type": "code",
      "source": [
        "def immediate_food_delivery(delivery: pd.DataFrame) -> pd.DataFrame:\n",
        "    first_orders = delivery.assign(rn=delivery.groupby('customer_id').order_date.rank(method='first')).query(\"(rn == 1)\")\n",
        "    immediate_first_orders = first_orders.query(\"order_date == customer_pref_delivery_date\")\n",
        "    return pd.DataFrame([immediate_first_orders.shape[0] * 100 / first_orders.shape[0]], columns=['immediate_percentage'], index= [0]).round(2)"
      ],
      "metadata": {
        "id": "4NrlSr9yU_Ru"
      },
      "execution_count": null,
      "outputs": []
    },
    {
      "cell_type": "markdown",
      "source": [
        "1193. Monthly Transactions I\n",
        "\n",
        "https://leetcode.com/problems/monthly-transactions-i/description/\n",
        "\n",
        "\n",
        "```sql\n",
        "-- Write your PostgreSQL query statement below\n",
        "SELECT\n",
        "to_char(t.trans_date, 'YYYY-MM') as month, country,\n",
        "count(*) as trans_count,\n",
        "count(*) FILTER (WHERE t.state = 'approved') as approved_count,\n",
        "coalesce(sum(t.amount), 0) as trans_total_amount,\n",
        "coalesce(sum(t.amount) FILTER (WHERE t.state = 'approved'), 0) as approved_total_amount\n",
        "\n",
        "FROM Transactions t\n",
        "\n",
        "GROUP BY to_char(trans_date, 'YYYY-MM'), country\n",
        "```"
      ],
      "metadata": {
        "id": "VLjHYMDEVLhA"
      }
    },
    {
      "cell_type": "code",
      "source": [
        "data = [[121, 'US', 'approved', 1000, '2018-12-18'], [122, 'US', 'declined', 2000, '2018-12-19'], [123, 'US', 'approved', 2000, '2019-01-01'], [124, 'DE', 'approved', 2000, '2019-01-07']]\n",
        "transactions = pd.DataFrame(data, columns=['id', 'country', 'state', 'amount', 'trans_date']).astype({'id':'Int64', 'country':'object', 'state':'object', 'amount':'Int64', 'trans_date':'datetime64[ns]'})"
      ],
      "metadata": {
        "id": "a7jztiQ7VHNl"
      },
      "execution_count": null,
      "outputs": []
    },
    {
      "cell_type": "code",
      "source": [
        "import numpy as np\n",
        "def monthly_transactions(transactions: pd.DataFrame) -> pd.DataFrame:\n",
        "    return transactions.assign(month = transactions.trans_date.dt.strftime('%Y-%m'))\\\n",
        "            .assign(approved_total_amount = transactions.amount * np.where(transactions.state == 'approved', 1, 0))\\\n",
        "            .groupby([\"month\", \"country\"], dropna=False).agg({'id': 'count', 'state': lambda x: sum(np.where(x == 'approved', 1, 0)), 'amount': 'sum', 'approved_total_amount': 'sum'})\\\n",
        "            .rename({'id': 'trans_count', 'state':'approved_count', 'amount':'trans_total_amount'}, axis=1).reset_index()"
      ],
      "metadata": {
        "id": "PDtL77SuWwau"
      },
      "execution_count": null,
      "outputs": []
    },
    {
      "cell_type": "markdown",
      "source": [
        "1204. Last Person to Fit in the Bus\n",
        "\n",
        "https://leetcode.com/problems/last-person-to-fit-in-the-bus/description/\n",
        "\n",
        "```sql\n",
        "-- Write your PostgreSQL query statement below\n",
        "\n",
        "SELECT\n",
        "person_name\n",
        "FROM (\n",
        "SELECT\n",
        "    turn,\n",
        "    person_name,\n",
        "    sum(weight ) OVER (ORDER BY turn) as cumsum\n",
        "FROM Queue ) sub\n",
        "\n",
        "WHERE cumsum <= 1000\n",
        "ORDER BY turn DESC\n",
        "LIMIT 1\n",
        "```"
      ],
      "metadata": {
        "id": "ZupVd_Wejwbm"
      }
    },
    {
      "cell_type": "code",
      "source": [
        "data = [[5, 'Alice', 250, 1], [4, 'Bob', 175, 5], [3, 'Alex', 350, 2], [6, 'John Cena', 400, 3], [1, 'Winston', 500, 6], [2, 'Marie', 200, 4]]\n",
        "queue = pd.DataFrame(data, columns=['person_id', 'person_name', 'weight', 'turn']).astype({'person_id':'Int64', 'person_name':'object', 'weight':'Int64', 'turn':'Int64'})"
      ],
      "metadata": {
        "id": "rpUxrBQ5d-mO"
      },
      "execution_count": null,
      "outputs": []
    },
    {
      "cell_type": "code",
      "source": [
        "def last_passenger(queue: pd.DataFrame) -> pd.DataFrame:\n",
        "    person_name  = queue.sort_values(by='turn').assign(csum = queue.sort_values(by='turn').weight.cumsum()).query('csum <= 1000', engine='python').set_index('person_name').turn.idxmax()\n",
        "    return pd.DataFrame([person_name], columns=['person_name'], index=[0])"
      ],
      "metadata": {
        "id": "rQJrbemCj4A9"
      },
      "execution_count": null,
      "outputs": []
    },
    {
      "cell_type": "markdown",
      "source": [
        "1321. Restaurant Growth\n",
        "\n",
        "https://leetcode.com/problems/restaurant-growth/description/\n",
        "\n",
        "```sql\n",
        "-- Write your PostgreSQL query statement below\n",
        "WITH agged_amount AS (\n",
        "    SELECT\n",
        "        visited_on,\n",
        "        sum(amount) as amount\n",
        "    FROM Customer\n",
        "    GROUP BY visited_on\n",
        "),\n",
        "t as (SELECT\n",
        "    visited_on,\n",
        "    ROUND(sum(amount) OVER (ORDER BY visited_on RANGE BETWEEN '6 days' PRECEDING AND CURRENT ROW), 2) as amount ,\n",
        "    ROUND(avg(amount) OVER (ORDER BY visited_on RANGE BETWEEN '6 days' PRECEDING AND CURRENT ROW), 2) as average_amount\n",
        "FROM agged_amount)\n",
        "\n",
        "SELECT *\n",
        "FROM t\n",
        "WHERE visited_on >= (SELECT min(visited_on ) FROM Customer) + INTERVAL '6 days'\n",
        "```"
      ],
      "metadata": {
        "id": "8Oq20E95nKF6"
      }
    },
    {
      "cell_type": "code",
      "source": [
        "data = [[1, 'Jhon', '2019-01-01', 100], [2, 'Daniel', '2019-01-02', 110], [3, 'Jade', '2019-01-03', 120], [4, 'Khaled', '2019-01-04', 130], [5, 'Winston', '2019-01-05', 110], [6, 'Elvis', '2019-01-06', 140], [7, 'Anna', '2019-01-07', 150], [8, 'Maria', '2019-01-08', 80], [9, 'Jaze', '2019-01-09', 110], [1, 'Jhon', '2019-01-10', 130], [3, 'Jade', '2019-01-10', 150]]\n",
        "customer = pd.DataFrame(data, columns=['customer_id', 'name', 'visited_on', 'amount']).astype({'customer_id':'Int64', 'name':'object', 'visited_on':'datetime64[ns]', 'amount':'Int64'})"
      ],
      "metadata": {
        "id": "fmIHrZrCl9zh"
      },
      "execution_count": null,
      "outputs": []
    },
    {
      "cell_type": "code",
      "source": [
        "def restaurant_growth(customer: pd.DataFrame) -> pd.DataFrame:\n",
        "    grouped = customer.groupby('visited_on')\\\n",
        "                      .amount\\\n",
        "                      .sum()\n",
        "    return grouped.rolling('7d', min_periods=7)\\\n",
        "                  .agg(['sum', 'mean'])\\\n",
        "                  .round(2)\\\n",
        "                  .reset_index()\\\n",
        "                  .rename({'sum':'amount', 'mean':'average_amount'}, axis=1)\\\n",
        "                  .dropna()\\\n",
        "                  .sort_values(by='visited_on')"
      ],
      "metadata": {
        "id": "UYqemPianQsh"
      },
      "execution_count": null,
      "outputs": []
    },
    {
      "cell_type": "markdown",
      "source": [
        "1341. Movie Rating\n",
        "\n",
        "https://leetcode.com/problems/movie-rating/description/\n",
        "\n",
        "```sql\n",
        "-- Write your PostgreSQL query statement below\n",
        "\n",
        "WITH t as (\n",
        "SELECT\n",
        "    user_id,\n",
        "    count(movie_id),\n",
        "    rank() OVER (ORDER BY count(movie_id) DESC) as rnk\n",
        "FROM MovieRating\n",
        "GROUP BY user_id),\n",
        "\n",
        "t2 as (\n",
        "SELECT\n",
        "    movie_id,\n",
        "    avg(rating),\n",
        "    rank() OVER (ORDER BY avg(rating) DESC) as rnk\n",
        "FROM MovieRating\n",
        "WHERE to_char(created_at, 'YYYY-MM') = '2020-02'\n",
        "GROUP BY movie_id)   \n",
        "\n",
        "(SELECT\n",
        "    u.name as results\n",
        "FROM t\n",
        "JOIN  Users u on u.user_id = t.user_id AND t.rnk = 1\n",
        "ORDER BY 1\n",
        "LIMIT 1)\n",
        "\n",
        "UNION ALL\n",
        "\n",
        "(SELECT\n",
        "    m.title as results\n",
        "FROM t2\n",
        "JOIN  Movies  m on m.movie_id = t2.movie_id AND t2.rnk = 1\n",
        "ORDER BY 1\n",
        "LIMIT 1)\n",
        "```"
      ],
      "metadata": {
        "id": "qb-nIJyM2vqm"
      }
    },
    {
      "cell_type": "code",
      "source": [
        "data = [[1, 'Avengers'], [2, 'Frozen 2'], [3, 'Joker']]\n",
        "movies = pd.DataFrame(data, columns=['movie_id', 'title']).astype({'movie_id':'Int64', 'title':'object'})\n",
        "data = [[1, 'Daniel'], [2, 'Monica'], [3, 'Maria'], [4, 'James']]\n",
        "users = pd.DataFrame(data, columns=['user_id', 'name']).astype({'user_id':'Int64', 'name':'object'})\n",
        "data = [[1, 1, 3, '2020-01-12'], [1, 2, 4, '2020-02-11'], [1, 3, 2, '2020-02-12'], [1, 4, 1, '2020-01-01'], [2, 1, 5, '2020-02-17'], [2, 2, 2, '2020-02-01'], [2, 3, 2, '2020-03-01'], [3, 1, 3, '2020-02-22'], [3, 2, 4, '2020-02-25']]\n",
        "movie_rating = pd.DataFrame(data, columns=['movie_id', 'user_id', 'rating', 'created_at']).astype({'movie_id':'Int64', 'user_id':'Int64', 'rating':'Int64', 'created_at':'datetime64[ns]'})"
      ],
      "metadata": {
        "id": "NsKtU0uK216i"
      },
      "execution_count": null,
      "outputs": []
    },
    {
      "cell_type": "code",
      "source": [
        "def movie_rating(movies: pd.DataFrame, users: pd.DataFrame, movie_rating: pd.DataFrame) -> pd.DataFrame:\n",
        "    grouped = movie_rating.groupby('user_id')['movie_id'].count().reset_index(name='movie_cnt')\n",
        "    grouped.assign(rnk = grouped.movie_cnt.rank(method='min', ascending=False)).query('rnk == 1')\n",
        "    user_name = movie_rating.user_id.mode().to_frame().merge(users, on='user_id', how='left').sort_values(by='name').head(1)['name'].rename('results')\n",
        "    movie_name = movie_rating[movie_rating.created_at.dt.strftime('%Y-%m') == '2020-02']\\\n",
        "                .groupby('movie_id')\\\n",
        "                .rating.mean()\\\n",
        "                .to_frame()\\\n",
        "                .merge(movies, left_index=True, right_on='movie_id')\\\n",
        "                .sort_values(by=['rating', 'title'], ascending=[False, True])\\\n",
        "                .head(1)['title']\\\n",
        "                .rename('results')\n",
        "    return pd.concat([user_name, movie_name], ignore_index=True).to_frame()"
      ],
      "metadata": {
        "id": "jeJwp2Wm3IOz"
      },
      "execution_count": null,
      "outputs": []
    },
    {
      "cell_type": "markdown",
      "source": [
        "1393. Capital Gain/Loss\n",
        "\n",
        "https://leetcode.com/problems/capital-gainloss/\n",
        "\n",
        "```sql\n",
        "-- Write your PostgreSQL query statement below\n",
        "SELECT stock_name,\n",
        "(SUM(CASE WHEN operation = 'Sell' THEN price ELSE 0 END) - SUM (CASE WHEN operation = 'Buy' THEN price ELSE 0 END)) as capital_gain_loss\n",
        "FROM Stocks GROUP BY stock_name\n",
        "```"
      ],
      "metadata": {
        "id": "bkzoHgEq9xn_"
      }
    },
    {
      "cell_type": "code",
      "source": [
        "data = [['Leetcode', 'Buy', 1, 1000], ['Corona Masks', 'Buy', 2, 10], ['Leetcode', 'Sell', 5, 9000], ['Handbags', 'Buy', 17, 30000], ['Corona Masks', 'Sell', 3, 1010], ['Corona Masks', 'Buy', 4, 1000], ['Corona Masks', 'Sell', 5, 500], ['Corona Masks', 'Buy', 6, 1000], ['Handbags', 'Sell', 29, 7000], ['Corona Masks', 'Sell', 10, 10000]]\n",
        "stocks = pd.DataFrame(data, columns=['stock_name', 'operation', 'operation_day', 'price']).astype({'stock_name':'object', 'operation':'object', 'operation_day':'Int64', 'price':'Int64'})"
      ],
      "metadata": {
        "id": "hdOv9uXx7-6V"
      },
      "execution_count": null,
      "outputs": []
    },
    {
      "cell_type": "code",
      "source": [
        "def capital_gainloss(stocks: pd.DataFrame) -> pd.DataFrame:\n",
        "    return stocks.groupby('stock_name').apply(lambda x: np.where(x.operation == 'Sell', x.price, -x.price).sum(), include_groups=False).reset_index(name='capital_gain_loss')"
      ],
      "metadata": {
        "id": "arkBoJPr-Acc"
      },
      "execution_count": null,
      "outputs": []
    },
    {
      "cell_type": "markdown",
      "source": [
        "1907. Count Salary Categories\n",
        "\n",
        "https://leetcode.com/problems/count-salary-categories/description/\n",
        "\n",
        "```sql\n",
        "-- Write your PostgreSQL query statement below\n",
        "WITH binned as (\n",
        "SELECT\n",
        "    CASE WHEN income < 20000 THEN 'Low Salary' WHEN income <= 50000 THEN 'Average Salary' ELSE 'High Salary' END AS cat\n",
        "FROM Accounts)\n",
        "\n",
        "SELECT\n",
        "category,\n",
        "coalesce(accounts_count , 0) as accounts_count\n",
        "FROM UNNEST(ARRAY['Low Salary', 'Average Salary', 'High Salary']) AS category\n",
        "LEFT JOIN (\n",
        "SELECT\n",
        "    cat,\n",
        "    count(*) as accounts_count\n",
        "FROM binned\n",
        "GROUP BY cat) sub ON sub.cat = category\n",
        "```"
      ],
      "metadata": {
        "id": "fDqMbn-hBrdp"
      }
    },
    {
      "cell_type": "code",
      "source": [
        "data = [[3, 108939], [2, 12747], [8, 87709], [6, 91796]]\n",
        "accounts = pd.DataFrame(data, columns=['account_id', 'income']).astype({'account_id':'Int64', 'income':'Int64'})"
      ],
      "metadata": {
        "id": "ptBzIJtw_eDK"
      },
      "execution_count": null,
      "outputs": []
    },
    {
      "cell_type": "code",
      "source": [
        "def count_salary_categories(accounts: pd.DataFrame) -> pd.DataFrame:\n",
        "    return pd.DataFrame({\n",
        "        'category': ['Low Salary', 'Average Salary', 'High Salary'],\n",
        "        'accounts_count': [\n",
        "            accounts[accounts.income < 20000].shape[0],\n",
        "            accounts[(accounts.income >= 20000) & (accounts.income <= 50000)].shape[0],\n",
        "            accounts[accounts.income > 50000].shape[0],\n",
        "        ],\n",
        "    })"
      ],
      "metadata": {
        "id": "8yplDO2gDyFO"
      },
      "execution_count": null,
      "outputs": []
    },
    {
      "cell_type": "markdown",
      "source": [
        "1934. Confirmation Rate\n",
        "\n",
        "https://leetcode.com/problems/confirmation-rate/description/\n",
        "\n",
        "```sql\n",
        "WITH t as (\n",
        "SELECT\n",
        "    user_id,\n",
        "    ROUND(count(action) FILTER (WHERE action = 'confirmed')*1.0 / count(action), 2) as confirmation_rate\n",
        "FROM Confirmations\n",
        "GROUP BY user_id\n",
        ")\n",
        "\n",
        "SELECT\n",
        "s.user_id,\n",
        "COALESCE(confirmation_rate, 0) as confirmation_rate\n",
        "FROM Signups s\n",
        "LEFT JOIN t on t.user_id = s.user_id\n",
        "```"
      ],
      "metadata": {
        "id": "svzDKwtTEzPB"
      }
    },
    {
      "cell_type": "code",
      "source": [
        "data = [[3, '2020-03-21 10:16:13'], [7, '2020-01-04 13:57:59'], [2, '2020-07-29 23:09:44'], [6, '2020-12-09 10:39:37']]\n",
        "signups = pd.DataFrame(data, columns=['user_id', 'time_stamp']).astype({'user_id':'Int64', 'time_stamp':'datetime64[ns]'})\n",
        "data = [[3, '2021-01-06 03:30:46', 'timeout'], [3, '2021-07-14 14:00:00', 'timeout'], [7, '2021-06-12 11:57:29', 'confirmed'], [7, '2021-06-13 12:58:28', 'confirmed'], [7, '2021-06-14 13:59:27', 'confirmed'], [2, '2021-01-22 00:00:00', 'confirmed'], [2, '2021-02-28 23:59:59', 'timeout']]\n",
        "confirmations = pd.DataFrame(data, columns=['user_id', 'time_stamp', 'action']).astype({'user_id':'Int64', 'time_stamp':'datetime64[ns]', 'action':'object'})"
      ],
      "metadata": {
        "id": "q_RHrDUHEhCq"
      },
      "execution_count": null,
      "outputs": []
    },
    {
      "cell_type": "code",
      "source": [
        "def confirmation_rate(signups: pd.DataFrame, confirmations: pd.DataFrame) -> pd.DataFrame:\n",
        "    grouped = confirmations.groupby('user_id').apply(lambda x: np.where(x.action  == 'confirmed', 1, 0).sum() / x.shape[0], include_groups=False).round(2).reset_index(name='confirmation_rate')\n",
        "    return signups.merge(grouped, how='left', on='user_id').fillna(0)[['user_id', 'confirmation_rate']]"
      ],
      "metadata": {
        "id": "3Q9kb2A4E99q"
      },
      "execution_count": null,
      "outputs": []
    },
    {
      "cell_type": "markdown",
      "source": [
        "3220. Odd and Even Transactions\n",
        "\n",
        "https://leetcode.com/problems/odd-and-even-transactions/description/\n",
        "\n",
        "```sql\n",
        "SELECT\n",
        "    transaction_date,\n",
        "    COALESCE(sum(amount) FILTER (WHERE amount % 2 = 1 ), 0) as odd_sum,\n",
        "    COALESCE(sum(amount) FILTER (WHERE amount % 2 = 0 ), 0) as even_sum\n",
        "\n",
        "FROM transactions\n",
        "GROUP BY transaction_date\n",
        "ORDER BY transaction_date\n",
        "```"
      ],
      "metadata": {
        "id": "iG5d7Vk3HJX5"
      }
    },
    {
      "cell_type": "code",
      "source": [
        "data = [\n",
        "    [1, 150, '2024-07-01'],\n",
        "    [2, 200, '2024-07-01'],\n",
        "    [3, 75, '2024-07-01'],\n",
        "    [4, 300, '2024-07-02'],\n",
        "    [5, 50, '2024-07-02'],\n",
        "    [6, 120, '2024-07-03']\n",
        "]\n",
        "transactions = pd.DataFrame(data, columns=[\"transaction_id\", \"amount\", \"transaction_date\"])\n",
        "transactions[\"transaction_date\"] = pd.to_datetime(transactions[\"transaction_date\"])"
      ],
      "metadata": {
        "id": "vhExafXQHYOR"
      },
      "execution_count": null,
      "outputs": []
    },
    {
      "cell_type": "code",
      "source": [
        "def sum_daily_odd_even(transactions: pd.DataFrame) -> pd.DataFrame:\n",
        "    result = transactions.groupby('transaction_date')\\\n",
        "                         .agg({'amount': [lambda x: np.where(x % 2, x, 0).sum(), lambda x: np.where(x % 2, 0, x).sum()]})\\\n",
        "                         .rename({'<lambda_0>':'odd_sum', '<lambda_1>': 'even_sum'}, axis=1)\n",
        "    result.columns = result.columns\\\n",
        "                           .droplevel()\n",
        "    return result.reset_index()\\\n",
        "                 .sort_values(by='transaction_date')"
      ],
      "metadata": {
        "id": "g3itnU2jH2Qd"
      },
      "execution_count": null,
      "outputs": []
    },
    {
      "cell_type": "markdown",
      "source": [
        "3421. Find Students Who Improved\n",
        "\n",
        "https://leetcode.com/problems/find-students-who-improved/description/\n",
        "\n",
        "```sql\n",
        "-- Write your PostgreSQL query statement below\n",
        "\n",
        "WITH marks as (\n",
        "SELECT\n",
        "DISTINCT s.student_id, s.subject,\n",
        "FIRST_VALUE(score) OVER (PARTITION BY (s.student_id, s.subject) ORDER BY exam_date\n",
        ") as first_score,\n",
        "LAST_VALUE(score) OVER (PARTITION BY (s.student_id, s.subject) ORDER BY exam_date\n",
        "ROWS BETWEEN UNBOUNDED PRECEDING AND UNBOUNDED FOLLOWING) as latest_score\n",
        "FROM Scores s)\n",
        "\n",
        "SELECT * FROM marks\n",
        "WHERE latest_score > first_score\n",
        "ORDER BY 1, 2\n",
        "```"
      ],
      "metadata": {
        "id": "KR1T1DTCSDUX"
      }
    },
    {
      "cell_type": "code",
      "source": [
        "data = [\n",
        "    [101, 'Math', 70, '2023-01-15'],\n",
        "    [101, 'Math', 85, '2023-02-15'],\n",
        "    [101, 'Physics', 65, '2023-01-15'],\n",
        "    [101, 'Physics', 60, '2023-02-15'],\n",
        "    [102, 'Math', 80, '2023-01-15'],\n",
        "    [102, 'Math', 85, '2023-02-15'],\n",
        "    [103, 'Math', 90, '2023-01-15'],\n",
        "    [104, 'Physics', 75, '2023-01-15'],\n",
        "    [104, 'Physics', 85, '2023-02-15']\n",
        "]\n",
        "\n",
        "# Создаем DataFrame\n",
        "scores = pd.DataFrame(data, columns=[\"student_id\", \"subject\", \"score\", \"exam_date\"])\n",
        "\n",
        "# Преобразуем exam_date в datetime\n",
        "scores[\"exam_date\"] = pd.to_datetime(scores[\"exam_date\"])"
      ],
      "metadata": {
        "id": "3M9skCmUJ8Nv"
      },
      "execution_count": null,
      "outputs": []
    },
    {
      "cell_type": "code",
      "source": [
        "def find_students_who_improved(scores: pd.DataFrame) -> pd.DataFrame:\n",
        "    scores.sort_values(by=['student_id', 'subject', 'exam_date'], inplace=True)\n",
        "    return scores.groupby(['student_id', 'subject'], as_index=False).agg(first_score=('score', 'first'), latest_score =('score', 'last')).query(\"latest_score  > first_score\")"
      ],
      "metadata": {
        "id": "ZCbz2GbvhfjK"
      },
      "execution_count": null,
      "outputs": []
    },
    {
      "cell_type": "markdown",
      "source": [
        "3475. DNA Pattern Recognition\n",
        "\n",
        "https://leetcode.com/problems/dna-pattern-recognition/description/\n",
        "\n",
        "```sql\n",
        "-- Write your PostgreSQL query statement below\n",
        "SELECT\n",
        "sample_id, dna_sequence, species,\n",
        "CASE WHEN dna_sequence like 'ATG%' THEN 1 ELSE 0 END AS has_start,\n",
        "CASE WHEN dna_sequence ~ '(TAA|TAG|TGA)$' THEN 1 ELSE 0 END AS has_stop,\n",
        "CASE WHEN dna_sequence like '%ATAT%' THEN 1 ELSE 0 END AS has_atat,\n",
        "CASE WHEN dna_sequence ~ 'G{3,}' THEN 1 ELSE 0 END AS has_ggg\n",
        "FROM Samples\n",
        "ORDER BY 1\n",
        "```"
      ],
      "metadata": {
        "id": "9qaKOHiREt5X"
      }
    },
    {
      "cell_type": "code",
      "source": [
        "data = [[1, 'ATGCTAGCTAGCTAA', 'Human'], [2, 'GGGTCAATCATC', 'Human'], [3, 'ATATATCGTAGCTA', 'Human'], [4, 'ATGGGGTCATCATAA', 'Mouse'], [5, 'TCAGTCAGTCAG', 'Mouse'], [6, 'ATATCGCGCTAG', 'Zebrafish'], [7, 'CGTATGCGTCGTA', 'Zebrafish']]\n",
        "samples = pd.DataFrame(data, columns=['sample_id',\n",
        "    'dna_sequence',\n",
        "    'species'])"
      ],
      "metadata": {
        "id": "YJfXzs9xid64"
      },
      "execution_count": null,
      "outputs": []
    },
    {
      "cell_type": "code",
      "source": [
        "import numpy as np\n",
        "\n",
        "def analyze_dna_patterns(samples: pd.DataFrame) -> pd.DataFrame:\n",
        "    return samples.assign(has_start = np.where(samples.dna_sequence.str.match('ATG'), 1, 0),\n",
        "                          has_stop = np.where(samples.dna_sequence.str.contains('(TAA|TAG|TGA)$'), 1, 0),\n",
        "                          has_atat = np.where(samples.dna_sequence.str.contains('ATAT'), 1, 0),\n",
        "                          has_ggg = np.where(samples.dna_sequence.str.contains('G{3,}'), 1, 0)\n",
        "                          ).sort_values(by='sample_id')"
      ],
      "metadata": {
        "id": "1t2BJ8WbE8An"
      },
      "execution_count": null,
      "outputs": []
    },
    {
      "cell_type": "markdown",
      "source": [
        "574. Winning Candidate\n",
        "\n",
        "https://leetcode.com/problems/winning-candidate/description/\n",
        "\n",
        "```sql\n",
        "WITH top_candidate as (\n",
        "SELECT\n",
        "v.candidateId, count(id)\n",
        "FROM Vote v\n",
        "GROUP BY v.candidateId\n",
        "ORDER BY 2 DESC\n",
        "LIMIT 1)\n",
        "\n",
        "SELECT c.name from Candidate c WHERE c.id = (SELECT candidateId FROM top_candidate)\n",
        "```"
      ],
      "metadata": {
        "id": "EEvewfoY6X55"
      }
    },
    {
      "cell_type": "code",
      "source": [
        "data = [[1, 'A'], [2, 'B'], [3, 'C'], [4, 'D'], [5, 'E']]\n",
        "candidate = pd.DataFrame(data, columns=['id', 'name']).astype({'id':'Int64', 'name':'object'})\n",
        "data = [[1, 2], [2, 4], [3, 3], [4, 2], [5, 5]]\n",
        "vote = pd.DataFrame(data, columns=['id', 'candidateId']).astype({'id':'Int64', 'candidateId':'Int64'})"
      ],
      "metadata": {
        "id": "_MeEhDD46qX0"
      },
      "execution_count": 3,
      "outputs": []
    },
    {
      "cell_type": "code",
      "source": [
        "def winning_candidate(candidate: pd.DataFrame, vote: pd.DataFrame) -> pd.DataFrame:\n",
        "    return candidate[candidate.id == vote.candidateId.value_counts().idxmax()][['name']]"
      ],
      "metadata": {
        "id": "erh94k0D8Y9x"
      },
      "execution_count": 12,
      "outputs": []
    },
    {
      "cell_type": "markdown",
      "source": [
        "578. Get Highest Answer Rate Question\n",
        "\n",
        "https://leetcode.com/problems/get-highest-answer-rate-question/description/\n",
        "\n",
        "```sql\n",
        "WITH answer_rate as (\n",
        "SELECT\n",
        "    question_id ,\n",
        "    dense_rank() OVER (ORDER BY sum(CASE WHEN action  = 'answer' and (answer_id IS NOT NULL) THEN 1 ELSE 0 END)*1.0 / sum(CASE WHEN action = 'show' then 1 else 0 end) DESC) as rn\n",
        "FROM SurveyLog s\n",
        "GROUP BY question_id)\n",
        "\n",
        "SELECT question_id as survey_log FROM  answer_rate WHERE rn = 1\n",
        "ORDER BY question_id LIMIT 1\n",
        "```"
      ],
      "metadata": {
        "id": "NxGj1ij79MN-"
      }
    },
    {
      "cell_type": "code",
      "source": [
        "data = [[5, 'show', 285, None, 1, 123], [5, 'answer', 285, 124124, 1, 124], [5, 'show', 369, None, 2, 125], [5, 'skip', 369, None, 2, 126]]\n",
        "survey_log = pd.DataFrame(data, columns=['id', 'action', 'question_id', 'answer_id', 'q_num', 'timestamp']).astype({'id':'Int64', 'action':'object', 'question_id':'Int64', 'answer_id':'Int64', 'q_num':'Int64', 'timestamp':'Int64'})"
      ],
      "metadata": {
        "id": "SzprMy4Z80uy"
      },
      "execution_count": 13,
      "outputs": []
    },
    {
      "cell_type": "code",
      "source": [
        "def get_the_question(survey_log: pd.DataFrame) -> pd.DataFrame:\n",
        "    if survey_log.shape[0]:\n",
        "        return survey_log.groupby('question_id')\\\n",
        "                         .apply(lambda x: sum(~x.answer_id.isna()) / sum(x.action == 'show'), include_groups=False)\\\n",
        "                         .reset_index()\\\n",
        "                         .sort_values(by=[0, 'question_id'], ascending=[False, True])\\\n",
        "                         .head(1)\\\n",
        "                         .rename({'question_id':\"survey_log\"}, axis=1)[['survey_log']]\n",
        "    return pd.DataFrame(columns=['survey_log'])"
      ],
      "metadata": {
        "id": "OhWvcy5gKmlE"
      },
      "execution_count": 82,
      "outputs": []
    },
    {
      "cell_type": "markdown",
      "source": [
        "580. Count Student Number in Departments\n",
        "\n",
        "https://leetcode.com/problems/count-student-number-in-departments/description/\n",
        "\n",
        "```sql\n",
        "SELECT\n",
        "d.dept_name,\n",
        "COALESCE(sub.student_number, 0) as student_number\n",
        "\n",
        "FROM Department d\n",
        "LEFT JOIN (\n",
        "\n",
        "SELECT\n",
        "s.dept_id,\n",
        "count(student_id ) as student_number\n",
        "FROM Student s\n",
        "GROUP BY s.dept_id) sub\n",
        "\n",
        "ON sub.dept_id = d.dept_id\n",
        "```"
      ],
      "metadata": {
        "id": "cT6FMACINsdD"
      }
    },
    {
      "cell_type": "code",
      "source": [
        "data = [[1, 'Jack', 'M', 1], [2, 'Jane', 'F', 1], [3, 'Mark', 'M', 2]]\n",
        "student = pd.DataFrame(data, columns=['student_id', 'student_name', 'gender', 'dept_id']).astype({'student_id':'Int64', 'student_name':'object', 'gender':'object', 'dept_id':'Int64'})\n",
        "data = [[1, 'Engineering'], [2, 'Science'], [3, 'Law']]\n",
        "department = pd.DataFrame(data, columns=['dept_id', 'dept_name']).astype({'dept_id':'Int64', 'dept_name':'object'})"
      ],
      "metadata": {
        "id": "UCjq_CxeNXiP"
      },
      "execution_count": 83,
      "outputs": []
    },
    {
      "cell_type": "code",
      "source": [
        "def count_students(student: pd.DataFrame, department: pd.DataFrame) -> pd.DataFrame:\n",
        "    return department.merge(student.groupby('dept_id')\\\n",
        "                        .agg(student_number = ('student_id', 'count')), how='left', left_on='dept_id', right_index=True)\\\n",
        "                        .iloc[:,1:]\\\n",
        "                        .fillna(0)\\\n",
        "                        .sort_values(by=['student_number', 'dept_name'], ascending=[False, True])"
      ],
      "metadata": {
        "id": "kOq9MXmhP-mi"
      },
      "execution_count": 93,
      "outputs": []
    },
    {
      "cell_type": "markdown",
      "source": [
        "612. Shortest Distance in a Plane\n",
        "\n",
        "https://leetcode.com/problems/shortest-distance-in-a-plane/description/\n",
        "\n",
        "```sql\n",
        "SELECT\n",
        "ROUND(MIN(SQRT(POWER((p1.x - p2.x), 2) + POWER((p1.y - p2.y), 2)))::decimal, 2) as shortest\n",
        "FROM Point2D p1\n",
        "CROSS JOIN Point2D p2\n",
        "WHERE p1.x <> p2.x OR p1.y <> p2.y\n",
        "```"
      ],
      "metadata": {
        "id": "aQBT_MjiRKQm"
      }
    },
    {
      "cell_type": "code",
      "source": [
        "data = [[-1, -1], [0, 0], [-1, -2]]\n",
        "point2_d = pd.DataFrame(data, columns=['x', 'y']).astype({'x':'Int64', 'y':'Int64'})"
      ],
      "metadata": {
        "id": "9YgGaQPlQc98"
      },
      "execution_count": 94,
      "outputs": []
    },
    {
      "cell_type": "code",
      "source": [
        "def shortest_distance(point2_d: pd.DataFrame) -> pd.DataFrame:\n",
        "    # Преобразуем данные в массивы типа float для избежания ошибок\n",
        "    coords = point2_d[['x', 'y']].to_numpy().astype(float)\n",
        "\n",
        "    # Определим функцию для вычисления минимального расстояния\n",
        "    def min_distance(x, y):\n",
        "        # Вычисление расстояний между точкой (x, y) и всеми остальными точками\n",
        "        distances = np.sqrt((x - coords[:, 0])**2 + (y - coords[:, 1])**2)\n",
        "        distances[distances == 0] = np.inf  # Исключаем саму точку (расстояние до себя)\n",
        "        return np.min(distances)\n",
        "\n",
        "    # Векторизуем функцию min_distance\n",
        "    vectorized_min_distance = np.vectorize(min_distance)\n",
        "\n",
        "    # Вычисляем минимальные расстояния для всех точек\n",
        "    shortest = vectorized_min_distance(coords[:, 0], coords[:, 1]).min().round(2)\n",
        "\n",
        "    return pd.DataFrame([shortest], columns=['shortest'], index=[0])"
      ],
      "metadata": {
        "id": "2Dllc0LOZ63l"
      },
      "execution_count": 111,
      "outputs": []
    },
    {
      "cell_type": "code",
      "source": [
        "def shortest_distance(point2_d: pd.DataFrame) -> pd.DataFrame:\n",
        "    return pd.DataFrame([point2_d.apply(lambda x: min(((x.x - a)**2 + (x.y - b)**2)**0.5\n",
        "                             for a, b in point2_d.values\n",
        "                             if (x.x, x.y) != (a, b)), axis=1).min().round(2)], columns=['shortest'], index=[0])"
      ],
      "metadata": {
        "id": "9VBUiTajXVMG"
      },
      "execution_count": 109,
      "outputs": []
    },
    {
      "cell_type": "markdown",
      "source": [
        "614. Second Degree Follower\n",
        "\n",
        "https://leetcode.com/problems/second-degree-follower/description/\n",
        "\n",
        "```sql\n",
        "select\n",
        "followee follower,\n",
        "count(follower) num\n",
        "from\n",
        "follow f\n",
        "where\n",
        "exists\n",
        "(\n",
        "    select 1 from\n",
        "    follow f1\n",
        "    where\n",
        "    f1.follower=f.followee\n",
        ")\n",
        "group by\n",
        "followee\n",
        "order by 1\n",
        "```"
      ],
      "metadata": {
        "id": "CIQp4qt2eJMO"
      }
    },
    {
      "cell_type": "code",
      "source": [
        "data = [['Alice', 'Bob'], ['Bob', 'Cena'], ['Bob', 'Donald'], ['Donald', 'Edward']]\n",
        "follow = pd.DataFrame(data, columns=['followee', 'follower']).astype({'followee':'object', 'follower':'object'})"
      ],
      "metadata": {
        "id": "6n0ZFOBviNTe"
      },
      "execution_count": 112,
      "outputs": []
    },
    {
      "cell_type": "code",
      "source": [
        "def second_degree_follower(follow: pd.DataFrame) -> pd.DataFrame:\n",
        "    return follow[follow.followee.isin(follow.follower)]\\\n",
        "                  .groupby(\"followee\").agg(num=('follower', 'count'))\\\n",
        "                  .reset_index()\\\n",
        "                  .rename({'followee': 'follower'}, axis=1)\\\n",
        "                  .sort_values(by='follower')"
      ],
      "metadata": {
        "id": "IAo3CliTie_c"
      },
      "execution_count": 118,
      "outputs": []
    },
    {
      "cell_type": "code",
      "source": [],
      "metadata": {
        "id": "pW-vQD7SigIC"
      },
      "execution_count": null,
      "outputs": []
    }
  ]
}