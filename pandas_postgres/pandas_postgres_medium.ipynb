{
  "nbformat": 4,
  "nbformat_minor": 0,
  "metadata": {
    "colab": {
      "provenance": [],
      "authorship_tag": "ABX9TyMnQE/QqjTnQ2g5R5juxHth",
      "include_colab_link": true
    },
    "kernelspec": {
      "name": "python3",
      "display_name": "Python 3"
    },
    "language_info": {
      "name": "python"
    }
  },
  "cells": [
    {
      "cell_type": "markdown",
      "metadata": {
        "id": "view-in-github",
        "colab_type": "text"
      },
      "source": [
        "<a href=\"https://colab.research.google.com/github/aleks-haksly/leetcode/blob/main/pandas_postgres/pandas_postgres_medium.ipynb\" target=\"_parent\"><img src=\"https://colab.research.google.com/assets/colab-badge.svg\" alt=\"Open In Colab\"/></a>"
      ]
    },
    {
      "cell_type": "code",
      "source": [
        "import pandas as pd"
      ],
      "metadata": {
        "id": "cCLIcJ3PfWNR"
      },
      "execution_count": 1,
      "outputs": []
    },
    {
      "cell_type": "markdown",
      "source": [
        "176. Second Highest Salary\n",
        "\n",
        "https://leetcode.com/problems/second-highest-salary/description/\n",
        "\n",
        "```sql\n",
        "SELECT max(salary) as SecondHighestSalary\n",
        "FROM (\n",
        "SELECT\n",
        "    id, salary,\n",
        "    dense_rank() OVER (ORDER BY salary DESC) AS rn\n",
        "FROM Employee e)\n",
        "WHERE rn = 2\n",
        "```"
      ],
      "metadata": {
        "id": "HpCi5KDkEKOV"
      }
    },
    {
      "cell_type": "code",
      "source": [
        "data = [[1, 100], [2, 200], [3, 300]]\n",
        "employee = pd.DataFrame(data, columns=['id', 'salary']).astype({'id':'int64', 'salary':'int64'})"
      ],
      "metadata": {
        "id": "pcV90IlBEL8G"
      },
      "execution_count": null,
      "outputs": []
    },
    {
      "cell_type": "code",
      "source": [
        "def second_highest_salary(employee: pd.DataFrame) -> pd.DataFrame:\n",
        "    result = employee.assign(rn = employee.salary.rank(method='dense', ascending=False)).query(\"rn == 2\")[['salary']].rename({\"salary\":\"SecondHighestSalary\"}, axis=1)\n",
        "    return result.head(1) if result.shape[0] else pd.DataFrame([{\"SecondHighestSalary\": None}])"
      ],
      "metadata": {
        "id": "4QO06x1gENsK"
      },
      "execution_count": null,
      "outputs": []
    },
    {
      "cell_type": "markdown",
      "source": [
        "177. Nth Highest Salary\n",
        "\n",
        "https://leetcode.com/problems/nth-highest-salary/description/\n",
        "\n",
        "```sql\n",
        "CREATE OR REPLACE FUNCTION NthHighestSalary(N INT) RETURNS TABLE (Salary INT) AS $$\n",
        "BEGIN\n",
        "  RETURN QUERY (\n",
        "    -- Write your PostgreSQL query statement below.\n",
        "    SELECT max(sub.salary) FROM (\n",
        "    SELECT\n",
        "        e.salary,\n",
        "        dense_rank() OVER (ORDER BY e.salary DESC) as rn\n",
        "    FROM Employee e) sub\n",
        "    WHERE sub.rn = N\n",
        "      \n",
        "  );\n",
        "END;\n",
        "$$ LANGUAGE plpgsql;\n",
        "```"
      ],
      "metadata": {
        "id": "HQRTGKTCMWL_"
      }
    },
    {
      "cell_type": "code",
      "source": [
        "data = [[1, 100], [2, 200], [3, 300]]\n",
        "employee = pd.DataFrame(data, columns=['Id', 'Salary']).astype({'Id':'Int64', 'Salary':'Int64'})"
      ],
      "metadata": {
        "id": "o3RF_HuIMLLz"
      },
      "execution_count": null,
      "outputs": []
    },
    {
      "cell_type": "code",
      "source": [
        "def nth_highest_salary(employee: pd.DataFrame, N: int) -> pd.DataFrame:\n",
        "    result = employee.assign(rn = employee.salary.rank(method='dense', ascending=False)).query(\"rn == @N\")[['salary']].rename({\"salary\":f\"getNthHighestSalary({N})\"}, axis=1)\n",
        "    return result.head(1) if result.shape[0] else pd.DataFrame([{f\"getNthHighestSalary({N})\": None}])"
      ],
      "metadata": {
        "id": "siT7JR4_MhRD"
      },
      "execution_count": null,
      "outputs": []
    },
    {
      "cell_type": "markdown",
      "source": [
        "178. Rank Scores\n",
        "\n",
        "https://leetcode.com/problems/rank-scores/description/\n",
        "\n",
        "```sql\n",
        "SELECT\n",
        "    score,\n",
        "    dense_rank() OVER (ORDER BY score DESC) as rank\n",
        "FROM Scores\n",
        "ORDER BY score DESC\n",
        "```"
      ],
      "metadata": {
        "id": "kjLWudLoNc2V"
      }
    },
    {
      "cell_type": "code",
      "source": [
        "data = [[1, 3.5], [2, 3.65], [3, 4.0], [4, 3.85], [5, 4.0], [6, 3.65]]\n",
        "scores = pd.DataFrame(data, columns=['id', 'score']).astype({'id':'Int64', 'score':'Float64'})"
      ],
      "metadata": {
        "id": "RaJ3TLfFMj03"
      },
      "execution_count": null,
      "outputs": []
    },
    {
      "cell_type": "code",
      "source": [
        "def order_scores(scores: pd.DataFrame) -> pd.DataFrame:\n",
        "    return scores.assign(rank = scores.score.rank(method='dense', ascending=False))[['score','rank']].sort_values(by='score', ascending=False)"
      ],
      "metadata": {
        "id": "uxpk7XqkNk_T"
      },
      "execution_count": null,
      "outputs": []
    },
    {
      "cell_type": "markdown",
      "source": [
        "180. Consecutive Numbers\n",
        "\n",
        "https://leetcode.com/problems/consecutive-numbers/\n",
        "\n",
        "```sql\n",
        "-- Write your PostgreSQL query statement below\n",
        "SELECT\n",
        "    DISTINCT consecutivenums FROM (\n",
        "SELECT\n",
        "    num as ConsecutiveNums,\n",
        "    lag(num) OVER (ORDER BY id) as b,\n",
        "    lead(num) OVER (ORDER BY id) as a\n",
        " FROM Logs) sub\n",
        " WHERE ConsecutiveNums = a AND ConsecutiveNums = b\n",
        " ```\n"
      ],
      "metadata": {
        "id": "wyEUJqjywPCD"
      }
    },
    {
      "cell_type": "code",
      "source": [
        "data = [[1, 1], [2, 1], [3, 1], [4, 2], [5, 1], [6, 2], [7, 2]]\n",
        "logs = pd.DataFrame(data, columns=['id', 'num']).astype({'id':'Int64', 'num':'Int64'})"
      ],
      "metadata": {
        "id": "NMpKlYpmNqik"
      },
      "execution_count": null,
      "outputs": []
    },
    {
      "cell_type": "code",
      "source": [
        "def consecutive_numbers(logs: pd.DataFrame) -> pd.DataFrame:\n",
        "    condition = ((logs.num.shift(1) == logs.num) & ((logs.num.shift(-1) == logs.num)))\n",
        "    return logs[condition]['num'].drop_duplicates().rename('ConsecutiveNums').to_frame()"
      ],
      "metadata": {
        "id": "XyhIixjbydRW"
      },
      "execution_count": null,
      "outputs": []
    },
    {
      "cell_type": "markdown",
      "source": [
        "184. Department Highest Salary\n",
        "\n",
        "https://leetcode.com/problems/department-highest-salary/description/\n",
        "\n",
        "```sql\n",
        "SELECT\n",
        "    d.name AS Department,\n",
        "    sub.Employee,\n",
        "    sub.Salary\n",
        "FROM (\n",
        "SELECT\n",
        "    e.departmentId,\n",
        "    e.name AS Employee ,\n",
        "    salary AS Salary,\n",
        "    RANK() OVER (PARTITION BY departmentId ORDER BY Salary DESC) as rnk\n",
        "FROM Employee e) sub\n",
        "LEFT JOIN Department d ON sub.departmentId = d.id\n",
        "WHERE sub.rnk = 1\n",
        "```"
      ],
      "metadata": {
        "id": "XckxWJ3ZzDKb"
      }
    },
    {
      "cell_type": "code",
      "source": [
        "data = [[1, 'Joe', 70000, 1], [2, 'Jim', 90000, 1], [3, 'Henry', 80000, 2], [4, 'Sam', 60000, 2], [5, 'Max', 90000, 1]]\n",
        "employee = pd.DataFrame(data, columns=['id', 'name', 'salary', 'departmentId']).astype({'id':'Int64', 'name':'object', 'salary':'Int64', 'departmentId':'Int64'})\n",
        "data = [[1, 'IT'], [2, 'Sales']]\n",
        "department = pd.DataFrame(data, columns=['id', 'name']).astype({'id':'Int64', 'name':'object'})"
      ],
      "metadata": {
        "id": "men64bJfy17K"
      },
      "execution_count": null,
      "outputs": []
    },
    {
      "cell_type": "code",
      "source": [
        "def department_highest_salary(employee: pd.DataFrame, department: pd.DataFrame) -> pd.DataFrame:\n",
        "    return employee[employee.groupby('departmentId')['salary']\\\n",
        "                    .rank(method='min', ascending=False) == 1].merge(department, how='left', left_on='departmentId', right_on='id')\\\n",
        "                    .rename({\"name_y\": \"Department\", \"name_x\": \"Employee\", \"salary\": \"Salary\"}, axis=1)[[\"Department\", \"Employee\", \"Salary\"]]"
      ],
      "metadata": {
        "id": "9Hu0diZVzNRo"
      },
      "execution_count": null,
      "outputs": []
    },
    {
      "cell_type": "markdown",
      "source": [
        "550. Game Play Analysis IV\n",
        "\n",
        "https://leetcode.com/problems/game-play-analysis-iv/\n",
        "\n",
        "```sql\n",
        "-- Write your PostgreSQL query statement below\n",
        "WITH t AS (\n",
        "SELECT\n",
        "    a.player_id,\n",
        "    min(a.event_date) + INTERVAL '1 day ' as next_day\n",
        "FROM Activity a\n",
        "GROUP BY a.player_id )\n",
        "\n",
        "SELECT\n",
        "ROUND(COUNT(a.player_id)*1.0 / (SELECT COUNT(DISTINCT player_id) FROM Activity), 2) AS fraction  \n",
        "FROM Activity a\n",
        "JOIN t ON a.player_id = t.player_id AND t.next_day = a.event_date\n",
        "\n",
        "```"
      ],
      "metadata": {
        "id": "k31yVcT352eX"
      }
    },
    {
      "cell_type": "code",
      "source": [
        "data = [[1, 2, '2016-03-01', 5], [1, 2, '2016-03-02', 6], [2, 3, '2017-06-25', 1], [3, 1, '2016-03-02', 0], [3, 4, '2018-07-03', 5]]\n",
        "activity = pd.DataFrame(data, columns=['player_id', 'device_id', 'event_date', 'games_played']).astype({'player_id':'Int64', 'device_id':'Int64', 'event_date':'datetime64[ns]', 'games_played':'Int64'})"
      ],
      "metadata": {
        "id": "_N7UWnZa57_6"
      },
      "execution_count": null,
      "outputs": []
    },
    {
      "cell_type": "code",
      "source": [
        "def gameplay_analysis(activity: pd.DataFrame) -> pd.DataFrame:\n",
        "    next_day = activity.groupby(\"player_id\").event_date.apply(lambda x: x.min() + pd.DateOffset(days=1))\n",
        "    fraction = round(activity.assign(next_day=activity.player_id.map(next_day)).query(\"event_date == next_day\").player_id.nunique() / activity.player_id.nunique(), 2)\n",
        "    return pd.DataFrame([fraction], columns=['fraction'], index=[0])"
      ],
      "metadata": {
        "id": "jcbuDfJS58fO"
      },
      "execution_count": null,
      "outputs": []
    },
    {
      "cell_type": "markdown",
      "source": [
        "570. Managers with at Least 5 Direct Reports\n",
        "\n",
        "https://leetcode.com/problems/managers-with-at-least-5-direct-reports/description/\n",
        "\n",
        "```sql\n",
        "SELECT\n",
        "    e1.name\n",
        "FROM Employee e1\n",
        "JOIN Employee e2 ON e1.id = e2.managerId\n",
        "GROUP BY e1.id, e1.name\n",
        "HAVING count(e2.managerId) >= 5\n",
        "```"
      ],
      "metadata": {
        "id": "E5Q12FwXAay1"
      }
    },
    {
      "cell_type": "code",
      "source": [
        "data = [[101, 'John', 'A', None], [102, 'Dan', 'A', 101], [103, 'James', 'A', 101], [104, 'Amy', 'A', 101], [105, 'Anne', 'A', 101], [106, 'Ron', 'B', 101]]\n",
        "employee = pd.DataFrame(data, columns=['id', 'name', 'department', 'managerId']).astype({'id':'Int64', 'name':'object', 'department':'object', 'managerId':'Int64'})"
      ],
      "metadata": {
        "id": "hVVNObj5_DXf"
      },
      "execution_count": null,
      "outputs": []
    },
    {
      "cell_type": "code",
      "source": [
        "def find_managers(employee: pd.DataFrame) -> pd.DataFrame:\n",
        "    filtered = employee.groupby('managerId', ).agg(reporting = ('id', 'count')).query('reporting >=5', engine='python')\n",
        "    return employee[employee.id.isin(filtered.index)][['name']]"
      ],
      "metadata": {
        "id": "enVmCaeBAh6e"
      },
      "execution_count": null,
      "outputs": []
    },
    {
      "cell_type": "code",
      "source": [],
      "metadata": {
        "id": "zj7FYqP8BfEk"
      },
      "execution_count": null,
      "outputs": []
    },
    {
      "cell_type": "markdown",
      "source": [
        "585. Investments in 2016\n",
        "\n",
        "https://leetcode.com/problems/investments-in-2016/description/\n",
        "\n",
        "```sql\n",
        "WITH uniqu_ltt AS(\n",
        "SELECT\n",
        "    lat::text||' '||lon::text as ltconc\n",
        "FROM Insurance i\n",
        "GROUP BY lat::text||' '||lon::text\n",
        "HAVING count(*) = 1),\n",
        "\n",
        "repeted_tiv AS (\n",
        "SELECT\n",
        "tiv_2015\n",
        "FROM Insurance i\n",
        "GROUP BY tiv_2015\n",
        "HAVING COUNT(tiv_2015) > 1)\n",
        "\n",
        "SELECT\n",
        "ROUND(sum(tiv_2016)::NUMERIC, 2) as tiv_2016\n",
        "FROM Insurance\n",
        "WHERE tiv_2015 in (SELECT tiv_2015 FROM repeted_tiv) AND lat::text||' '||lon::text IN (SELECT ltconc FROM uniqu_ltt)\n",
        "```"
      ],
      "metadata": {
        "id": "oyhnsdPkG_0r"
      }
    },
    {
      "cell_type": "code",
      "source": [
        "data = [[1, 10, 5, 10, 10], [2, 20, 20, 20, 20], [3, 10, 30, 20, 20], [4, 10, 40, 40, 40]]\n",
        "insurance = pd.DataFrame(data, columns=['pid', 'tiv_2015', 'tiv_2016', 'lat', 'lon']).astype({'pid':'Int64', 'tiv_2015':'Float64', 'tiv_2016':'Float64', 'lat':'Float64', 'lon':'Float64'})"
      ],
      "metadata": {
        "id": "Ofxkdjc_Jr7T"
      },
      "execution_count": null,
      "outputs": []
    },
    {
      "cell_type": "code",
      "source": [
        "def find_investments(insurance: pd.DataFrame) -> pd.DataFrame:\n",
        "    uniqu_ltt  = insurance.assign(ltconc = insurance.lat.astype(str).str.cat(insurance.lon.astype(str), sep=' ')).groupby('ltconc').agg(ltconc=('pid', 'count')).query(\"ltconc == 1\", engine='python').index\n",
        "    repeted_tiv  = insurance.groupby('tiv_2015').agg(tiv_2015_cnt = ('tiv_2015', 'count')).query(\"tiv_2015_cnt > 1\", engine='python').index\n",
        "    tiv_2016 = insurance[insurance.tiv_2015.isin(repeted_tiv) & insurance.lat.astype(str).str.cat(insurance.lon.astype(str), sep=' ').isin(uniqu_ltt)].tiv_2016.sum().round(2)\n",
        "    return pd.DataFrame([tiv_2016], columns=['tiv_2016'], index=[0])"
      ],
      "metadata": {
        "id": "JwcxQvhlJutz"
      },
      "execution_count": null,
      "outputs": []
    },
    {
      "cell_type": "markdown",
      "source": [
        "602. Friend Requests II: Who Has the Most Friends\n",
        "\n",
        "https://leetcode.com/problems/friend-requests-ii-who-has-the-most-friends/description/\n",
        "\n",
        "```sql\n",
        "WITH temp as\n",
        "(SELECT requester_id as id FROM RequestAccepted\n",
        "UNION ALL\n",
        "SELECT accepter_id as id FROM RequestAccepted)\n",
        "\n",
        "SELECT id, COUNT(id) as num FROM temp GROUP BY id\n",
        "ORDER BY num DESC LIMIT 1\n",
        "```"
      ],
      "metadata": {
        "id": "UJQunGqPOjs_"
      }
    },
    {
      "cell_type": "code",
      "source": [
        "data = [[1, 2, '2016/06/03'], [1, 3, '2016/06/08'], [2, 3, '2016/06/08'], [3, 4, '2016/06/09']]\n",
        "request_accepted = pd.DataFrame(data, columns=['requester_id', 'accepter_id', 'accept_date']).astype({'requester_id':'Int64', 'accepter_id':'Int64', 'accept_date':'datetime64[ns]'})"
      ],
      "metadata": {
        "id": "LmeXjXJJNUdK"
      },
      "execution_count": null,
      "outputs": []
    },
    {
      "cell_type": "code",
      "source": [
        "def most_friends(request_accepted: pd.DataFrame) -> pd.DataFrame:\n",
        "    result = request_accepted.requester_id.to_list() + request_accepted.accepter_id.to_list()\n",
        "    return pd.DataFrame(result, columns=['id'], index=range(len(result))).value_counts().sort_values(ascending=False).head(1).reset_index(name='num')"
      ],
      "metadata": {
        "id": "8AdvWZQCVl_a"
      },
      "execution_count": null,
      "outputs": []
    },
    {
      "cell_type": "code",
      "source": [
        "import pandas as pd\n",
        "from collections import Counter\n",
        "\n",
        "def most_friends(request_accepted: pd.DataFrame) -> pd.DataFrame:\n",
        "    c = Counter(request_accepted.requester_id)\n",
        "    c.update(request_accepted.accepter_id)\n",
        "    return pd.DataFrame(c.most_common()[:1], columns=['id', 'num'], index=[0])"
      ],
      "metadata": {
        "id": "etgfORvKWD-J"
      },
      "execution_count": null,
      "outputs": []
    },
    {
      "cell_type": "markdown",
      "source": [
        "608. Tree Node\n",
        "\n",
        "https://leetcode.com/problems/tree-node/description/\n",
        "\n",
        "```sql\n",
        "SELECT\n",
        "    id,\n",
        "    CASE WHEN p_id IS NULL THEN 'Root'\n",
        "         WHEN id in (SELECT p_id FROM Tree) THEN 'Inner'\n",
        "         ELSE 'Leaf' END as \"type\"\n",
        "FROM Tree\n",
        "```"
      ],
      "metadata": {
        "id": "a-_cPtpgakB9"
      }
    },
    {
      "cell_type": "code",
      "source": [
        "data = [[1, None], [2, 1], [3, 1], [4, 2], [5, 2]]\n",
        "tree = pd.DataFrame(data, columns=['id', 'p_id']).astype({'id':'Int64', 'p_id':'Int64'})"
      ],
      "metadata": {
        "id": "6MBXWXC-YwVb"
      },
      "execution_count": null,
      "outputs": []
    },
    {
      "cell_type": "code",
      "source": [
        "import numpy as np\n",
        "\n",
        "def tree_node(tree: pd.DataFrame) -> pd.DataFrame:\n",
        "    tree[\"type\"] = np.where(tree.p_id.isna(), 'Root',\n",
        "                        np.where(~tree.id.isin(tree.p_id), 'Leaf', 'Inner'))\n",
        "    return tree[['id', 'type']]"
      ],
      "metadata": {
        "id": "HfOr8rmNb38x"
      },
      "execution_count": null,
      "outputs": []
    },
    {
      "cell_type": "markdown",
      "source": [
        "626. Exchange Seats\n",
        "\n",
        "https://leetcode.com/problems/exchange-seats/description/\n",
        "\n",
        "```sql\n",
        "SELECT\n",
        "id,\n",
        "CASE WHEN id % 2 = 1 THEN LEAD(student, 1, student) OVER (ORDER BY id)\n",
        "    ELSE LAG(student, 1, student) OVER (ORDER BY id) END AS student\n",
        "FROM Seat\n",
        "```"
      ],
      "metadata": {
        "id": "5qaqa-GWfWSJ"
      }
    },
    {
      "cell_type": "code",
      "source": [
        "data = [[1, 'Abbot'], [2, 'Doris'], [3, 'Emerson'], [4, 'Green'], [5, 'Jeames']]\n",
        "seat = pd.DataFrame(data, columns=['id', 'student']).astype({'id':'Int64', 'student':'object'})"
      ],
      "metadata": {
        "id": "EAuC6nJQfbXK"
      },
      "execution_count": null,
      "outputs": []
    },
    {
      "cell_type": "code",
      "source": [
        "def exchange_seats(seat: pd.DataFrame) -> pd.DataFrame:\n",
        "    seat['student'] = np.where((seat.id %2 == 1) & (seat.id != seat.shape[0]), seat.student.shift(-1),\n",
        "                               np.where(seat.id %2 == 0, seat.student.shift(1), seat.student))\n",
        "    return seat"
      ],
      "metadata": {
        "id": "LX9NqRKPfhGn"
      },
      "execution_count": null,
      "outputs": []
    },
    {
      "cell_type": "markdown",
      "source": [
        "1045. Customers Who Bought All Products\n",
        "\n",
        "https://leetcode.com/problems/customers-who-bought-all-products/description/\n",
        "\n",
        "```sql\n",
        "SELECT\n",
        "    customer_id\n",
        "FROM Customer\n",
        "GROUP BY customer_id\n",
        "HAVING ARRAY_LENGTH(ARRAY_AGG(DISTINCT product_key), 1) = (SELECT COUNT(*) FROM Product);\n",
        "\n",
        "```"
      ],
      "metadata": {
        "id": "h_v8-yvw8021"
      }
    },
    {
      "cell_type": "code",
      "source": [
        "data = [[1, 5], [2, 6], [3, 5], [3, 6], [1, 6]]\n",
        "customer = pd.DataFrame(data, columns=['customer_id', 'product_key']).astype({'customer_id':'Int64', 'product_key':'Int64'})\n",
        "data = [[5], [6]]\n",
        "product = pd.DataFrame(data, columns=['product_key']).astype({'product_key':'Int64'})"
      ],
      "metadata": {
        "id": "SKkaub5Q6_Ti"
      },
      "execution_count": null,
      "outputs": []
    },
    {
      "cell_type": "code",
      "source": [
        "def find_customers(customer: pd.DataFrame, product: pd.DataFrame) -> pd.DataFrame:\n",
        "    all_product = set(product.product_key.values)\n",
        "    return customer.groupby('customer_id')\\\n",
        "                   .product_key\\\n",
        "                   .apply(lambda x: set(x))\\\n",
        "                   .reset_index(name='product_keys')\\\n",
        "                   .query('product_keys == @all_product')\\\n",
        "                   [['customer_id']]"
      ],
      "metadata": {
        "id": "oSpByYQV8-Vd"
      },
      "execution_count": null,
      "outputs": []
    },
    {
      "cell_type": "markdown",
      "source": [
        "1070. Product Sales Analysis III\n",
        "\n",
        "https://leetcode.com/problems/product-sales-analysis-iii/description/\n",
        "\n",
        "```sql\n",
        "-- Write your PostgreSQL query statement below\n",
        "WITH t as (\n",
        "SELECT\n",
        "    product_id,\n",
        "    min(year) as min_year\n",
        "FROM Sales\n",
        "GROUP BY product_id)\n",
        "\n",
        "SELECT\n",
        "    s.product_id,\n",
        "    s.year as first_year ,\n",
        "    s.quantity,\n",
        "    s.price\n",
        "FROM Sales s\n",
        "JOIN t ON t.product_id = s.product_id AND t.min_year = s.year\n",
        "```"
      ],
      "metadata": {
        "id": "wZ7cPK12_1Ek"
      }
    },
    {
      "cell_type": "code",
      "source": [
        "data = [[1, 100, 2008, 10, 5000], [2, 100, 2009, 12, 5000], [7, 200, 2011, 15, 9000]]\n",
        "sales = pd.DataFrame(data, columns=['sale_id', 'product_id', 'year', 'quantity', 'price']).astype({'sale_id':'Int64', 'product_id':'Int64', 'year':'Int64', 'quantity':'Int64', 'price':'Int64'})\n",
        "data = [[100, 'Nokia'], [200, 'Apple'], [300, 'Samsung']]\n",
        "product = pd.DataFrame(data, columns=['product_id', 'product_name']).astype({'product_id':'Int64', 'product_name':'object'})"
      ],
      "metadata": {
        "id": "ns3A5dKs9viw"
      },
      "execution_count": null,
      "outputs": []
    },
    {
      "cell_type": "code",
      "source": [
        "def sales_analysis(sales: pd.DataFrame, product: pd.DataFrame) -> pd.DataFrame:\n",
        "    return sales.assign(min_year = sales.groupby('product_id').year.rank(method='min'))\\\n",
        "                .query('min_year ==  1', engine='python')\\\n",
        "                .iloc[:,1:-1]\\\n",
        "                .rename({'year': 'first_year'}, axis=1)"
      ],
      "metadata": {
        "id": "PFmxqrm8_8m-"
      },
      "execution_count": null,
      "outputs": []
    },
    {
      "cell_type": "markdown",
      "source": [
        "1158. Market Analysis I\n",
        "\n",
        "https://leetcode.com/problems/market-analysis-i/description/\n",
        "\n",
        "```sql\n",
        "SELECT\n",
        "    u.user_id as buyer_id,\n",
        "    u.join_date,\n",
        "    count(o.order_id) as orders_in_2019\n",
        "FROM Users u\n",
        "LEFT JOIN Orders o ON u.user_id = o.buyer_id AND date_part('year', o.order_date) = 2019\n",
        "GROUP BY u.user_id, u.join_date\n",
        "```"
      ],
      "metadata": {
        "id": "GgzenvdzCeFL"
      }
    },
    {
      "cell_type": "code",
      "source": [
        "data = [[1, '2018-01-01', 'Lenovo'], [2, '2018-02-09', 'Samsung'], [3, '2018-01-19', 'LG'], [4, '2018-05-21', 'HP']]\n",
        "users = pd.DataFrame(data, columns=['user_id', 'join_date', 'favorite_brand']).astype({'user_id':'Int64', 'join_date':'datetime64[ns]', 'favorite_brand':'object'})\n",
        "data = [[1, '2019-08-01', 4, 1, 2], [2, '2018-08-02', 2, 1, 3], [3, '2019-08-03', 3, 2, 3], [4, '2018-08-04', 1, 4, 2], [5, '2018-08-04', 1, 3, 4], [6, '2019-08-05', 2, 2, 4]]\n",
        "orders = pd.DataFrame(data, columns=['order_id', 'order_date', 'item_id', 'buyer_id', 'seller_id']).astype({'order_id':'Int64', 'order_date':'datetime64[ns]', 'item_id':'Int64', 'buyer_id':'Int64', 'seller_id':'Int64'})\n",
        "data = [[1, 'Samsung'], [2, 'Lenovo'], [3, 'LG'], [4, 'HP']]\n",
        "items = pd.DataFrame(data, columns=['item_id', 'item_brand']).astype({'item_id':'Int64', 'item_brand':'object'})"
      ],
      "metadata": {
        "id": "Yl39K4flAmbm"
      },
      "execution_count": null,
      "outputs": []
    },
    {
      "cell_type": "code",
      "source": [
        "def market_analysis(users: pd.DataFrame, orders: pd.DataFrame, items: pd.DataFrame) -> pd.DataFrame:\n",
        "    buyers = orders[orders.order_date.dt.year == 2019]\\\n",
        "                  .groupby('buyer_id')\\\n",
        "                  .order_id.count()\\\n",
        "                  .reset_index(name='orders_in_2019')\n",
        "    return users.merge(buyers, how='left', left_on='user_id', right_on='buyer_id')[['user_id', 'join_date', 'orders_in_2019']].fillna({'orders_in_2019': 0})\\\n",
        "                            .rename({'user_id': 'buyer_id'}, axis=1)"
      ],
      "metadata": {
        "id": "T3fCxFwpCuGZ"
      },
      "execution_count": null,
      "outputs": []
    },
    {
      "cell_type": "markdown",
      "source": [
        "1164. Product Price at a Given Date\n",
        "\n",
        "https://leetcode.com/problems/product-price-at-a-given-date/description/\n",
        "\n",
        "```sql\n",
        "WITH t as (\n",
        "SELECT\n",
        "    s1.product_id,\n",
        "    s2.new_price,\n",
        "    row_number() OVER (PARTITION BY s1.product_id ORDER BY s2.change_date DESC NULLS LAST) as rn\n",
        "FROM Products s1\n",
        "LEFT JOIN  Products s2 ON s1.product_id = s2.product_id AND s1.change_date = s2.change_date  AND s2.change_date <= '2019-08-16')\n",
        "\n",
        "SELECT\n",
        "    product_id,\n",
        "    COALESCE(new_price, 10) AS  price\n",
        "FROM t\n",
        "WHERE rn = 1\n",
        "```"
      ],
      "metadata": {
        "id": "xzkB4r7HIRYP"
      }
    },
    {
      "cell_type": "code",
      "source": [
        "data = [[1, 20, '2019-08-14'], [2, 50, '2019-08-14'], [1, 30, '2019-08-15'], [1, 35, '2019-08-16'], [2, 65, '2019-08-17'], [3, 20, '2019-08-18']]\n",
        "products = pd.DataFrame(data, columns=['product_id', 'new_price', 'change_date']).astype({'product_id':'Int64', 'new_price':'Int64', 'change_date':'datetime64[ns]'})"
      ],
      "metadata": {
        "id": "lDaSGpjYCwSd"
      },
      "execution_count": null,
      "outputs": []
    },
    {
      "cell_type": "code",
      "source": [
        "def price_at_given_date(products: pd.DataFrame) -> pd.DataFrame:\n",
        "    temp = products[products.change_date.le('2019-08-16')]\\\n",
        "      .assign(max_date = products[products.change_date.le('2019-08-16')]\\\n",
        "              .groupby('product_id')\\\n",
        "              .change_date.rank(method='min', ascending=False))\\\n",
        "              .query(\"max_date == 1\")\\\n",
        "              .set_index('product_id')\\\n",
        "              .new_price\n",
        "    products['price'] = products.product_id\\\n",
        "                                    .map(temp)\\\n",
        "                                    .fillna(10)\n",
        "    return products[['product_id','price']].drop_duplicates()"
      ],
      "metadata": {
        "id": "xcDxfVQqIX93"
      },
      "execution_count": null,
      "outputs": []
    },
    {
      "cell_type": "markdown",
      "source": [
        "1174. Immediate Food Delivery II\n",
        "\n",
        "https://leetcode.com/problems/immediate-food-delivery-ii/description/\n",
        "\n",
        "```sql\n",
        "\n",
        "WITH t as (\n",
        "SELECT\n",
        "    *,\n",
        "    row_number() OVER (PARTITION BY customer_id ORDER BY order_date) as rn\n",
        "FROM Delivery)\n",
        "\n",
        "\n",
        "SELECT\n",
        "    round(count(delivery_id) FILTER (WHERE order_date = customer_pref_delivery_date )*100.0 / count(delivery_id), 2) as immediate_percentage\n",
        "FROM t\n",
        "WHERE t.rn = 1\n",
        "```"
      ],
      "metadata": {
        "id": "PAv8AsGvNJY0"
      }
    },
    {
      "cell_type": "code",
      "source": [
        "data = [[1, 1, '2019-08-01', '2019-08-02'], [2, 2, '2019-08-02', '2019-08-02'], [3, 1, '2019-08-11', '2019-08-12'], [4, 3, '2019-08-24', '2019-08-24'], [5, 3, '2019-08-21', '2019-08-22'], [6, 2, '2019-08-11', '2019-08-13'], [7, 4, '2019-08-09', '2019-08-09']]\n",
        "delivery = pd.DataFrame(data, columns=['delivery_id', 'customer_id', 'order_date', 'customer_pref_delivery_date']).astype({'delivery_id':'Int64', 'customer_id':'Int64', 'order_date':'datetime64[ns]', 'customer_pref_delivery_date':'datetime64[ns]'})"
      ],
      "metadata": {
        "id": "hCTio1gbLqKf"
      },
      "execution_count": null,
      "outputs": []
    },
    {
      "cell_type": "code",
      "source": [
        "def immediate_food_delivery(delivery: pd.DataFrame) -> pd.DataFrame:\n",
        "    first_orders = delivery.assign(rn=delivery.groupby('customer_id').order_date.rank(method='first')).query(\"(rn == 1)\")\n",
        "    immediate_first_orders = first_orders.query(\"order_date == customer_pref_delivery_date\")\n",
        "    return pd.DataFrame([immediate_first_orders.shape[0] * 100 / first_orders.shape[0]], columns=['immediate_percentage'], index= [0]).round(2)"
      ],
      "metadata": {
        "id": "4NrlSr9yU_Ru"
      },
      "execution_count": null,
      "outputs": []
    },
    {
      "cell_type": "markdown",
      "source": [
        "1193. Monthly Transactions I\n",
        "\n",
        "https://leetcode.com/problems/monthly-transactions-i/description/\n",
        "\n",
        "\n",
        "```sql\n",
        "-- Write your PostgreSQL query statement below\n",
        "SELECT\n",
        "to_char(t.trans_date, 'YYYY-MM') as month, country,\n",
        "count(*) as trans_count,\n",
        "count(*) FILTER (WHERE t.state = 'approved') as approved_count,\n",
        "coalesce(sum(t.amount), 0) as trans_total_amount,\n",
        "coalesce(sum(t.amount) FILTER (WHERE t.state = 'approved'), 0) as approved_total_amount\n",
        "\n",
        "FROM Transactions t\n",
        "\n",
        "GROUP BY to_char(trans_date, 'YYYY-MM'), country\n",
        "```"
      ],
      "metadata": {
        "id": "VLjHYMDEVLhA"
      }
    },
    {
      "cell_type": "code",
      "source": [
        "data = [[121, 'US', 'approved', 1000, '2018-12-18'], [122, 'US', 'declined', 2000, '2018-12-19'], [123, 'US', 'approved', 2000, '2019-01-01'], [124, 'DE', 'approved', 2000, '2019-01-07']]\n",
        "transactions = pd.DataFrame(data, columns=['id', 'country', 'state', 'amount', 'trans_date']).astype({'id':'Int64', 'country':'object', 'state':'object', 'amount':'Int64', 'trans_date':'datetime64[ns]'})"
      ],
      "metadata": {
        "id": "a7jztiQ7VHNl"
      },
      "execution_count": null,
      "outputs": []
    },
    {
      "cell_type": "code",
      "source": [
        "import numpy as np\n",
        "def monthly_transactions(transactions: pd.DataFrame) -> pd.DataFrame:\n",
        "    return transactions.assign(month = transactions.trans_date.dt.strftime('%Y-%m'))\\\n",
        "            .assign(approved_total_amount = transactions.amount * np.where(transactions.state == 'approved', 1, 0))\\\n",
        "            .groupby([\"month\", \"country\"], dropna=False).agg({'id': 'count', 'state': lambda x: sum(np.where(x == 'approved', 1, 0)), 'amount': 'sum', 'approved_total_amount': 'sum'})\\\n",
        "            .rename({'id': 'trans_count', 'state':'approved_count', 'amount':'trans_total_amount'}, axis=1).reset_index()"
      ],
      "metadata": {
        "id": "PDtL77SuWwau"
      },
      "execution_count": null,
      "outputs": []
    },
    {
      "cell_type": "markdown",
      "source": [
        "1204. Last Person to Fit in the Bus\n",
        "\n",
        "https://leetcode.com/problems/last-person-to-fit-in-the-bus/description/\n",
        "\n",
        "```sql\n",
        "-- Write your PostgreSQL query statement below\n",
        "\n",
        "SELECT\n",
        "person_name\n",
        "FROM (\n",
        "SELECT\n",
        "    turn,\n",
        "    person_name,\n",
        "    sum(weight ) OVER (ORDER BY turn) as cumsum\n",
        "FROM Queue ) sub\n",
        "\n",
        "WHERE cumsum <= 1000\n",
        "ORDER BY turn DESC\n",
        "LIMIT 1\n",
        "```"
      ],
      "metadata": {
        "id": "ZupVd_Wejwbm"
      }
    },
    {
      "cell_type": "code",
      "source": [
        "data = [[5, 'Alice', 250, 1], [4, 'Bob', 175, 5], [3, 'Alex', 350, 2], [6, 'John Cena', 400, 3], [1, 'Winston', 500, 6], [2, 'Marie', 200, 4]]\n",
        "queue = pd.DataFrame(data, columns=['person_id', 'person_name', 'weight', 'turn']).astype({'person_id':'Int64', 'person_name':'object', 'weight':'Int64', 'turn':'Int64'})"
      ],
      "metadata": {
        "id": "rpUxrBQ5d-mO"
      },
      "execution_count": null,
      "outputs": []
    },
    {
      "cell_type": "code",
      "source": [
        "def last_passenger(queue: pd.DataFrame) -> pd.DataFrame:\n",
        "    person_name  = queue.sort_values(by='turn').assign(csum = queue.sort_values(by='turn').weight.cumsum()).query('csum <= 1000', engine='python').set_index('person_name').turn.idxmax()\n",
        "    return pd.DataFrame([person_name], columns=['person_name'], index=[0])"
      ],
      "metadata": {
        "id": "rQJrbemCj4A9"
      },
      "execution_count": null,
      "outputs": []
    },
    {
      "cell_type": "markdown",
      "source": [
        "1321. Restaurant Growth\n",
        "\n",
        "https://leetcode.com/problems/restaurant-growth/description/\n",
        "\n",
        "```sql\n",
        "-- Write your PostgreSQL query statement below\n",
        "WITH agged_amount AS (\n",
        "    SELECT\n",
        "        visited_on,\n",
        "        sum(amount) as amount\n",
        "    FROM Customer\n",
        "    GROUP BY visited_on\n",
        "),\n",
        "t as (SELECT\n",
        "    visited_on,\n",
        "    ROUND(sum(amount) OVER (ORDER BY visited_on RANGE BETWEEN '6 days' PRECEDING AND CURRENT ROW), 2) as amount ,\n",
        "    ROUND(avg(amount) OVER (ORDER BY visited_on RANGE BETWEEN '6 days' PRECEDING AND CURRENT ROW), 2) as average_amount\n",
        "FROM agged_amount)\n",
        "\n",
        "SELECT *\n",
        "FROM t\n",
        "WHERE visited_on >= (SELECT min(visited_on ) FROM Customer) + INTERVAL '6 days'\n",
        "```"
      ],
      "metadata": {
        "id": "8Oq20E95nKF6"
      }
    },
    {
      "cell_type": "code",
      "source": [
        "data = [[1, 'Jhon', '2019-01-01', 100], [2, 'Daniel', '2019-01-02', 110], [3, 'Jade', '2019-01-03', 120], [4, 'Khaled', '2019-01-04', 130], [5, 'Winston', '2019-01-05', 110], [6, 'Elvis', '2019-01-06', 140], [7, 'Anna', '2019-01-07', 150], [8, 'Maria', '2019-01-08', 80], [9, 'Jaze', '2019-01-09', 110], [1, 'Jhon', '2019-01-10', 130], [3, 'Jade', '2019-01-10', 150]]\n",
        "customer = pd.DataFrame(data, columns=['customer_id', 'name', 'visited_on', 'amount']).astype({'customer_id':'Int64', 'name':'object', 'visited_on':'datetime64[ns]', 'amount':'Int64'})"
      ],
      "metadata": {
        "id": "fmIHrZrCl9zh"
      },
      "execution_count": null,
      "outputs": []
    },
    {
      "cell_type": "code",
      "source": [
        "def restaurant_growth(customer: pd.DataFrame) -> pd.DataFrame:\n",
        "    grouped = customer.groupby('visited_on')\\\n",
        "                      .amount\\\n",
        "                      .sum()\n",
        "    return grouped.rolling('7d', min_periods=7)\\\n",
        "                  .agg(['sum', 'mean'])\\\n",
        "                  .round(2)\\\n",
        "                  .reset_index()\\\n",
        "                  .rename({'sum':'amount', 'mean':'average_amount'}, axis=1)\\\n",
        "                  .dropna()\\\n",
        "                  .sort_values(by='visited_on')"
      ],
      "metadata": {
        "id": "UYqemPianQsh"
      },
      "execution_count": null,
      "outputs": []
    },
    {
      "cell_type": "markdown",
      "source": [
        "1341. Movie Rating\n",
        "\n",
        "https://leetcode.com/problems/movie-rating/description/\n",
        "\n",
        "```sql\n",
        "-- Write your PostgreSQL query statement below\n",
        "\n",
        "WITH t as (\n",
        "SELECT\n",
        "    user_id,\n",
        "    count(movie_id),\n",
        "    rank() OVER (ORDER BY count(movie_id) DESC) as rnk\n",
        "FROM MovieRating\n",
        "GROUP BY user_id),\n",
        "\n",
        "t2 as (\n",
        "SELECT\n",
        "    movie_id,\n",
        "    avg(rating),\n",
        "    rank() OVER (ORDER BY avg(rating) DESC) as rnk\n",
        "FROM MovieRating\n",
        "WHERE to_char(created_at, 'YYYY-MM') = '2020-02'\n",
        "GROUP BY movie_id)   \n",
        "\n",
        "(SELECT\n",
        "    u.name as results\n",
        "FROM t\n",
        "JOIN  Users u on u.user_id = t.user_id AND t.rnk = 1\n",
        "ORDER BY 1\n",
        "LIMIT 1)\n",
        "\n",
        "UNION ALL\n",
        "\n",
        "(SELECT\n",
        "    m.title as results\n",
        "FROM t2\n",
        "JOIN  Movies  m on m.movie_id = t2.movie_id AND t2.rnk = 1\n",
        "ORDER BY 1\n",
        "LIMIT 1)\n",
        "```"
      ],
      "metadata": {
        "id": "qb-nIJyM2vqm"
      }
    },
    {
      "cell_type": "code",
      "source": [
        "data = [[1, 'Avengers'], [2, 'Frozen 2'], [3, 'Joker']]\n",
        "movies = pd.DataFrame(data, columns=['movie_id', 'title']).astype({'movie_id':'Int64', 'title':'object'})\n",
        "data = [[1, 'Daniel'], [2, 'Monica'], [3, 'Maria'], [4, 'James']]\n",
        "users = pd.DataFrame(data, columns=['user_id', 'name']).astype({'user_id':'Int64', 'name':'object'})\n",
        "data = [[1, 1, 3, '2020-01-12'], [1, 2, 4, '2020-02-11'], [1, 3, 2, '2020-02-12'], [1, 4, 1, '2020-01-01'], [2, 1, 5, '2020-02-17'], [2, 2, 2, '2020-02-01'], [2, 3, 2, '2020-03-01'], [3, 1, 3, '2020-02-22'], [3, 2, 4, '2020-02-25']]\n",
        "movie_rating = pd.DataFrame(data, columns=['movie_id', 'user_id', 'rating', 'created_at']).astype({'movie_id':'Int64', 'user_id':'Int64', 'rating':'Int64', 'created_at':'datetime64[ns]'})"
      ],
      "metadata": {
        "id": "NsKtU0uK216i"
      },
      "execution_count": null,
      "outputs": []
    },
    {
      "cell_type": "code",
      "source": [
        "def movie_rating(movies: pd.DataFrame, users: pd.DataFrame, movie_rating: pd.DataFrame) -> pd.DataFrame:\n",
        "    grouped = movie_rating.groupby('user_id')['movie_id'].count().reset_index(name='movie_cnt')\n",
        "    grouped.assign(rnk = grouped.movie_cnt.rank(method='min', ascending=False)).query('rnk == 1')\n",
        "    user_name = movie_rating.user_id.mode().to_frame().merge(users, on='user_id', how='left').sort_values(by='name').head(1)['name'].rename('results')\n",
        "    movie_name = movie_rating[movie_rating.created_at.dt.strftime('%Y-%m') == '2020-02']\\\n",
        "                .groupby('movie_id')\\\n",
        "                .rating.mean()\\\n",
        "                .to_frame()\\\n",
        "                .merge(movies, left_index=True, right_on='movie_id')\\\n",
        "                .sort_values(by=['rating', 'title'], ascending=[False, True])\\\n",
        "                .head(1)['title']\\\n",
        "                .rename('results')\n",
        "    return pd.concat([user_name, movie_name], ignore_index=True).to_frame()"
      ],
      "metadata": {
        "id": "jeJwp2Wm3IOz"
      },
      "execution_count": null,
      "outputs": []
    },
    {
      "cell_type": "markdown",
      "source": [
        "1393. Capital Gain/Loss\n",
        "\n",
        "https://leetcode.com/problems/capital-gainloss/\n",
        "\n",
        "```sql\n",
        "-- Write your PostgreSQL query statement below\n",
        "SELECT stock_name,\n",
        "(SUM(CASE WHEN operation = 'Sell' THEN price ELSE 0 END) - SUM (CASE WHEN operation = 'Buy' THEN price ELSE 0 END)) as capital_gain_loss\n",
        "FROM Stocks GROUP BY stock_name\n",
        "```"
      ],
      "metadata": {
        "id": "bkzoHgEq9xn_"
      }
    },
    {
      "cell_type": "code",
      "source": [
        "data = [['Leetcode', 'Buy', 1, 1000], ['Corona Masks', 'Buy', 2, 10], ['Leetcode', 'Sell', 5, 9000], ['Handbags', 'Buy', 17, 30000], ['Corona Masks', 'Sell', 3, 1010], ['Corona Masks', 'Buy', 4, 1000], ['Corona Masks', 'Sell', 5, 500], ['Corona Masks', 'Buy', 6, 1000], ['Handbags', 'Sell', 29, 7000], ['Corona Masks', 'Sell', 10, 10000]]\n",
        "stocks = pd.DataFrame(data, columns=['stock_name', 'operation', 'operation_day', 'price']).astype({'stock_name':'object', 'operation':'object', 'operation_day':'Int64', 'price':'Int64'})"
      ],
      "metadata": {
        "id": "hdOv9uXx7-6V"
      },
      "execution_count": null,
      "outputs": []
    },
    {
      "cell_type": "code",
      "source": [
        "def capital_gainloss(stocks: pd.DataFrame) -> pd.DataFrame:\n",
        "    return stocks.groupby('stock_name').apply(lambda x: np.where(x.operation == 'Sell', x.price, -x.price).sum(), include_groups=False).reset_index(name='capital_gain_loss')"
      ],
      "metadata": {
        "id": "arkBoJPr-Acc"
      },
      "execution_count": null,
      "outputs": []
    },
    {
      "cell_type": "markdown",
      "source": [
        "1907. Count Salary Categories\n",
        "\n",
        "https://leetcode.com/problems/count-salary-categories/description/\n",
        "\n",
        "```sql\n",
        "-- Write your PostgreSQL query statement below\n",
        "WITH binned as (\n",
        "SELECT\n",
        "    CASE WHEN income < 20000 THEN 'Low Salary' WHEN income <= 50000 THEN 'Average Salary' ELSE 'High Salary' END AS cat\n",
        "FROM Accounts)\n",
        "\n",
        "SELECT\n",
        "category,\n",
        "coalesce(accounts_count , 0) as accounts_count\n",
        "FROM UNNEST(ARRAY['Low Salary', 'Average Salary', 'High Salary']) AS category\n",
        "LEFT JOIN (\n",
        "SELECT\n",
        "    cat,\n",
        "    count(*) as accounts_count\n",
        "FROM binned\n",
        "GROUP BY cat) sub ON sub.cat = category\n",
        "```"
      ],
      "metadata": {
        "id": "fDqMbn-hBrdp"
      }
    },
    {
      "cell_type": "code",
      "source": [
        "data = [[3, 108939], [2, 12747], [8, 87709], [6, 91796]]\n",
        "accounts = pd.DataFrame(data, columns=['account_id', 'income']).astype({'account_id':'Int64', 'income':'Int64'})"
      ],
      "metadata": {
        "id": "ptBzIJtw_eDK"
      },
      "execution_count": null,
      "outputs": []
    },
    {
      "cell_type": "code",
      "source": [
        "def count_salary_categories(accounts: pd.DataFrame) -> pd.DataFrame:\n",
        "    return pd.DataFrame({\n",
        "        'category': ['Low Salary', 'Average Salary', 'High Salary'],\n",
        "        'accounts_count': [\n",
        "            accounts[accounts.income < 20000].shape[0],\n",
        "            accounts[(accounts.income >= 20000) & (accounts.income <= 50000)].shape[0],\n",
        "            accounts[accounts.income > 50000].shape[0],\n",
        "        ],\n",
        "    })"
      ],
      "metadata": {
        "id": "8yplDO2gDyFO"
      },
      "execution_count": null,
      "outputs": []
    },
    {
      "cell_type": "markdown",
      "source": [
        "1934. Confirmation Rate\n",
        "\n",
        "https://leetcode.com/problems/confirmation-rate/description/\n",
        "\n",
        "```sql\n",
        "WITH t as (\n",
        "SELECT\n",
        "    user_id,\n",
        "    ROUND(count(action) FILTER (WHERE action = 'confirmed')*1.0 / count(action), 2) as confirmation_rate\n",
        "FROM Confirmations\n",
        "GROUP BY user_id\n",
        ")\n",
        "\n",
        "SELECT\n",
        "s.user_id,\n",
        "COALESCE(confirmation_rate, 0) as confirmation_rate\n",
        "FROM Signups s\n",
        "LEFT JOIN t on t.user_id = s.user_id\n",
        "```"
      ],
      "metadata": {
        "id": "svzDKwtTEzPB"
      }
    },
    {
      "cell_type": "code",
      "source": [
        "data = [[3, '2020-03-21 10:16:13'], [7, '2020-01-04 13:57:59'], [2, '2020-07-29 23:09:44'], [6, '2020-12-09 10:39:37']]\n",
        "signups = pd.DataFrame(data, columns=['user_id', 'time_stamp']).astype({'user_id':'Int64', 'time_stamp':'datetime64[ns]'})\n",
        "data = [[3, '2021-01-06 03:30:46', 'timeout'], [3, '2021-07-14 14:00:00', 'timeout'], [7, '2021-06-12 11:57:29', 'confirmed'], [7, '2021-06-13 12:58:28', 'confirmed'], [7, '2021-06-14 13:59:27', 'confirmed'], [2, '2021-01-22 00:00:00', 'confirmed'], [2, '2021-02-28 23:59:59', 'timeout']]\n",
        "confirmations = pd.DataFrame(data, columns=['user_id', 'time_stamp', 'action']).astype({'user_id':'Int64', 'time_stamp':'datetime64[ns]', 'action':'object'})"
      ],
      "metadata": {
        "id": "q_RHrDUHEhCq"
      },
      "execution_count": null,
      "outputs": []
    },
    {
      "cell_type": "code",
      "source": [
        "def confirmation_rate(signups: pd.DataFrame, confirmations: pd.DataFrame) -> pd.DataFrame:\n",
        "    grouped = confirmations.groupby('user_id').apply(lambda x: np.where(x.action  == 'confirmed', 1, 0).sum() / x.shape[0], include_groups=False).round(2).reset_index(name='confirmation_rate')\n",
        "    return signups.merge(grouped, how='left', on='user_id').fillna(0)[['user_id', 'confirmation_rate']]"
      ],
      "metadata": {
        "id": "3Q9kb2A4E99q"
      },
      "execution_count": null,
      "outputs": []
    },
    {
      "cell_type": "markdown",
      "source": [
        "3220. Odd and Even Transactions\n",
        "\n",
        "https://leetcode.com/problems/odd-and-even-transactions/description/\n",
        "\n",
        "```sql\n",
        "SELECT\n",
        "    transaction_date,\n",
        "    COALESCE(sum(amount) FILTER (WHERE amount % 2 = 1 ), 0) as odd_sum,\n",
        "    COALESCE(sum(amount) FILTER (WHERE amount % 2 = 0 ), 0) as even_sum\n",
        "\n",
        "FROM transactions\n",
        "GROUP BY transaction_date\n",
        "ORDER BY transaction_date\n",
        "```"
      ],
      "metadata": {
        "id": "iG5d7Vk3HJX5"
      }
    },
    {
      "cell_type": "code",
      "source": [
        "data = [\n",
        "    [1, 150, '2024-07-01'],\n",
        "    [2, 200, '2024-07-01'],\n",
        "    [3, 75, '2024-07-01'],\n",
        "    [4, 300, '2024-07-02'],\n",
        "    [5, 50, '2024-07-02'],\n",
        "    [6, 120, '2024-07-03']\n",
        "]\n",
        "transactions = pd.DataFrame(data, columns=[\"transaction_id\", \"amount\", \"transaction_date\"])\n",
        "transactions[\"transaction_date\"] = pd.to_datetime(transactions[\"transaction_date\"])"
      ],
      "metadata": {
        "id": "vhExafXQHYOR"
      },
      "execution_count": null,
      "outputs": []
    },
    {
      "cell_type": "code",
      "source": [
        "def sum_daily_odd_even(transactions: pd.DataFrame) -> pd.DataFrame:\n",
        "    result = transactions.groupby('transaction_date')\\\n",
        "                         .agg({'amount': [lambda x: np.where(x % 2, x, 0).sum(), lambda x: np.where(x % 2, 0, x).sum()]})\\\n",
        "                         .rename({'<lambda_0>':'odd_sum', '<lambda_1>': 'even_sum'}, axis=1)\n",
        "    result.columns = result.columns\\\n",
        "                           .droplevel()\n",
        "    return result.reset_index()\\\n",
        "                 .sort_values(by='transaction_date')"
      ],
      "metadata": {
        "id": "g3itnU2jH2Qd"
      },
      "execution_count": null,
      "outputs": []
    },
    {
      "cell_type": "markdown",
      "source": [
        "3421. Find Students Who Improved\n",
        "\n",
        "https://leetcode.com/problems/find-students-who-improved/description/\n",
        "\n",
        "```sql\n",
        "-- Write your PostgreSQL query statement below\n",
        "\n",
        "WITH marks as (\n",
        "SELECT\n",
        "DISTINCT s.student_id, s.subject,\n",
        "FIRST_VALUE(score) OVER (PARTITION BY (s.student_id, s.subject) ORDER BY exam_date\n",
        ") as first_score,\n",
        "LAST_VALUE(score) OVER (PARTITION BY (s.student_id, s.subject) ORDER BY exam_date\n",
        "ROWS BETWEEN UNBOUNDED PRECEDING AND UNBOUNDED FOLLOWING) as latest_score\n",
        "FROM Scores s)\n",
        "\n",
        "SELECT * FROM marks\n",
        "WHERE latest_score > first_score\n",
        "ORDER BY 1, 2\n",
        "```"
      ],
      "metadata": {
        "id": "KR1T1DTCSDUX"
      }
    },
    {
      "cell_type": "code",
      "source": [
        "data = [\n",
        "    [101, 'Math', 70, '2023-01-15'],\n",
        "    [101, 'Math', 85, '2023-02-15'],\n",
        "    [101, 'Physics', 65, '2023-01-15'],\n",
        "    [101, 'Physics', 60, '2023-02-15'],\n",
        "    [102, 'Math', 80, '2023-01-15'],\n",
        "    [102, 'Math', 85, '2023-02-15'],\n",
        "    [103, 'Math', 90, '2023-01-15'],\n",
        "    [104, 'Physics', 75, '2023-01-15'],\n",
        "    [104, 'Physics', 85, '2023-02-15']\n",
        "]\n",
        "\n",
        "# Создаем DataFrame\n",
        "scores = pd.DataFrame(data, columns=[\"student_id\", \"subject\", \"score\", \"exam_date\"])\n",
        "\n",
        "# Преобразуем exam_date в datetime\n",
        "scores[\"exam_date\"] = pd.to_datetime(scores[\"exam_date\"])"
      ],
      "metadata": {
        "id": "3M9skCmUJ8Nv"
      },
      "execution_count": null,
      "outputs": []
    },
    {
      "cell_type": "code",
      "source": [
        "def find_students_who_improved(scores: pd.DataFrame) -> pd.DataFrame:\n",
        "    scores.sort_values(by=['student_id', 'subject', 'exam_date'], inplace=True)\n",
        "    return scores.groupby(['student_id', 'subject'], as_index=False).agg(first_score=('score', 'first'), latest_score =('score', 'last')).query(\"latest_score  > first_score\")"
      ],
      "metadata": {
        "id": "ZCbz2GbvhfjK"
      },
      "execution_count": null,
      "outputs": []
    },
    {
      "cell_type": "markdown",
      "source": [
        "3475. DNA Pattern Recognition\n",
        "\n",
        "https://leetcode.com/problems/dna-pattern-recognition/description/\n",
        "\n",
        "```sql\n",
        "-- Write your PostgreSQL query statement below\n",
        "SELECT\n",
        "sample_id, dna_sequence, species,\n",
        "CASE WHEN dna_sequence like 'ATG%' THEN 1 ELSE 0 END AS has_start,\n",
        "CASE WHEN dna_sequence ~ '(TAA|TAG|TGA)$' THEN 1 ELSE 0 END AS has_stop,\n",
        "CASE WHEN dna_sequence like '%ATAT%' THEN 1 ELSE 0 END AS has_atat,\n",
        "CASE WHEN dna_sequence ~ 'G{3,}' THEN 1 ELSE 0 END AS has_ggg\n",
        "FROM Samples\n",
        "ORDER BY 1\n",
        "```"
      ],
      "metadata": {
        "id": "9qaKOHiREt5X"
      }
    },
    {
      "cell_type": "code",
      "source": [
        "data = [[1, 'ATGCTAGCTAGCTAA', 'Human'], [2, 'GGGTCAATCATC', 'Human'], [3, 'ATATATCGTAGCTA', 'Human'], [4, 'ATGGGGTCATCATAA', 'Mouse'], [5, 'TCAGTCAGTCAG', 'Mouse'], [6, 'ATATCGCGCTAG', 'Zebrafish'], [7, 'CGTATGCGTCGTA', 'Zebrafish']]\n",
        "samples = pd.DataFrame(data, columns=['sample_id',\n",
        "    'dna_sequence',\n",
        "    'species'])"
      ],
      "metadata": {
        "id": "YJfXzs9xid64"
      },
      "execution_count": null,
      "outputs": []
    },
    {
      "cell_type": "code",
      "source": [
        "import numpy as np\n",
        "\n",
        "def analyze_dna_patterns(samples: pd.DataFrame) -> pd.DataFrame:\n",
        "    return samples.assign(has_start = np.where(samples.dna_sequence.str.match('ATG'), 1, 0),\n",
        "                          has_stop = np.where(samples.dna_sequence.str.contains('(TAA|TAG|TGA)$'), 1, 0),\n",
        "                          has_atat = np.where(samples.dna_sequence.str.contains('ATAT'), 1, 0),\n",
        "                          has_ggg = np.where(samples.dna_sequence.str.contains('G{3,}'), 1, 0)\n",
        "                          ).sort_values(by='sample_id')"
      ],
      "metadata": {
        "id": "1t2BJ8WbE8An"
      },
      "execution_count": null,
      "outputs": []
    },
    {
      "cell_type": "markdown",
      "source": [
        "574. Winning Candidate\n",
        "\n",
        "https://leetcode.com/problems/winning-candidate/description/\n",
        "\n",
        "```sql\n",
        "WITH top_candidate as (\n",
        "SELECT\n",
        "v.candidateId, count(id)\n",
        "FROM Vote v\n",
        "GROUP BY v.candidateId\n",
        "ORDER BY 2 DESC\n",
        "LIMIT 1)\n",
        "\n",
        "SELECT c.name from Candidate c WHERE c.id = (SELECT candidateId FROM top_candidate)\n",
        "```"
      ],
      "metadata": {
        "id": "EEvewfoY6X55"
      }
    },
    {
      "cell_type": "code",
      "source": [
        "data = [[1, 'A'], [2, 'B'], [3, 'C'], [4, 'D'], [5, 'E']]\n",
        "candidate = pd.DataFrame(data, columns=['id', 'name']).astype({'id':'Int64', 'name':'object'})\n",
        "data = [[1, 2], [2, 4], [3, 3], [4, 2], [5, 5]]\n",
        "vote = pd.DataFrame(data, columns=['id', 'candidateId']).astype({'id':'Int64', 'candidateId':'Int64'})"
      ],
      "metadata": {
        "id": "_MeEhDD46qX0"
      },
      "execution_count": null,
      "outputs": []
    },
    {
      "cell_type": "code",
      "source": [
        "def winning_candidate(candidate: pd.DataFrame, vote: pd.DataFrame) -> pd.DataFrame:\n",
        "    return candidate[candidate.id == vote.candidateId.value_counts().idxmax()][['name']]"
      ],
      "metadata": {
        "id": "erh94k0D8Y9x"
      },
      "execution_count": null,
      "outputs": []
    },
    {
      "cell_type": "markdown",
      "source": [
        "578. Get Highest Answer Rate Question\n",
        "\n",
        "https://leetcode.com/problems/get-highest-answer-rate-question/description/\n",
        "\n",
        "```sql\n",
        "WITH answer_rate as (\n",
        "SELECT\n",
        "    question_id ,\n",
        "    dense_rank() OVER (ORDER BY sum(CASE WHEN action  = 'answer' and (answer_id IS NOT NULL) THEN 1 ELSE 0 END)*1.0 / sum(CASE WHEN action = 'show' then 1 else 0 end) DESC) as rn\n",
        "FROM SurveyLog s\n",
        "GROUP BY question_id)\n",
        "\n",
        "SELECT question_id as survey_log FROM  answer_rate WHERE rn = 1\n",
        "ORDER BY question_id LIMIT 1\n",
        "```"
      ],
      "metadata": {
        "id": "NxGj1ij79MN-"
      }
    },
    {
      "cell_type": "code",
      "source": [
        "data = [[5, 'show', 285, None, 1, 123], [5, 'answer', 285, 124124, 1, 124], [5, 'show', 369, None, 2, 125], [5, 'skip', 369, None, 2, 126]]\n",
        "survey_log = pd.DataFrame(data, columns=['id', 'action', 'question_id', 'answer_id', 'q_num', 'timestamp']).astype({'id':'Int64', 'action':'object', 'question_id':'Int64', 'answer_id':'Int64', 'q_num':'Int64', 'timestamp':'Int64'})"
      ],
      "metadata": {
        "id": "SzprMy4Z80uy"
      },
      "execution_count": null,
      "outputs": []
    },
    {
      "cell_type": "code",
      "source": [
        "def get_the_question(survey_log: pd.DataFrame) -> pd.DataFrame:\n",
        "    if survey_log.shape[0]:\n",
        "        return survey_log.groupby('question_id')\\\n",
        "                         .apply(lambda x: sum(~x.answer_id.isna()) / sum(x.action == 'show'), include_groups=False)\\\n",
        "                         .reset_index()\\\n",
        "                         .sort_values(by=[0, 'question_id'], ascending=[False, True])\\\n",
        "                         .head(1)\\\n",
        "                         .rename({'question_id':\"survey_log\"}, axis=1)[['survey_log']]\n",
        "    return pd.DataFrame(columns=['survey_log'])"
      ],
      "metadata": {
        "id": "OhWvcy5gKmlE"
      },
      "execution_count": null,
      "outputs": []
    },
    {
      "cell_type": "markdown",
      "source": [
        "580. Count Student Number in Departments\n",
        "\n",
        "https://leetcode.com/problems/count-student-number-in-departments/description/\n",
        "\n",
        "```sql\n",
        "SELECT\n",
        "d.dept_name,\n",
        "COALESCE(sub.student_number, 0) as student_number\n",
        "\n",
        "FROM Department d\n",
        "LEFT JOIN (\n",
        "\n",
        "SELECT\n",
        "s.dept_id,\n",
        "count(student_id ) as student_number\n",
        "FROM Student s\n",
        "GROUP BY s.dept_id) sub\n",
        "\n",
        "ON sub.dept_id = d.dept_id\n",
        "```"
      ],
      "metadata": {
        "id": "cT6FMACINsdD"
      }
    },
    {
      "cell_type": "code",
      "source": [
        "data = [[1, 'Jack', 'M', 1], [2, 'Jane', 'F', 1], [3, 'Mark', 'M', 2]]\n",
        "student = pd.DataFrame(data, columns=['student_id', 'student_name', 'gender', 'dept_id']).astype({'student_id':'Int64', 'student_name':'object', 'gender':'object', 'dept_id':'Int64'})\n",
        "data = [[1, 'Engineering'], [2, 'Science'], [3, 'Law']]\n",
        "department = pd.DataFrame(data, columns=['dept_id', 'dept_name']).astype({'dept_id':'Int64', 'dept_name':'object'})"
      ],
      "metadata": {
        "id": "UCjq_CxeNXiP"
      },
      "execution_count": null,
      "outputs": []
    },
    {
      "cell_type": "code",
      "source": [
        "def count_students(student: pd.DataFrame, department: pd.DataFrame) -> pd.DataFrame:\n",
        "    return department.merge(student.groupby('dept_id')\\\n",
        "                        .agg(student_number = ('student_id', 'count')), how='left', left_on='dept_id', right_index=True)\\\n",
        "                        .iloc[:,1:]\\\n",
        "                        .fillna(0)\\\n",
        "                        .sort_values(by=['student_number', 'dept_name'], ascending=[False, True])"
      ],
      "metadata": {
        "id": "kOq9MXmhP-mi"
      },
      "execution_count": null,
      "outputs": []
    },
    {
      "cell_type": "markdown",
      "source": [
        "612. Shortest Distance in a Plane\n",
        "\n",
        "https://leetcode.com/problems/shortest-distance-in-a-plane/description/\n",
        "\n",
        "```sql\n",
        "SELECT\n",
        "ROUND(MIN(SQRT(POWER((p1.x - p2.x), 2) + POWER((p1.y - p2.y), 2)))::decimal, 2) as shortest\n",
        "FROM Point2D p1\n",
        "CROSS JOIN Point2D p2\n",
        "WHERE p1.x <> p2.x OR p1.y <> p2.y\n",
        "```"
      ],
      "metadata": {
        "id": "aQBT_MjiRKQm"
      }
    },
    {
      "cell_type": "code",
      "source": [
        "data = [[-1, -1], [0, 0], [-1, -2]]\n",
        "point2_d = pd.DataFrame(data, columns=['x', 'y']).astype({'x':'Int64', 'y':'Int64'})"
      ],
      "metadata": {
        "id": "9YgGaQPlQc98"
      },
      "execution_count": null,
      "outputs": []
    },
    {
      "cell_type": "code",
      "source": [
        "def shortest_distance(point2_d: pd.DataFrame) -> pd.DataFrame:\n",
        "    # Преобразуем данные в массивы типа float для избежания ошибок\n",
        "    coords = point2_d[['x', 'y']].to_numpy().astype(float)\n",
        "\n",
        "    # Определим функцию для вычисления минимального расстояния\n",
        "    def min_distance(x, y):\n",
        "        # Вычисление расстояний между точкой (x, y) и всеми остальными точками\n",
        "        distances = np.sqrt((x - coords[:, 0])**2 + (y - coords[:, 1])**2)\n",
        "        distances[distances == 0] = np.inf  # Исключаем саму точку (расстояние до себя)\n",
        "        return np.min(distances)\n",
        "\n",
        "    # Векторизуем функцию min_distance\n",
        "    vectorized_min_distance = np.vectorize(min_distance)\n",
        "\n",
        "    # Вычисляем минимальные расстояния для всех точек\n",
        "    shortest = vectorized_min_distance(coords[:, 0], coords[:, 1]).min().round(2)\n",
        "\n",
        "    return pd.DataFrame([shortest], columns=['shortest'], index=[0])"
      ],
      "metadata": {
        "id": "2Dllc0LOZ63l"
      },
      "execution_count": null,
      "outputs": []
    },
    {
      "cell_type": "code",
      "source": [
        "def shortest_distance(point2_d: pd.DataFrame) -> pd.DataFrame:\n",
        "    return pd.DataFrame([point2_d.apply(lambda x: min(((x.x - a)**2 + (x.y - b)**2)**0.5\n",
        "                             for a, b in point2_d.values\n",
        "                             if (x.x, x.y) != (a, b)), axis=1).min().round(2)], columns=['shortest'], index=[0])"
      ],
      "metadata": {
        "id": "9VBUiTajXVMG"
      },
      "execution_count": null,
      "outputs": []
    },
    {
      "cell_type": "markdown",
      "source": [
        "614. Second Degree Follower\n",
        "\n",
        "https://leetcode.com/problems/second-degree-follower/description/\n",
        "\n",
        "```sql\n",
        "select\n",
        "followee follower,\n",
        "count(follower) num\n",
        "from\n",
        "follow f\n",
        "where\n",
        "exists\n",
        "(\n",
        "    select 1 from\n",
        "    follow f1\n",
        "    where\n",
        "    f1.follower=f.followee\n",
        ")\n",
        "group by\n",
        "followee\n",
        "order by 1\n",
        "```"
      ],
      "metadata": {
        "id": "CIQp4qt2eJMO"
      }
    },
    {
      "cell_type": "code",
      "source": [
        "data = [['Alice', 'Bob'], ['Bob', 'Cena'], ['Bob', 'Donald'], ['Donald', 'Edward']]\n",
        "follow = pd.DataFrame(data, columns=['followee', 'follower']).astype({'followee':'object', 'follower':'object'})"
      ],
      "metadata": {
        "id": "6n0ZFOBviNTe"
      },
      "execution_count": null,
      "outputs": []
    },
    {
      "cell_type": "code",
      "source": [
        "def second_degree_follower(follow: pd.DataFrame) -> pd.DataFrame:\n",
        "    return follow[follow.followee.isin(follow.follower)]\\\n",
        "                  .groupby(\"followee\").agg(num=('follower', 'count'))\\\n",
        "                  .reset_index()\\\n",
        "                  .rename({'followee': 'follower'}, axis=1)\\\n",
        "                  .sort_values(by='follower')"
      ],
      "metadata": {
        "id": "IAo3CliTie_c"
      },
      "execution_count": null,
      "outputs": []
    },
    {
      "cell_type": "markdown",
      "source": [
        "1077. Project Employees III\n",
        "\n",
        "https://leetcode.com/problems/project-employees-iii/description/\n",
        "\n",
        "```sql\n",
        "SELECT\n",
        "project_id,\n",
        "employee_id\n",
        "FROM (\n",
        "\n",
        "SELECT\n",
        "p.project_id,\n",
        "e.employee_id,\n",
        "dense_rank() OVER (PARTITION BY p.project_id ORDER BY e.experience_years DESC) as rnk\n",
        "FROM Project p\n",
        "LEFT JOIN   Employee  e ON p.employee_id = e.employee_id) sub\n",
        "\n",
        "WHERE sub.rnk = 1\n",
        "```"
      ],
      "metadata": {
        "id": "-REaOcX-kRf5"
      }
    },
    {
      "cell_type": "code",
      "source": [
        "data = [[1, 1], [1, 2], [1, 3], [2, 1], [2, 4]]\n",
        "project = pd.DataFrame(data, columns=['project_id', 'employee_id']).astype({'project_id':'Int64', 'employee_id':'Int64'})\n",
        "data = [[1, 'Khaled', 3], [2, 'Ali', 2], [3, 'John', 3], [4, 'Doe', 2]]\n",
        "employee = pd.DataFrame(data, columns=['employee_id', 'name', 'experience_years']).astype({'employee_id':'Int64', 'name':'object', 'experience_years':'Int64'})"
      ],
      "metadata": {
        "id": "pW-vQD7SigIC"
      },
      "execution_count": null,
      "outputs": []
    },
    {
      "cell_type": "code",
      "source": [
        "def project_employees(project: pd.DataFrame, employee: pd.DataFrame) -> pd.DataFrame:\n",
        "    merged = project.merge(employee, how='left', on='employee_id')\n",
        "    return merged.assign(rnk= merged.groupby(\"project_id\").experience_years.rank(method='dense', ascending=False)).query(\"rnk == 1\", engine='python').iloc[:,:2]"
      ],
      "metadata": {
        "id": "vPqzaanfmKjD"
      },
      "execution_count": null,
      "outputs": []
    },
    {
      "cell_type": "markdown",
      "source": [
        "1107. New Users Daily Count\n",
        "\n",
        "https://leetcode.com/problems/new-users-daily-count/description/\n",
        "\n",
        "```sql\n",
        "SELECT\n",
        "activity_date as login_date,\n",
        "count(user_id) as user_count\n",
        "\n",
        "FROM (\n",
        "SELECT\n",
        "user_id, activity_date,\n",
        "row_number() OVER (PARTITION BY user_id ORDER BY activity_date) as rn\n",
        "FROM Traffic\n",
        "WHERE activity = 'login' ) sub\n",
        "WHERE rn = 1 AND activity_date >= '2019-06-30'::DATE - INTERVAL '90 DAYS'\n",
        "GROUP BY activity_date\n",
        "```"
      ],
      "metadata": {
        "id": "oApNngaJpFrQ"
      }
    },
    {
      "cell_type": "code",
      "source": [
        "data = [[1, 'login', '2019-05-01'], [1, 'homepage', '2019-05-01'], [1, 'logout', '2019-05-01'], [2, 'login', '2019-06-21'], [2, 'logout', '2019-06-21'], [3, 'login', '2019-01-01'], [3, 'jobs', '2019-01-01'], [3, 'logout', '2019-01-01'], [4, 'login', '2019-06-21'], [4, 'groups', '2019-06-21'], [4, 'logout', '2019-06-21'], [5, 'login', '2019-03-01'], [5, 'logout', '2019-03-01'], [5, 'login', '2019-06-21'], [5, 'logout', '2019-06-21']]\n",
        "traffic = pd.DataFrame(data, columns=['user_id', 'activity', 'activity_date']).astype({'user_id':'Int64', 'activity':'object', 'activity_date':'datetime64[ns]'})"
      ],
      "metadata": {
        "id": "4tNBsWxQnZpb"
      },
      "execution_count": null,
      "outputs": []
    },
    {
      "cell_type": "code",
      "source": [
        "def new_users_daily_count(traffic: pd.DataFrame) -> pd.DataFrame:\n",
        "    traffic_filtered = traffic[traffic.activity == 'login']\n",
        "    return traffic_filtered.assign(rn=traffic_filtered.groupby('user_id')\\\n",
        "                        .activity_date.rank(method='first'))\\\n",
        "                .query(f\"(rn == 1) & (activity_date >= '{pd.to_datetime('2019-06-30') - pd.DateOffset(days=90)}')\")\\\n",
        "                .groupby('activity_date')\\\n",
        "                .agg(user_count=('user_id', 'count'))\\\n",
        "                .reset_index()\\\n",
        "                .rename({'activity_date': 'login_date'}, axis=1)"
      ],
      "metadata": {
        "id": "e2lgQYw8vf57"
      },
      "execution_count": null,
      "outputs": []
    },
    {
      "cell_type": "markdown",
      "source": [
        "1112. Highest Grade For Each Student\n",
        "\n",
        "https://leetcode.com/problems/highest-grade-for-each-student/description/\n",
        "\n",
        "```sql\n",
        "SELECT\n",
        "    student_id,\n",
        "    course_id,\n",
        "    grade\n",
        "FROM (\n",
        "SELECT\n",
        "    *,\n",
        "    dense_rank() OVER (PARTITION BY student_id ORDER BY grade DESC, course_id) as rnk\n",
        "FROM Enrollments) sub\n",
        "WHERE sub.rnk = 1\n",
        "ORDER BY 1\n",
        "```"
      ],
      "metadata": {
        "id": "EksPP9o8yYW6"
      }
    },
    {
      "cell_type": "code",
      "source": [
        "data = [[2, 2, 95], [2, 3, 95], [1, 1, 90], [1, 2, 99], [3, 1, 80], [3, 2, 75], [3, 3, 82]]\n",
        "enrollments = pd.DataFrame(data, columns=['student_id', 'course_id', 'grade']).astype({'student_id':'Int64', 'course_id':'Int64', 'grade':'Int64'})"
      ],
      "metadata": {
        "id": "yJT0GiBlv-r-"
      },
      "execution_count": null,
      "outputs": []
    },
    {
      "cell_type": "code",
      "source": [
        "def highest_grade(enrollments: pd.DataFrame) -> pd.DataFrame:\n",
        "    return enrollments.assign(rnk=enrollments.groupby('student_id')\\\n",
        "                      .grade.rank(method='dense', ascending=False))\\\n",
        "                      .query(\"rnk == 1\", engine='python')\\\n",
        "                      .groupby('student_id')\\\n",
        "                      .agg({'course_id': 'min', 'grade': 'max'})\\\n",
        "                      .sort_index()\\\n",
        "                      .reset_index()"
      ],
      "metadata": {
        "id": "hhpLA_XC35_T"
      },
      "execution_count": null,
      "outputs": []
    },
    {
      "cell_type": "markdown",
      "source": [
        "1126. Active Businesses\n",
        "\n",
        "https://leetcode.com/problems/active-businesses/description/\n",
        "\n",
        "```sql\n",
        "SELECT business_id FROM (\n",
        "SELECT\n",
        "*,\n",
        "CASE WHEN occurrences > (avg(occurrences) OVER (PARTITION BY event_type)) THEN 1 ELSE 0 END as greater_avg\n",
        "FROM Events) sub\n",
        "GROUP BY business_id\n",
        "HAVING sum(greater_avg) > 1\n",
        "```"
      ],
      "metadata": {
        "id": "KyoOc0Hi7wRH"
      }
    },
    {
      "cell_type": "code",
      "source": [
        "data = [[1, 'reviews', 7], [3, 'reviews', 3], [1, 'ads', 11], [2, 'ads', 7], [3, 'ads', 6], [1, 'page views', 3], [2, 'page views', 12]]\n",
        "events = pd.DataFrame(data, columns=['business_id', 'event_type', 'occurrences']).astype({'business_id':'Int64', 'event_type':'object', 'occurrences':'Int64'})"
      ],
      "metadata": {
        "id": "Pp0NsH8o6Dsr"
      },
      "execution_count": null,
      "outputs": []
    },
    {
      "cell_type": "code",
      "source": [
        "def active_businesses(events: pd.DataFrame) -> pd.DataFrame:\n",
        "    return events.assign(greater_avg = events.event_type.map(events.groupby('event_type')['occurrences'].mean()))\\\n",
        "      .query(\"occurrences > greater_avg\", engine='python')\\\n",
        "      .business_id\\\n",
        "      .value_counts()\\\n",
        "      .where(lambda x: x > 1)\\\n",
        "      .dropna()\\\n",
        "      .reset_index()\\\n",
        "      .iloc[:,:1]"
      ],
      "metadata": {
        "id": "yUs8cJhkCEXb"
      },
      "execution_count": null,
      "outputs": []
    },
    {
      "cell_type": "markdown",
      "source": [
        "1132. Reported Posts II\n",
        "\n",
        "https://leetcode.com/problems/reported-posts-ii/description/\n",
        "\n",
        "```sql\n",
        "WITH reported_removed as (\n",
        "SELECT\n",
        "action_date,\n",
        "count(DISTINCT a.post_id) as cnt\n",
        "FROM Actions a\n",
        "INNER JOIN Removals r ON r.post_id  = a.post_id  --AND r.remove_date >= a.action_date\n",
        "WHERE extra = 'spam'\n",
        "GROUP BY action_date ),\n",
        "\n",
        "reported as (\n",
        "SELECT\n",
        "action_date,\n",
        "count(DISTINCT a.post_id) as cnt\n",
        "FROM Actions a\n",
        "WHERE extra = 'spam'\n",
        "GROUP BY action_date\n",
        ")\n",
        "\n",
        "SELECT\n",
        "round(AVG(COALESCE(rr.cnt, 0) * 100.0 / r.cnt), 2) as average_daily_percent\n",
        "FROM\n",
        "reported r\n",
        "LEFT JOIN reported_removed rr on r.action_date  = rr.action_date\n",
        "```"
      ],
      "metadata": {
        "id": "h6H64mWjE7ln"
      }
    },
    {
      "cell_type": "code",
      "source": [
        "data = [[1, 1, '2019-07-01', 'view', None], [1, 1, '2019-07-01', 'like', None], [1, 1, '2019-07-01', 'share', None], [2, 2, '2019-07-04', 'view', None], [2, 2, '2019-07-04', 'report', 'spam'], [3, 4, '2019-07-04', 'view', None], [3, 4, '2019-07-04', 'report', 'spam'], [4, 3, '2019-07-02', 'view', None], [4, 3, '2019-07-02', 'report', 'spam'], [5, 2, '2019-07-03', 'view', None], [5, 2, '2019-07-03', 'report', 'racism'], [5, 5, '2019-07-03', 'view', None], [5, 5, '2019-07-03', 'report', 'racism']]\n",
        "actions = pd.DataFrame(data, columns=['user_id', 'post_id', 'action_date', 'action', 'extra']).astype({'user_id':'Int64', 'post_id':'Int64', 'action_date':'datetime64[ns]', 'action':'object', 'extra':'object'})\n",
        "data = [[2, '2019-07-20'], [3, '2019-07-18']]\n",
        "removals = pd.DataFrame(data, columns=['post_id', 'remove_date']).astype({'post_id':'Int64', 'remove_date':'datetime64[ns]'})"
      ],
      "metadata": {
        "id": "NVrNfuBECn3N"
      },
      "execution_count": null,
      "outputs": []
    },
    {
      "cell_type": "markdown",
      "source": [],
      "metadata": {
        "id": "q_vq0hYIYLDZ"
      }
    },
    {
      "cell_type": "code",
      "source": [
        "def reported_posts(actions: pd.DataFrame, removals: pd.DataFrame) -> pd.DataFrame:\n",
        "    reported_remove = actions[actions.extra=='spam'].merge(removals, on='post_id', how='inner').groupby('action_date').agg(reported_remove_count=('post_id', 'nunique'))\n",
        "    result = actions[actions.extra=='spam'].groupby('action_date').agg(reported_count=('post_id', 'nunique')).merge(reported_remove, how='left', left_index=True, right_index=True)\n",
        "    result = result.reported_remove_count.div(result.reported_count).fillna(0).mul(100).mean().round(2)\n",
        "    return pd.DataFrame([result], columns=['average_daily_percent'], index=[0])"
      ],
      "metadata": {
        "id": "FDrlETUKXpof"
      },
      "execution_count": null,
      "outputs": []
    },
    {
      "cell_type": "markdown",
      "source": [
        "1149. Article Views II\n",
        "\n",
        "https://leetcode.com/problems/article-views-ii/description/\n",
        "\n",
        "```sql\n",
        "SELECT\n",
        "DISTINCT viewer_id as id\n",
        "FROM Views v\n",
        "GROUP BY viewer_id, view_date\n",
        "HAVING count(DISTINCT article_id) > 1\n",
        "ORDER BY 1\n",
        "```"
      ],
      "metadata": {
        "id": "J9A3r8njqwLh"
      }
    },
    {
      "cell_type": "code",
      "source": [
        "data = [[1, 3, 5, '2019-08-01'], [3, 4, 5, '2019-08-01'], [1, 3, 6, '2019-08-02'], [2, 7, 7, '2019-08-01'], [2, 7, 6, '2019-08-02'], [4, 7, 1, '2019-07-22'], [3, 4, 4, '2019-07-21'], [3, 4, 4, '2019-07-21']]\n",
        "views = pd.DataFrame(data, columns=['article_id', 'author_id', 'viewer_id', 'view_date']).astype({'article_id':'Int64', 'author_id':'Int64', 'viewer_id':'Int64', 'view_date':'datetime64[ns]'})"
      ],
      "metadata": {
        "id": "q1OEg-DHZTaN"
      },
      "execution_count": null,
      "outputs": []
    },
    {
      "cell_type": "code",
      "source": [
        "def article_views(views: pd.DataFrame) -> pd.DataFrame:\n",
        "    return views.groupby(['viewer_id', 'view_date'])\\\n",
        "                .agg(view_cnt = ('article_id', 'nunique'))\\\n",
        "                .where(lambda x: x > 1)\\\n",
        "                .dropna()\\\n",
        "                .reset_index()[['viewer_id']]\\\n",
        "                .rename({'viewer_id': 'id'}, axis=1)\\\n",
        "                .drop_duplicates()\\\n",
        "                .sort_values(by='id')"
      ],
      "metadata": {
        "id": "jTDzurG7sWOx"
      },
      "execution_count": null,
      "outputs": []
    },
    {
      "cell_type": "markdown",
      "source": [
        "1205. Monthly Transactions II\n",
        "\n",
        "https://leetcode.com/problems/monthly-transactions-ii/description/\n",
        "\n",
        "```sql\n",
        "\n",
        "```"
      ],
      "metadata": {
        "id": "NikhI3elvCq7"
      }
    },
    {
      "cell_type": "code",
      "source": [
        "data = [[101, 'US', 'approved', 1000, '2019-05-18'], [102, 'US', 'declined', 2000, '2019-05-19'], [103, 'US', 'approved', 3000, '2019-06-10'], [104, 'US', 'declined', 4000, '2019-06-13'], [105, 'US', 'approved', 5000, '2019-06-15']]\n",
        "transactions = pd.DataFrame(data, columns=['id', 'country', 'state', 'amount', 'trans_date']).astype({'id':'Int64', 'country':'object', 'state':'object', 'amount':'Int64', 'trans_date':'datetime64[ns]'})\n",
        "data = [[102, '2019-05-29'], [101, '2019-06-30'], [105, '2019-09-18']]\n",
        "chargebacks = pd.DataFrame(data, columns=['trans_id', 'trans_date']).astype({'trans_id':'Int64', 'trans_date':'datetime64[ns]'})"
      ],
      "metadata": {
        "id": "1q0Xf3-3H2YB"
      },
      "execution_count": null,
      "outputs": []
    },
    {
      "cell_type": "code",
      "source": [
        "def monthly_transactions(transactions: pd.DataFrame, chargebacks: pd.DataFrame) -> pd.DataFrame:\n",
        "    chargebacks_full = chargebacks.merge(transactions, how='left', left_on='trans_id', right_on='id', suffixes=['_c', '_t'])\\\n",
        "                    .assign(month = pd.to_datetime(chargebacks['trans_date']).dt.strftime('%Y-%m'))\\\n",
        "                    .assign(state='chrgeback')\\\n",
        "                    [['month','id','country', 'amount', 'state']]\n",
        "    transactions_full = transactions.query(\"state == 'approved'\")\\\n",
        "                        .assign(month = pd.to_datetime(transactions['trans_date'])\\\n",
        "                        .dt.strftime('%Y-%m'))\\\n",
        "                        [['id', 'country', 'state', 'amount', 'month']]\n",
        "    pivot = pd.concat([chargebacks_full, transactions_full], axis=0).pivot_table(index=['month', 'country'], columns=['state'], values=['amount'], aggfunc=['sum', 'count']).fillna(0).reset_index()\n",
        "    pivot.columns = ['month', 'country', 'approved_amount', 'chargeback_amount', 'approved_count', 'chargeback_count']\n",
        "    return pivot.reindex(columns=['month', 'country', 'approved_count', 'approved_amount', 'chargeback_count', 'chargeback_amount' ])"
      ],
      "metadata": {
        "id": "L8TN6L-jArZY"
      },
      "execution_count": null,
      "outputs": []
    },
    {
      "cell_type": "markdown",
      "source": [
        "1212. Team Scores in Football Tournament\n",
        "\n",
        "https://leetcode.com/problems/team-scores-in-football-tournament/description/\n",
        "\n",
        "```sql\n",
        "with all_games as (\n",
        "SELECT\n",
        "host_team, host_goals, guest_goals\n",
        "FROM Matches\n",
        "UNION ALL\n",
        "SELECT guest_team, guest_goals, host_goals\n",
        "FROM Matches)\n",
        "\n",
        "\n",
        "SELECT\n",
        "team_id, team_name,\n",
        "sum(CASE WHEN host_goals > guest_goals  THEN 3 WHEN host_goals = guest_goals THEN 1 ELSE 0 END) AS num_points\n",
        "FROM all_games a\n",
        "RIGHT JOIN Teams t on a.host_team = t.team_id\n",
        "GROUP BY team_id, team_name\n",
        "ORDER BY num_points DESC, team_id\n",
        "\n",
        "```"
      ],
      "metadata": {
        "id": "NvHVKpnxI4Le"
      }
    },
    {
      "cell_type": "code",
      "source": [
        "data = [[10, 'Leetcode FC'], [20, 'NewYork FC'], [30, 'Atlanta FC'], [40, 'Chicago FC'], [50, 'Toronto FC']]\n",
        "teams = pd.DataFrame(data, columns=['team_id', 'team_name']).astype({'team_id':'Int64', 'team_name':'object'})\n",
        "data = [[1, 10, 20, 3, 0], [2, 30, 10, 2, 2], [3, 10, 50, 5, 1], [4, 20, 30, 1, 0], [5, 50, 30, 1, 0]]\n",
        "matches = pd.DataFrame(data, columns=['match_id', 'host_team', 'guest_team', 'host_goals', 'guest_goals']).astype({'match_id':'Int64', 'host_team':'Int64', 'guest_team':'Int64', 'host_goals':'Int64', 'guest_goals':'Int64'})"
      ],
      "metadata": {
        "id": "qLe8uJ-aIc6-"
      },
      "execution_count": null,
      "outputs": []
    },
    {
      "cell_type": "code",
      "source": [
        "def team_scores(teams: pd.DataFrame, matches: pd.DataFrame) -> pd.DataFrame:\n",
        "    points = matches.assign(host_points = np.where(matches.host_goals > matches.guest_goals, 3, np.where(matches.host_goals == matches.guest_goals, 1, 0)),\n",
        "    guest_points = np.where(matches.host_goals < matches.guest_goals, 3, np.where(matches.host_goals == matches.guest_goals, 1, 0)))[['host_team','guest_team', 'host_points',\t'guest_points']]\n",
        "    teams_pints = pd.concat([pd.melt(points, value_vars=['host_team',\t'guest_team'], value_name='team'), pd.melt(points, value_vars=['host_points','guest_points'], value_name='num_points')], axis=1)\\\n",
        "    .groupby('team').num_points.sum()\n",
        "    return teams.merge(teams_pints, left_on='team_id', right_index=True, how='left').fillna(0).sort_values(by=['num_points', 'team_id'], ascending=[False, True])"
      ],
      "metadata": {
        "id": "G1ylyww6cmrO"
      },
      "execution_count": null,
      "outputs": []
    },
    {
      "cell_type": "markdown",
      "source": [
        "1270. All People Report to the Given Manager\n",
        "\n",
        "https://leetcode.com/problems/all-people-report-to-the-given-manager/description/\n",
        "\n",
        "\n",
        "```sql\n",
        "SELECT employee_id FROM (\n",
        "SELECT\n",
        " distinct unnest(array_agg (l1.employee_id) || array_agg(l2.employee_id) || array_agg(l3.employee_id)) as employee_id\n",
        "FROM Employees l1\n",
        "LEFT JOIN Employees l2 ON l2.manager_id = l1.employee_id\n",
        "LEFT JOIN Employees l3 ON l3.manager_id = l2.employee_id\n",
        "WHERE l1.manager_id = 1) sub\n",
        "WHERE employee_id > 1\n",
        "```"
      ],
      "metadata": {
        "id": "G7ppNNIuYqk_"
      }
    },
    {
      "cell_type": "code",
      "source": [
        "data = [[1, 'Boss', 1], [3, 'Alice', 3], [2, 'Bob', 1], [4, 'Daniel', 2], [7, 'Luis', 4], [8, 'John', 3], [9, 'Angela', 8], [77, 'Robert', 1]]\n",
        "employees = pd.DataFrame(data, columns=['employee_id', 'employee_name', 'manager_id']).astype({'employee_id':'Int64', 'employee_name':'object', 'manager_id':'Int64'})"
      ],
      "metadata": {
        "id": "WNgwvYI8d52V"
      },
      "execution_count": null,
      "outputs": []
    },
    {
      "cell_type": "code",
      "source": [
        "def find_reporting_people(employees: pd.DataFrame) -> pd.DataFrame:\n",
        "    employees = employees[['employee_id', 'manager_id']]\n",
        "    emps = employees[employees.manager_id == 1]\\\n",
        "         .merge(employees, how='left', left_on='employee_id', right_on='manager_id', suffixes=('_l1', '_r1'))\\\n",
        "         .merge(employees, how='left', left_on='employee_id_l1', right_on='manager_id', suffixes=('_l1', '_r2'))\\\n",
        "         .merge(employees, how='left', left_on='employee_id', right_on='manager_id', suffixes=('_l2', '_r2'))\\\n",
        "         .merge(employees, how='left', left_on='employee_id_l2', right_on='manager_id', suffixes=('_l2', '_r2'))['employee_id'].where(lambda x: x.gt(1)).dropna().unique()\n",
        "    return pd.DataFrame(emps, columns=['employee_id'], index=list(range(len(emps)))) if any(emps) else pd.DataFrame(columns=['employee_id'])"
      ],
      "metadata": {
        "id": "zU_ITSeLjxsU"
      },
      "execution_count": null,
      "outputs": []
    },
    {
      "cell_type": "code",
      "source": [
        "def find_reporting_people(employees: pd.DataFrame) -> pd.DataFrame:\n",
        "\n",
        "    new_reports =  all_reports = set([1])\n",
        "\n",
        "    for _ in range(3):\n",
        "        new_reports = set(\n",
        "            employees[employees['manager_id'].isin(new_reports)]['employee_id']\n",
        "        )\n",
        "        if not new_reports:\n",
        "            break\n",
        "\n",
        "        all_reports.update(new_reports)\n",
        "    return pd.DataFrame({'employee_id': list(all_reports - {1})})"
      ],
      "metadata": {
        "id": "vZyCwokOkCGR"
      },
      "execution_count": null,
      "outputs": []
    },
    {
      "cell_type": "markdown",
      "source": [
        "1285. Find the Start and End Number of Continuous Ranges\n",
        "\n",
        "https://leetcode.com/problems/find-the-start-and-end-number-of-continuous-ranges/description/\n",
        "\n",
        "```sql\n",
        "SELECT MIN(log_id ) AS start_id , MAX(log_id ) AS end_id\n",
        "FROM (\n",
        "\n",
        "SELECT\n",
        "    log_id,\n",
        "    log_id-row_number() OVER (ORDER BY log_id ASC) AS RN\n",
        "FROM Logs)\n",
        "GROUP BY RN\n",
        "ORDER BY 1\n",
        "```"
      ],
      "metadata": {
        "id": "q-sL0o-n8Yl4"
      }
    },
    {
      "cell_type": "code",
      "source": [
        "data = [[1], [2], [3], [7], [8], [10]]\n",
        "logs = pd.DataFrame(data, columns=['log_id']).astype({'log_id':'Int64'})"
      ],
      "metadata": {
        "id": "5Pe57-5CkOR1"
      },
      "execution_count": null,
      "outputs": []
    },
    {
      "cell_type": "code",
      "source": [
        "def find_continuous_ranges(logs: pd.DataFrame) -> pd.DataFrame:\n",
        "    return logs.assign(rnk_diff=logs.log_id - logs.log_id.rank(method='first', ascending=True))\\\n",
        "            .groupby(\"rnk_diff\")\\\n",
        "            .agg(start_id  = (\"log_id\",'min'), end_id = (\"log_id\", 'max'))\\\n",
        "            .sort_values(by='start_id')"
      ],
      "metadata": {
        "id": "JhTduyvf8iFn"
      },
      "execution_count": null,
      "outputs": []
    },
    {
      "cell_type": "markdown",
      "source": [
        "1308. Running Total for Different Genders\n",
        "\n",
        "https://leetcode.com/problems/running-total-for-different-genders/description/\n",
        "\n",
        "```sql\n",
        "SELECT\n",
        "gender, day,\n",
        "sum(score_points) OVER (PARTITION BY gender ORDER BY day) as total\n",
        "\n",
        "FROM Scores s\n",
        "ORDER BY 1, 2\n",
        "```"
      ],
      "metadata": {
        "id": "eOXMpZmB-sIF"
      }
    },
    {
      "cell_type": "code",
      "source": [
        "data = [['Aron', 'F', '2020-01-01', 17], ['Alice', 'F', '2020-01-07', 23], ['Bajrang', 'M', '2020-01-07', 7], ['Khali', 'M', '2019-12-25', 11], ['Slaman', 'M', '2019-12-30', 13], ['Joe', 'M', '2019-12-31', 3], ['Jose', 'M', '2019-12-18', 2], ['Priya', 'F', '2019-12-31', 23], ['Priyanka', 'F', '2019-12-30', 17]]\n",
        "scores = pd.DataFrame(data, columns=['player_name', 'gender', 'day', 'score_points']).astype({'player_name':'object', 'gender':'object', 'day':'datetime64[ns]', 'score_points':'Int64'})"
      ],
      "metadata": {
        "id": "luus_Gy48jtM"
      },
      "execution_count": null,
      "outputs": []
    },
    {
      "cell_type": "code",
      "source": [
        "def running_total(scores: pd.DataFrame) -> pd.DataFrame:\n",
        "    scores.sort_values(by=['gender', 'day'], inplace=True)\n",
        "    return scores.assign(total = scores.groupby('gender').score_points.cumsum())[['gender', 'day', 'total']]"
      ],
      "metadata": {
        "id": "Rk2GDAn2DLKk"
      },
      "execution_count": null,
      "outputs": []
    },
    {
      "cell_type": "markdown",
      "source": [
        "1355. Activity Participants\n",
        "\n",
        "https://leetcode.com/problems/activity-participants/description/\n",
        "\n",
        "```sql\n",
        "SELECT\n",
        "sub.name as activity FROM (\n",
        "SELECT\n",
        "a.name,\n",
        "count(f.activity) as act_cnt,\n",
        "dense_rank() OVER (ORDER BY count(f.activity) ) as rnk_asc,\n",
        "dense_rank() OVER (ORDER BY count(f.activity) DESC) as rnk_desc\n",
        "FROM Activities a\n",
        "LEFT JOIN Friends f on f.activity = a.name\n",
        "GROUP BY a.name) sub\n",
        "WHERE rnk_asc > 1 AND rnk_desc > 1\n",
        "```"
      ],
      "metadata": {
        "id": "NKWVVp1HFId8"
      }
    },
    {
      "cell_type": "code",
      "source": [
        "data = [[1, 'Jonathan D.', 'Eating'], [2, 'Jade W.', 'Singing'], [3, 'Victor J.', 'Singing'], [4, 'Elvis Q.', 'Eating'], [5, 'Daniel A.', 'Eating'], [6, 'Bob B.', 'Horse Riding']]\n",
        "friends = pd.DataFrame(data, columns=['id', 'name', 'activity']).astype({'id':'Int64', 'name':'object', 'activity':'object'})\n",
        "data = [[1, 'Eating'], [2, 'Singing'], [3, 'Horse Riding']]\n",
        "activities = pd.DataFrame(data, columns=['id', 'name']).astype({'id':'Int64', 'name':'object'})"
      ],
      "metadata": {
        "id": "Y6qblNQnDjJB"
      },
      "execution_count": null,
      "outputs": []
    },
    {
      "cell_type": "code",
      "source": [
        "def activity_participants(friends: pd.DataFrame, activities: pd.DataFrame) -> pd.DataFrame:\n",
        "    agged_df = activities.merge(friends, how='left', left_on='name', right_on='activity')\\\n",
        "                .groupby('name_x')\\\n",
        "                .agg(act_cnt = ('activity', 'count')).reset_index()\\\n",
        "\n",
        "    return agged_df.assign(rnk_asc = agged_df.act_cnt.rank(method='dense', ascending=True),\n",
        "                    rnk_desc = agged_df.act_cnt.rank(method='dense', ascending=False))\\\n",
        "                                       .query(\"rnk_asc > 1 & rnk_desc > 1\")[['name_x']]\\\n",
        "                                       .rename({\"name_x\": \"activity\"}, axis=1)"
      ],
      "metadata": {
        "id": "Z0YX6oXaG-Xu"
      },
      "execution_count": null,
      "outputs": []
    },
    {
      "cell_type": "markdown",
      "source": [
        "1364. Number of Trusted Contacts of a Customer\n",
        "\n",
        "https://leetcode.com/problems/number-of-trusted-contacts-of-a-customer/description/\n",
        "\n",
        "```sql\n",
        "\n",
        "\n",
        "```"
      ],
      "metadata": {
        "id": "RoLJjUk_I6Gp"
      }
    },
    {
      "cell_type": "markdown",
      "source": [
        "1141. User Activity for the Past 30 Days I\n",
        "\n",
        "https://leetcode.com/problems/user-activity-for-the-past-30-days-i/description/\n",
        "\n",
        "```sql\n",
        "SELECT\n",
        "activity_date AS day,\n",
        "count(DISTINCT user_id) AS active_users\n",
        "FROM Activity\n",
        "WHERE activity_date BETWEEN '2019-07-27'::DATE - INTERVAL '29 DAYS' AND '2019-07-27'\n",
        "GROUP BY activity_date\n",
        "ORDER BY 1\n",
        "```"
      ],
      "metadata": {
        "id": "CvA6ynoLDj1_"
      }
    },
    {
      "cell_type": "code",
      "source": [
        "data = [[1, 1, '2019-07-20', 'open_session'], [1, 1, '2019-07-20', 'scroll_down'], [1, 1, '2019-07-20', 'end_session'], [2, 4, '2019-07-20', 'open_session'], [2, 4, '2019-07-21', 'send_message'], [2, 4, '2019-07-21', 'end_session'], [3, 2, '2019-07-21', 'open_session'], [3, 2, '2019-07-21', 'send_message'], [3, 2, '2019-07-21', 'end_session'], [4, 3, '2019-06-25', 'open_session'], [4, 3, '2019-06-25', 'end_session']]\n",
        "activity = pd.DataFrame(data, columns=['user_id', 'session_id', 'activity_date', 'activity_type']).astype({'user_id':'Int64', 'session_id':'Int64', 'activity_date':'datetime64[ns]', 'activity_type':'object'})"
      ],
      "metadata": {
        "id": "HLXJq2xtIKnW"
      },
      "execution_count": null,
      "outputs": []
    },
    {
      "cell_type": "code",
      "source": [
        "def user_activity(activity: pd.DataFrame) -> pd.DataFrame:\n",
        "    return activity[activity.activity_date.between(pd.to_datetime('2019-07-27', format='%Y-%m-%d') - pd.DateOffset(days=29),\\\n",
        "                                        pd.to_datetime('2019-07-27', format='%Y-%m-%d'))]\\\n",
        "                                        .groupby('activity_date')\\\n",
        "                                        .agg(active_users  = ('user_id', 'nunique'))\\\n",
        "                                        .reset_index().rename({'activity_date': 'day'}, axis=1)\\\n",
        "                                        .sort_values(by='day')"
      ],
      "metadata": {
        "id": "Aw4j7JyuFzkT"
      },
      "execution_count": null,
      "outputs": []
    },
    {
      "cell_type": "markdown",
      "source": [
        "1398. Customers Who Bought Products A and B but Not C\n",
        "\n",
        "https://leetcode.com/problems/customers-who-bought-products-a-and-b-but-not-c/\n",
        "\n",
        "```sql\n",
        "SELECT\n",
        "DISTINCT c.customer_id,\n",
        "c.customer_name\n",
        "FROM Orders o\n",
        "LEFT JOIN Customers c ON c.customer_id  = o.customer_id\n",
        "WHERE\n",
        "EXISTS (SELECT 1 FROM Orders o1 WHERE  o1.customer_id = o.customer_id AND  o1.product_name  = 'A' ) AND\n",
        "EXISTS (SELECT 1 FROM Orders o2 WHERE  o2.customer_id = o.customer_id AND  o2.product_name  = 'B' ) AND\n",
        "NOT EXISTS (SELECT 1 FROM Orders o3 WHERE  o3.customer_id = o.customer_id AND  o3.product_name  = 'C' )\n",
        "ORDER BY 1\n",
        "```"
      ],
      "metadata": {
        "id": "9qZoK3R1Hc85"
      }
    },
    {
      "cell_type": "code",
      "source": [
        "data = [[1, 'Daniel'], [2, 'Diana'], [3, 'Elizabeth'], [4, 'Jhon']]\n",
        "customers = pd.DataFrame(data, columns=['customer_id', 'customer_name']).astype({'customer_id':'Int64', 'customer_name':'object'})\n",
        "data = [[10, 1, 'A'], [20, 1, 'B'], [30, 1, 'D'], [40, 1, 'C'], [50, 2, 'A'], [60, 3, 'A'], [70, 3, 'B'], [80, 3, 'D'], [90, 4, 'C']]\n",
        "orders = pd.DataFrame(data, columns=['order_id', 'customer_id', 'product_name']).astype({'order_id':'Int64', 'customer_id':'Int64', 'product_name':'object'})"
      ],
      "metadata": {
        "id": "WZ6u8PsWF0mZ"
      },
      "execution_count": null,
      "outputs": []
    },
    {
      "cell_type": "code",
      "source": [
        "def find_customers(customers: pd.DataFrame, orders: pd.DataFrame) -> pd.DataFrame:\n",
        "    filtered_customers = (\n",
        "    orders.groupby('customer_id')['product_name']\n",
        "    .apply(set)\n",
        "    .loc[lambda x: x.apply(lambda s: {'A', 'B'}.issubset(s) and 'C' not in s)]\n",
        ")\n",
        "    return filtered_customers.reset_index().merge(customers, how='left', left_on='customer_id', right_on='customer_id')[['customer_id', 'customer_name']].sort_values(by='customer_id')"
      ],
      "metadata": {
        "id": "jRjvW4ESNDu6"
      },
      "execution_count": null,
      "outputs": []
    },
    {
      "cell_type": "code",
      "source": [
        "def find_customers(customers: pd.DataFrame, orders: pd.DataFrame) -> pd.DataFrame:\n",
        "    grouped = orders.groupby('customer_id')['product_name']\\\n",
        "          .apply(set)\\\n",
        "          .reset_index()\n",
        "    return grouped[grouped.product_name.apply(lambda s: {'A', 'B'}.issubset(s) and 'C' not in s)]\\\n",
        "        .merge(customers, how='left', left_on='customer_id', right_on='customer_id')\\\n",
        "         [['customer_id', 'customer_name']]\\\n",
        "         .sort_values(by='customer_id')"
      ],
      "metadata": {
        "id": "inRkgXVvRrQU"
      },
      "execution_count": null,
      "outputs": []
    },
    {
      "cell_type": "markdown",
      "source": [
        "1440. Evaluate Boolean Expression\n",
        "\n",
        "https://leetcode.com/problems/evaluate-boolean-expression/description/\n",
        "\n",
        "```sql\n",
        "SELECT\n",
        "e.*,\n",
        "CASE\n",
        "WHEN e.operator = '=' THEN (l.value = r.value)::TEXT\n",
        "WHEN e.operator = '>' THEN (l.value > r.value)::TEXT\n",
        "WHEN e.operator = '<' THEN (l.value < r.value)::TEXT\n",
        "END AS value\n",
        "FROM Expressions e\n",
        "LEFT JOIN Variables l ON l.name = e.left_operand\n",
        "LEFT JOIN Variables r ON r.name = e.right_operand\n",
        "```"
      ],
      "metadata": {
        "id": "vL0gHyREcOVv"
      }
    },
    {
      "cell_type": "code",
      "source": [
        "data = [['x', 66], ['y', 77]]\n",
        "variables = pd.DataFrame(data, columns=['name', 'value']).astype({'name':'object', 'value':'Int64'})\n",
        "data = [['x', '>', 'y'], ['x', '<', 'y'], ['x', '=', 'y'], ['y', '>', 'x'], ['y', '<', 'x'], ['x', '=', 'x']]\n",
        "expressions = pd.DataFrame(data, columns=['left_operand', 'operator', 'right_operand']).astype({'left_operand':'object', 'operator':'object', 'right_operand':'object'})"
      ],
      "metadata": {
        "id": "0q_UW6_HR69R"
      },
      "execution_count": null,
      "outputs": []
    },
    {
      "cell_type": "code",
      "source": [
        "import numpy as np\n",
        "import pandas as pd\n",
        "\n",
        "\n",
        "def eval_expression(variables: pd.DataFrame, expressions: pd.DataFrame) -> pd.DataFrame:\n",
        "    if expressions.shape[0]:\n",
        "        d = {k: v for k, v in zip(variables.name, variables.value)}\n",
        "        expressions['l'] = expressions.left_operand.map(d)\n",
        "        expressions['r'] = expressions.right_operand.map(d)\n",
        "        def caluclate(l, r, op):\n",
        "            if op == '>':\n",
        "                return str(l > r).lower()\n",
        "            elif op == '<':\n",
        "                return str(l < r).lower()\n",
        "            return str(l == r).lower()\n",
        "        expressions['value'] = np.vectorize(caluclate)(expressions['l'], expressions['r'], expressions['operator'])\n",
        "        return expressions.drop(columns=['l', 'r'])\n",
        "    return pd.DataFrame(columns=list(expressions.columns) + ['value'])"
      ],
      "metadata": {
        "id": "kEs5hIX4j9P_"
      },
      "execution_count": null,
      "outputs": []
    },
    {
      "cell_type": "markdown",
      "source": [
        "1445. Apples & Oranges\n",
        "\n",
        "https://leetcode.com/problems/apples-oranges/description/\n",
        "\n",
        "```sql\n",
        "SELECT\n",
        "sale_date,\n",
        "sum(case when fruit = 'apples' then sold_num else 0 end) -\n",
        "sum(case when fruit = 'oranges' then sold_num else 0 end) as diff\n",
        "FROM Sales\n",
        "GROUP BY sale_date\n",
        "order by 1\n",
        "```"
      ],
      "metadata": {
        "id": "NkOHppyar0-z"
      }
    },
    {
      "cell_type": "code",
      "source": [
        "data = [['2020-05-01', 'apples', 10], ['2020-05-01', 'oranges', 8], ['2020-05-02', 'apples', 15], ['2020-05-02', 'oranges', 15], ['2020-05-03', 'apples', 20], ['2020-05-03', 'oranges', 0], ['2020-05-04', 'apples', 15], ['2020-05-04', 'oranges', 16]]\n",
        "sales = pd.DataFrame(data, columns=['sale_date', 'fruit', 'sold_num']).astype({'sale_date':'datetime64[ns]', 'fruit':'object', 'sold_num':'Int64'})"
      ],
      "metadata": {
        "id": "C3d2MicVnt3r"
      },
      "execution_count": null,
      "outputs": []
    },
    {
      "cell_type": "code",
      "source": [
        "def apples_oranges(sales: pd.DataFrame) -> pd.DataFrame:\n",
        "    return sales.pivot_table(index='sale_date', columns=['fruit'], values=['sold_num']).diff(-1, axis=1)[('sold_num',  'apples')].reset_index(name='diff')"
      ],
      "metadata": {
        "id": "T6ER6dL4zZjU"
      },
      "execution_count": null,
      "outputs": []
    },
    {
      "cell_type": "markdown",
      "source": [
        "1454. Active Users\n",
        "\n",
        "https://leetcode.com/problems/active-users/description/\n",
        "\n",
        "```sql\n",
        "WITH t AS (\n",
        "    SELECT id, login_date,\n",
        "    dense_rank() OVER (PARTITION BY id ORDER BY login_date ) AS rnk\n",
        "    FROM logins\n",
        ")\n",
        "SELECT DISTINCT c.id, a.name FROM t c\n",
        "JOIN accounts a ON c.id = a.id\n",
        "GROUP BY c.id, a.name, c.login_date -  rnk::INT\n",
        "HAVING count(DISTINCT c.login_date) >=5\n",
        "```"
      ],
      "metadata": {
        "id": "u1CeKVNz3KuS"
      }
    },
    {
      "cell_type": "code",
      "source": [
        "data = [[1, 'Winston'], [7, 'Jonathan']]\n",
        "accounts = pd.DataFrame(data, columns=['id', 'name']).astype({'id':'Int64', 'name':'object'})\n",
        "data = [[7, '2020-05-30'], [1, '2020-05-30'], [7, '2020-05-31'], [7, '2020-06-01'], [7, '2020-06-02'], [7, '2020-06-02'], [7, '2020-06-03'], [1, '2020-06-07'], [7, '2020-06-10']]\n",
        "logins = pd.DataFrame(data, columns=['id', 'login_date']).astype({'id':'Int64', 'login_date':'datetime64[ns]'})"
      ],
      "metadata": {
        "id": "o3ziA4mZz2yM"
      },
      "execution_count": null,
      "outputs": []
    },
    {
      "cell_type": "code",
      "source": [
        "def active_users(accounts: pd.DataFrame, logins: pd.DataFrame) -> pd.DataFrame:\n",
        "    logins = logins.drop_duplicates()\n",
        "    logins = logins.assign(rnk=logins.groupby(['id']).login_date.rank(method='first'))\n",
        "    return logins.assign(dif=logins.login_date - logins.rnk.apply(lambda x: pd.to_timedelta(x, unit='D')))\\\n",
        "        .groupby(['id', 'dif'])\\\n",
        "        .agg(cnt=('login_date', 'count')).reset_index().query(\"cnt > 4\").merge(accounts, how='left', on='id')[['id', 'name']].drop_duplicates()"
      ],
      "metadata": {
        "id": "dves-9FzER6x"
      },
      "execution_count": null,
      "outputs": []
    },
    {
      "cell_type": "markdown",
      "source": [
        "1532. The Most Recent Three Orders\n",
        "\n",
        "https://leetcode.com/problems/the-most-recent-three-orders/description/\n",
        "\n",
        "```sql\n",
        "SELECT c.name as customer_name , sub.customer_id, sub.order_id, sub.order_date FROM (\n",
        "SELECT\n",
        "customer_id, order_id, order_date,\n",
        "row_number() OVER (PARTITION BY customer_id ORDER BY order_date DESC) as rn\n",
        "FROM Orders o) sub\n",
        "RIGHT JOIN Customers c USING(customer_id)\n",
        "WHERE rn < 4\n",
        "ORDER BY 1, 2, 4 DESC\n",
        "```"
      ],
      "metadata": {
        "id": "SqilADa1DYvo"
      }
    },
    {
      "cell_type": "code",
      "source": [
        "data = [[1, 'Winston'], [2, 'Jonathan'], [3, 'Annabelle'], [4, 'Marwan'], [5, 'Khaled']]\n",
        "customers = pd.DataFrame(data, columns=['customer_id', 'name']).astype({'customer_id':'Int64', 'name':'object'})\n",
        "data = [[1, '2020-07-31', 1, 30], [2, '2020-7-30', 2, 40], [3, '2020-07-31', 3, 70], [4, '2020-07-29', 4, 100], [5, '2020-06-10', 1, 1010], [6, '2020-08-01', 2, 102], [7, '2020-08-01', 3, 111], [8, '2020-08-03', 1, 99], [9, '2020-08-07', 2, 32], [10, '2020-07-15', 1, 2]]\n",
        "orders = pd.DataFrame(data, columns=['order_id', 'order_date', 'customer_id', 'cost']).astype({'order_id':'Int64', 'order_date':'datetime64[ns]', 'customer_id':'Int64', 'cost':'Int64'})"
      ],
      "metadata": {
        "id": "Oz2M41TxFdoT"
      },
      "execution_count": null,
      "outputs": []
    },
    {
      "cell_type": "code",
      "source": [
        "def recent_three_orders(customers: pd.DataFrame, orders: pd.DataFrame) -> pd.DataFrame:\n",
        "    return orders.assign(rn = orders.groupby('customer_id')\\\n",
        "              .order_date.rank(method='first', ascending=False))\\\n",
        "              .query(\"rn < 4\")\\\n",
        "              .merge(customers, how='left', on='customer_id')\\\n",
        "              [['name', 'customer_id', 'order_id', 'order_date']]\\\n",
        "              .rename({'name': 'customer_name'}, axis=1).sort_values(by=['customer_name','customer_id', 'order_date'], ascending=[True, True, False])"
      ],
      "metadata": {
        "id": "O0AbfFugG3ei"
      },
      "execution_count": null,
      "outputs": []
    },
    {
      "cell_type": "markdown",
      "source": [
        "1468. Calculate Salaries\n",
        "\n",
        "https://leetcode.com/problems/calculate-salaries/\n",
        "\n",
        "```sql\n",
        "WITH taxes as (\n",
        "SELECT\n",
        "company_id,\n",
        "CASE WHEN max(salary) < 1000 THEN 1\n",
        "WHEN 1000 <= max(salary) AND max(salary) <= 10000 THEN 0.76\n",
        "ELSE 0.51 END as coef\n",
        "FROM Salaries\n",
        "GROUP BY company_id)\n",
        "\n",
        "SELECT\n",
        "company_id, employee_id, employee_name,\n",
        "ROUND(salary  * coef, 0) as salary\n",
        "FROM Salaries\n",
        "INNER JOIN taxes USING(company_id )\n",
        "```"
      ],
      "metadata": {
        "id": "TyINXIhYJAX8"
      }
    },
    {
      "cell_type": "code",
      "source": [
        "data = [[1, 1, 'Tony', 2000], [1, 2, 'Pronub', 21300], [1, 3, 'Tyrrox', 10800], [2, 1, 'Pam', 300], [2, 7, 'Bassem', 450], [2, 9, 'Hermione', 700], [3, 7, 'Bocaben', 100], [3, 2, 'Ognjen', 2200], [3, 13, 'Nyancat', 3300], [3, 15, 'Morninngcat', 7777]]\n",
        "salaries = pd.DataFrame(data, columns=['company_id', 'employee_id', 'employee_name', 'salary']).astype({'company_id':'Int64', 'employee_id':'Int64', 'employee_name':'object', 'salary':'Int64'})"
      ],
      "metadata": {
        "id": "2ROna120GXS8"
      },
      "execution_count": null,
      "outputs": []
    },
    {
      "cell_type": "code",
      "source": [
        "import numpy as np"
      ],
      "metadata": {
        "id": "ghxxV4s8MDzr"
      },
      "execution_count": null,
      "outputs": []
    },
    {
      "cell_type": "code",
      "source": [
        "def calculate_salaries(salaries: pd.DataFrame) -> pd.DataFrame:\n",
        "    taxes_coefs = salaries.groupby('company_id').salary.max().apply(lambda x: np.where(x < 1000, 1, np.where(x <= 10000, 0.76, 0.51)))\n",
        "    salaries['salary'] = (salaries['salary'] * salaries.company_id.map(taxes_coefs)).round().astype('int')\n",
        "    return salaries"
      ],
      "metadata": {
        "id": "kLwVpMtJLnO7"
      },
      "execution_count": null,
      "outputs": []
    },
    {
      "cell_type": "markdown",
      "source": [
        "1549. The Most Recent Orders for Each Product\n",
        "\n",
        "https://leetcode.com/problems/the-most-recent-orders-for-each-product/\n",
        "\n",
        "```sql\n",
        "SELECT p.product_name, sub.product_id, sub.order_id, sub.order_date FROM (\n",
        "SELECT\n",
        "product_id,order_id, order_date,\n",
        "rank() OVER (PARTITION BY product_id ORDER BY order_date DESC) as rn\n",
        "FROM Orders o) sub\n",
        "INNER JOIN Products p USING(product_id )\n",
        "WHERE rn = 1\n",
        "ORDER BY 1, 2, 3\n",
        "```"
      ],
      "metadata": {
        "id": "LUY4QfJVNhgl"
      }
    },
    {
      "cell_type": "code",
      "source": [
        "data = [[1, 'Winston'], [2, 'Jonathan'], [3, 'Annabelle'], [4, 'Marwan'], [5, 'Khaled']]\n",
        "customers = pd.DataFrame(data, columns=['customer_id', 'name']).astype({'customer_id':'Int64', 'name':'object'})\n",
        "data = [[1, '2020-07-31', 1, 1], [2, '2020-7-30', 2, 2], [3, '2020-08-29', 3, 3], [4, '2020-07-29', 4, 1], [5, '2020-06-10', 1, 2], [6, '2020-08-01', 2, 1], [7, '2020-08-01', 3, 1], [8, '2020-08-03', 1, 2], [9, '2020-08-07', 2, 3], [10, '2020-07-15', 1, 2]]\n",
        "orders = pd.DataFrame(data, columns=['order_id', 'order_date', 'customer_id', 'product_id']).astype({'order_id':'Int64', 'order_date':'datetime64[ns]', 'customer_id':'Int64', 'product_id':'Int64'})\n",
        "data = [[1, 'keyboard', 120], [2, 'mouse', 80], [3, 'screen', 600], [4, 'hard disk', 450]]\n",
        "products = pd.DataFrame(data, columns=['product_id', 'product_name', 'price']).astype({'product_id':'Int64', 'product_name':'object', 'price':'Int64'})"
      ],
      "metadata": {
        "id": "pwsp0hMMND4j"
      },
      "execution_count": null,
      "outputs": []
    },
    {
      "cell_type": "code",
      "source": [
        "orders.assign(rnk=orders.groupby('product_id').order_date.rank(method='min', ascending=False))\\\n",
        "      .query('rnk == 1')\\\n",
        "      .merge(products, how='inner', on='product_id')[['product_name', 'product_id', 'order_date', 'order_id']]\\\n",
        "      .sort_values(by=['product_name', 'product_id', 'order_id'])"
      ],
      "metadata": {
        "id": "JaaSiHt5Qcxy",
        "outputId": "02a2b4bd-fe53-4794-b294-29aa893ccad9",
        "colab": {
          "base_uri": "https://localhost:8080/",
          "height": 175
        }
      },
      "execution_count": null,
      "outputs": [
        {
          "output_type": "execute_result",
          "data": {
            "text/plain": [
              "  product_name  product_id order_date  order_id\n",
              "1     keyboard           1 2020-08-01         6\n",
              "2     keyboard           1 2020-08-01         7\n",
              "3        mouse           2 2020-08-03         8\n",
              "0       screen           3 2020-08-29         3"
            ],
            "text/html": [
              "\n",
              "  <div id=\"df-01e8203a-4db5-4274-96bc-08a2b51008bd\" class=\"colab-df-container\">\n",
              "    <div>\n",
              "<style scoped>\n",
              "    .dataframe tbody tr th:only-of-type {\n",
              "        vertical-align: middle;\n",
              "    }\n",
              "\n",
              "    .dataframe tbody tr th {\n",
              "        vertical-align: top;\n",
              "    }\n",
              "\n",
              "    .dataframe thead th {\n",
              "        text-align: right;\n",
              "    }\n",
              "</style>\n",
              "<table border=\"1\" class=\"dataframe\">\n",
              "  <thead>\n",
              "    <tr style=\"text-align: right;\">\n",
              "      <th></th>\n",
              "      <th>product_name</th>\n",
              "      <th>product_id</th>\n",
              "      <th>order_date</th>\n",
              "      <th>order_id</th>\n",
              "    </tr>\n",
              "  </thead>\n",
              "  <tbody>\n",
              "    <tr>\n",
              "      <th>1</th>\n",
              "      <td>keyboard</td>\n",
              "      <td>1</td>\n",
              "      <td>2020-08-01</td>\n",
              "      <td>6</td>\n",
              "    </tr>\n",
              "    <tr>\n",
              "      <th>2</th>\n",
              "      <td>keyboard</td>\n",
              "      <td>1</td>\n",
              "      <td>2020-08-01</td>\n",
              "      <td>7</td>\n",
              "    </tr>\n",
              "    <tr>\n",
              "      <th>3</th>\n",
              "      <td>mouse</td>\n",
              "      <td>2</td>\n",
              "      <td>2020-08-03</td>\n",
              "      <td>8</td>\n",
              "    </tr>\n",
              "    <tr>\n",
              "      <th>0</th>\n",
              "      <td>screen</td>\n",
              "      <td>3</td>\n",
              "      <td>2020-08-29</td>\n",
              "      <td>3</td>\n",
              "    </tr>\n",
              "  </tbody>\n",
              "</table>\n",
              "</div>\n",
              "    <div class=\"colab-df-buttons\">\n",
              "\n",
              "  <div class=\"colab-df-container\">\n",
              "    <button class=\"colab-df-convert\" onclick=\"convertToInteractive('df-01e8203a-4db5-4274-96bc-08a2b51008bd')\"\n",
              "            title=\"Convert this dataframe to an interactive table.\"\n",
              "            style=\"display:none;\">\n",
              "\n",
              "  <svg xmlns=\"http://www.w3.org/2000/svg\" height=\"24px\" viewBox=\"0 -960 960 960\">\n",
              "    <path d=\"M120-120v-720h720v720H120Zm60-500h600v-160H180v160Zm220 220h160v-160H400v160Zm0 220h160v-160H400v160ZM180-400h160v-160H180v160Zm440 0h160v-160H620v160ZM180-180h160v-160H180v160Zm440 0h160v-160H620v160Z\"/>\n",
              "  </svg>\n",
              "    </button>\n",
              "\n",
              "  <style>\n",
              "    .colab-df-container {\n",
              "      display:flex;\n",
              "      gap: 12px;\n",
              "    }\n",
              "\n",
              "    .colab-df-convert {\n",
              "      background-color: #E8F0FE;\n",
              "      border: none;\n",
              "      border-radius: 50%;\n",
              "      cursor: pointer;\n",
              "      display: none;\n",
              "      fill: #1967D2;\n",
              "      height: 32px;\n",
              "      padding: 0 0 0 0;\n",
              "      width: 32px;\n",
              "    }\n",
              "\n",
              "    .colab-df-convert:hover {\n",
              "      background-color: #E2EBFA;\n",
              "      box-shadow: 0px 1px 2px rgba(60, 64, 67, 0.3), 0px 1px 3px 1px rgba(60, 64, 67, 0.15);\n",
              "      fill: #174EA6;\n",
              "    }\n",
              "\n",
              "    .colab-df-buttons div {\n",
              "      margin-bottom: 4px;\n",
              "    }\n",
              "\n",
              "    [theme=dark] .colab-df-convert {\n",
              "      background-color: #3B4455;\n",
              "      fill: #D2E3FC;\n",
              "    }\n",
              "\n",
              "    [theme=dark] .colab-df-convert:hover {\n",
              "      background-color: #434B5C;\n",
              "      box-shadow: 0px 1px 3px 1px rgba(0, 0, 0, 0.15);\n",
              "      filter: drop-shadow(0px 1px 2px rgba(0, 0, 0, 0.3));\n",
              "      fill: #FFFFFF;\n",
              "    }\n",
              "  </style>\n",
              "\n",
              "    <script>\n",
              "      const buttonEl =\n",
              "        document.querySelector('#df-01e8203a-4db5-4274-96bc-08a2b51008bd button.colab-df-convert');\n",
              "      buttonEl.style.display =\n",
              "        google.colab.kernel.accessAllowed ? 'block' : 'none';\n",
              "\n",
              "      async function convertToInteractive(key) {\n",
              "        const element = document.querySelector('#df-01e8203a-4db5-4274-96bc-08a2b51008bd');\n",
              "        const dataTable =\n",
              "          await google.colab.kernel.invokeFunction('convertToInteractive',\n",
              "                                                    [key], {});\n",
              "        if (!dataTable) return;\n",
              "\n",
              "        const docLinkHtml = 'Like what you see? Visit the ' +\n",
              "          '<a target=\"_blank\" href=https://colab.research.google.com/notebooks/data_table.ipynb>data table notebook</a>'\n",
              "          + ' to learn more about interactive tables.';\n",
              "        element.innerHTML = '';\n",
              "        dataTable['output_type'] = 'display_data';\n",
              "        await google.colab.output.renderOutput(dataTable, element);\n",
              "        const docLink = document.createElement('div');\n",
              "        docLink.innerHTML = docLinkHtml;\n",
              "        element.appendChild(docLink);\n",
              "      }\n",
              "    </script>\n",
              "  </div>\n",
              "\n",
              "\n",
              "<div id=\"df-f6715985-c30f-419c-a2aa-d474c6fad9c4\">\n",
              "  <button class=\"colab-df-quickchart\" onclick=\"quickchart('df-f6715985-c30f-419c-a2aa-d474c6fad9c4')\"\n",
              "            title=\"Suggest charts\"\n",
              "            style=\"display:none;\">\n",
              "\n",
              "<svg xmlns=\"http://www.w3.org/2000/svg\" height=\"24px\"viewBox=\"0 0 24 24\"\n",
              "     width=\"24px\">\n",
              "    <g>\n",
              "        <path d=\"M19 3H5c-1.1 0-2 .9-2 2v14c0 1.1.9 2 2 2h14c1.1 0 2-.9 2-2V5c0-1.1-.9-2-2-2zM9 17H7v-7h2v7zm4 0h-2V7h2v10zm4 0h-2v-4h2v4z\"/>\n",
              "    </g>\n",
              "</svg>\n",
              "  </button>\n",
              "\n",
              "<style>\n",
              "  .colab-df-quickchart {\n",
              "      --bg-color: #E8F0FE;\n",
              "      --fill-color: #1967D2;\n",
              "      --hover-bg-color: #E2EBFA;\n",
              "      --hover-fill-color: #174EA6;\n",
              "      --disabled-fill-color: #AAA;\n",
              "      --disabled-bg-color: #DDD;\n",
              "  }\n",
              "\n",
              "  [theme=dark] .colab-df-quickchart {\n",
              "      --bg-color: #3B4455;\n",
              "      --fill-color: #D2E3FC;\n",
              "      --hover-bg-color: #434B5C;\n",
              "      --hover-fill-color: #FFFFFF;\n",
              "      --disabled-bg-color: #3B4455;\n",
              "      --disabled-fill-color: #666;\n",
              "  }\n",
              "\n",
              "  .colab-df-quickchart {\n",
              "    background-color: var(--bg-color);\n",
              "    border: none;\n",
              "    border-radius: 50%;\n",
              "    cursor: pointer;\n",
              "    display: none;\n",
              "    fill: var(--fill-color);\n",
              "    height: 32px;\n",
              "    padding: 0;\n",
              "    width: 32px;\n",
              "  }\n",
              "\n",
              "  .colab-df-quickchart:hover {\n",
              "    background-color: var(--hover-bg-color);\n",
              "    box-shadow: 0 1px 2px rgba(60, 64, 67, 0.3), 0 1px 3px 1px rgba(60, 64, 67, 0.15);\n",
              "    fill: var(--button-hover-fill-color);\n",
              "  }\n",
              "\n",
              "  .colab-df-quickchart-complete:disabled,\n",
              "  .colab-df-quickchart-complete:disabled:hover {\n",
              "    background-color: var(--disabled-bg-color);\n",
              "    fill: var(--disabled-fill-color);\n",
              "    box-shadow: none;\n",
              "  }\n",
              "\n",
              "  .colab-df-spinner {\n",
              "    border: 2px solid var(--fill-color);\n",
              "    border-color: transparent;\n",
              "    border-bottom-color: var(--fill-color);\n",
              "    animation:\n",
              "      spin 1s steps(1) infinite;\n",
              "  }\n",
              "\n",
              "  @keyframes spin {\n",
              "    0% {\n",
              "      border-color: transparent;\n",
              "      border-bottom-color: var(--fill-color);\n",
              "      border-left-color: var(--fill-color);\n",
              "    }\n",
              "    20% {\n",
              "      border-color: transparent;\n",
              "      border-left-color: var(--fill-color);\n",
              "      border-top-color: var(--fill-color);\n",
              "    }\n",
              "    30% {\n",
              "      border-color: transparent;\n",
              "      border-left-color: var(--fill-color);\n",
              "      border-top-color: var(--fill-color);\n",
              "      border-right-color: var(--fill-color);\n",
              "    }\n",
              "    40% {\n",
              "      border-color: transparent;\n",
              "      border-right-color: var(--fill-color);\n",
              "      border-top-color: var(--fill-color);\n",
              "    }\n",
              "    60% {\n",
              "      border-color: transparent;\n",
              "      border-right-color: var(--fill-color);\n",
              "    }\n",
              "    80% {\n",
              "      border-color: transparent;\n",
              "      border-right-color: var(--fill-color);\n",
              "      border-bottom-color: var(--fill-color);\n",
              "    }\n",
              "    90% {\n",
              "      border-color: transparent;\n",
              "      border-bottom-color: var(--fill-color);\n",
              "    }\n",
              "  }\n",
              "</style>\n",
              "\n",
              "  <script>\n",
              "    async function quickchart(key) {\n",
              "      const quickchartButtonEl =\n",
              "        document.querySelector('#' + key + ' button');\n",
              "      quickchartButtonEl.disabled = true;  // To prevent multiple clicks.\n",
              "      quickchartButtonEl.classList.add('colab-df-spinner');\n",
              "      try {\n",
              "        const charts = await google.colab.kernel.invokeFunction(\n",
              "            'suggestCharts', [key], {});\n",
              "      } catch (error) {\n",
              "        console.error('Error during call to suggestCharts:', error);\n",
              "      }\n",
              "      quickchartButtonEl.classList.remove('colab-df-spinner');\n",
              "      quickchartButtonEl.classList.add('colab-df-quickchart-complete');\n",
              "    }\n",
              "    (() => {\n",
              "      let quickchartButtonEl =\n",
              "        document.querySelector('#df-f6715985-c30f-419c-a2aa-d474c6fad9c4 button');\n",
              "      quickchartButtonEl.style.display =\n",
              "        google.colab.kernel.accessAllowed ? 'block' : 'none';\n",
              "    })();\n",
              "  </script>\n",
              "</div>\n",
              "    </div>\n",
              "  </div>\n"
            ],
            "application/vnd.google.colaboratory.intrinsic+json": {
              "type": "dataframe",
              "summary": "{\n  \"name\": \"      \",\n  \"rows\": 4,\n  \"fields\": [\n    {\n      \"column\": \"product_name\",\n      \"properties\": {\n        \"dtype\": \"string\",\n        \"num_unique_values\": 3,\n        \"samples\": [\n          \"keyboard\",\n          \"mouse\",\n          \"screen\"\n        ],\n        \"semantic_type\": \"\",\n        \"description\": \"\"\n      }\n    },\n    {\n      \"column\": \"product_id\",\n      \"properties\": {\n        \"dtype\": \"Int64\",\n        \"num_unique_values\": 3,\n        \"samples\": [\n          1,\n          2,\n          3\n        ],\n        \"semantic_type\": \"\",\n        \"description\": \"\"\n      }\n    },\n    {\n      \"column\": \"order_date\",\n      \"properties\": {\n        \"dtype\": \"date\",\n        \"min\": \"2020-08-01 00:00:00\",\n        \"max\": \"2020-08-29 00:00:00\",\n        \"num_unique_values\": 3,\n        \"samples\": [\n          \"2020-08-01 00:00:00\",\n          \"2020-08-03 00:00:00\",\n          \"2020-08-29 00:00:00\"\n        ],\n        \"semantic_type\": \"\",\n        \"description\": \"\"\n      }\n    },\n    {\n      \"column\": \"order_id\",\n      \"properties\": {\n        \"dtype\": \"Int64\",\n        \"num_unique_values\": 4,\n        \"samples\": [\n          7,\n          3,\n          6\n        ],\n        \"semantic_type\": \"\",\n        \"description\": \"\"\n      }\n    }\n  ]\n}"
            }
          },
          "metadata": {},
          "execution_count": 16
        }
      ]
    },
    {
      "cell_type": "markdown",
      "source": [
        "1501. Countries You Can Safely Invest In\n",
        "\n",
        "https://leetcode.com/problems/countries-you-can-safely-invest-in/description/\n",
        "\n",
        "```sql\n",
        "WITH all_calls AS (\n",
        "(SELECT\n",
        "caller_id as id, duration,\n",
        "SUBSTRING(p.phone_number, 1, 3) as country_code\n",
        "FROM Calls c\n",
        "LEFT JOIN Person p on p.id = c.caller_id)\n",
        "\n",
        "UNION ALL\n",
        "\n",
        "(SELECT\n",
        "callee_id as id,\n",
        "duration,\n",
        "SUBSTRING(p.phone_number, 1, 3) as country_code\n",
        "FROM Calls c\n",
        "LEFT JOIN Person p on p.id = c.callee_id))\n",
        "\n",
        "SELECT\n",
        "c.name as country\n",
        "FROM all_calls a\n",
        "LEFT JOIN Country c USING(country_code)\n",
        "GROUP BY a.country_code, c.name\n",
        "HAVING avg(a.duration) > (SELECT avg(duration) FROM Calls)\n",
        "```"
      ],
      "metadata": {
        "id": "imYy2kQ7gZkv"
      }
    },
    {
      "cell_type": "code",
      "source": [
        "data = [[3, 'Jonathan', '051-1234567'], [12, 'Elvis', '051-7654321'], [1, 'Moncef', '212-1234567'], [2, 'Maroua', '212-6523651'], [7, 'Meir', '972-1234567'], [9, 'Rachel', '972-0011100']]\n",
        "person = pd.DataFrame(data, columns=['id', 'name', 'phone_number']).astype({'id':'Int64', 'name':'object', 'phone_number':'object'})\n",
        "data = [['Peru', '051'], ['Israel', '972'], ['Morocco', '212'], ['Germany', '049'], ['Ethiopia', '251']]\n",
        "country = pd.DataFrame(data, columns=['name', 'country_code']).astype({'name':'object', 'country_code':'object'})\n",
        "data = [[1, 9, 33], [2, 9, 4], [1, 2, 59], [3, 12, 102], [3, 12, 330], [12, 3, 5], [7, 9, 13], [7, 1, 3], [9, 7, 1], [1, 7, 7]]\n",
        "calls = pd.DataFrame(data, columns=['caller_id', 'callee_id', 'duration']).astype({'caller_id':'Int64', 'callee_id':'Int64', 'duration':'Int64'})"
      ],
      "metadata": {
        "id": "Og0Zfb8ZQfAQ"
      },
      "execution_count": 2,
      "outputs": []
    },
    {
      "cell_type": "code",
      "source": [
        "def find_safe_countries(person: pd.DataFrame, country: pd.DataFrame, calls: pd.DataFrame) -> pd.DataFrame:\n",
        "    df_union = pd.concat([calls[['caller_id', 'duration']].rename({'caller_id': 'id'}, axis=1), calls[['callee_id', 'duration']].rename({'callee_id': 'id'}, axis=1)])\n",
        "    union_merged = df_union.merge(person, how='left', on='id')\n",
        "    return union_merged.assign(country_code = union_merged['phone_number']\\\n",
        "                        .apply(lambda x: x[:3]))\\\n",
        "                        .groupby('country_code')\\\n",
        "                        .duration.mean()\\\n",
        "                        .where(lambda x: x > calls.duration.mean()).dropna().reset_index().merge(country, how='left', on='country_code')[['name']].rename({'name': 'country'}, axis=1)"
      ],
      "metadata": {
        "id": "-Sx4jT2Nghbh"
      },
      "execution_count": 36,
      "outputs": []
    },
    {
      "cell_type": "code",
      "source": [],
      "metadata": {
        "id": "GtTv2nG6i7qm"
      },
      "execution_count": null,
      "outputs": []
    }
  ]
}