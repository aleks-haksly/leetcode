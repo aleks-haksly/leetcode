{
  "nbformat": 4,
  "nbformat_minor": 0,
  "metadata": {
    "colab": {
      "provenance": [],
      "authorship_tag": "ABX9TyN8TiKk4vBLqxxPanuWQmr8",
      "include_colab_link": true
    },
    "kernelspec": {
      "name": "python3",
      "display_name": "Python 3"
    },
    "language_info": {
      "name": "python"
    }
  },
  "cells": [
    {
      "cell_type": "markdown",
      "metadata": {
        "id": "view-in-github",
        "colab_type": "text"
      },
      "source": [
        "<a href=\"https://colab.research.google.com/github/aleks-haksly/leetcode/blob/main/pandas/pandas_medium.ipynb\" target=\"_parent\"><img src=\"https://colab.research.google.com/assets/colab-badge.svg\" alt=\"Open In Colab\"/></a>"
      ]
    },
    {
      "cell_type": "code",
      "source": [
        "import pandas as pd"
      ],
      "metadata": {
        "id": "cCLIcJ3PfWNR"
      },
      "execution_count": 2,
      "outputs": []
    },
    {
      "cell_type": "markdown",
      "source": [
        "176. Second Highest Salary\n",
        "\n",
        "https://leetcode.com/problems/second-highest-salary/description/\n",
        "\n",
        "```sql\n",
        "SELECT max(salary) as SecondHighestSalary\n",
        "FROM (\n",
        "SELECT\n",
        "    id, salary,\n",
        "    dense_rank() OVER (ORDER BY salary DESC) AS rn\n",
        "FROM Employee e)\n",
        "WHERE rn = 2\n",
        "```"
      ],
      "metadata": {
        "id": "HpCi5KDkEKOV"
      }
    },
    {
      "cell_type": "code",
      "source": [
        "data = [[1, 100], [2, 200], [3, 300]]\n",
        "employee = pd.DataFrame(data, columns=['id', 'salary']).astype({'id':'int64', 'salary':'int64'})"
      ],
      "metadata": {
        "id": "pcV90IlBEL8G"
      },
      "execution_count": 4,
      "outputs": []
    },
    {
      "cell_type": "code",
      "source": [
        "def second_highest_salary(employee: pd.DataFrame) -> pd.DataFrame:\n",
        "    result = employee.assign(rn = employee.salary.rank(method='dense', ascending=False)).query(\"rn == 2\")[['salary']].rename({\"salary\":\"SecondHighestSalary\"}, axis=1)\n",
        "    return result.head(1) if result.shape[0] else pd.DataFrame([{\"SecondHighestSalary\": None}])"
      ],
      "metadata": {
        "id": "4QO06x1gENsK"
      },
      "execution_count": 31,
      "outputs": []
    },
    {
      "cell_type": "code",
      "source": [],
      "metadata": {
        "id": "o3RF_HuIMLLz"
      },
      "execution_count": null,
      "outputs": []
    }
  ]
}