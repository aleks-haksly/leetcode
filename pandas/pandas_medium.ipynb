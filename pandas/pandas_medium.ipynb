{
  "nbformat": 4,
  "nbformat_minor": 0,
  "metadata": {
    "colab": {
      "provenance": [],
      "authorship_tag": "ABX9TyNNtfb0mNwyPGlzY6x11qqZ",
      "include_colab_link": true
    },
    "kernelspec": {
      "name": "python3",
      "display_name": "Python 3"
    },
    "language_info": {
      "name": "python"
    }
  },
  "cells": [
    {
      "cell_type": "markdown",
      "metadata": {
        "id": "view-in-github",
        "colab_type": "text"
      },
      "source": [
        "<a href=\"https://colab.research.google.com/github/aleks-haksly/leetcode/blob/main/pandas/pandas_medium.ipynb\" target=\"_parent\"><img src=\"https://colab.research.google.com/assets/colab-badge.svg\" alt=\"Open In Colab\"/></a>"
      ]
    },
    {
      "cell_type": "code",
      "source": [
        "import pandas as pd"
      ],
      "metadata": {
        "id": "cCLIcJ3PfWNR"
      },
      "execution_count": 2,
      "outputs": []
    },
    {
      "cell_type": "markdown",
      "source": [
        "176. Second Highest Salary\n",
        "\n",
        "https://leetcode.com/problems/second-highest-salary/description/\n",
        "\n",
        "```sql\n",
        "SELECT max(salary) as SecondHighestSalary\n",
        "FROM (\n",
        "SELECT\n",
        "    id, salary,\n",
        "    dense_rank() OVER (ORDER BY salary DESC) AS rn\n",
        "FROM Employee e)\n",
        "WHERE rn = 2\n",
        "```"
      ],
      "metadata": {
        "id": "HpCi5KDkEKOV"
      }
    },
    {
      "cell_type": "code",
      "source": [
        "data = [[1, 100], [2, 200], [3, 300]]\n",
        "employee = pd.DataFrame(data, columns=['id', 'salary']).astype({'id':'int64', 'salary':'int64'})"
      ],
      "metadata": {
        "id": "pcV90IlBEL8G"
      },
      "execution_count": 4,
      "outputs": []
    },
    {
      "cell_type": "code",
      "source": [
        "def second_highest_salary(employee: pd.DataFrame) -> pd.DataFrame:\n",
        "    result = employee.assign(rn = employee.salary.rank(method='dense', ascending=False)).query(\"rn == 2\")[['salary']].rename({\"salary\":\"SecondHighestSalary\"}, axis=1)\n",
        "    return result.head(1) if result.shape[0] else pd.DataFrame([{\"SecondHighestSalary\": None}])"
      ],
      "metadata": {
        "id": "4QO06x1gENsK"
      },
      "execution_count": 31,
      "outputs": []
    },
    {
      "cell_type": "markdown",
      "source": [
        "177. Nth Highest Salary\n",
        "\n",
        "https://leetcode.com/problems/nth-highest-salary/description/\n",
        "\n",
        "```sql\n",
        "CREATE OR REPLACE FUNCTION NthHighestSalary(N INT) RETURNS TABLE (Salary INT) AS $$\n",
        "BEGIN\n",
        "  RETURN QUERY (\n",
        "    -- Write your PostgreSQL query statement below.\n",
        "    SELECT max(sub.salary) FROM (\n",
        "    SELECT\n",
        "        e.salary,\n",
        "        dense_rank() OVER (ORDER BY e.salary DESC) as rn\n",
        "    FROM Employee e) sub\n",
        "    WHERE sub.rn = N\n",
        "      \n",
        "  );\n",
        "END;\n",
        "$$ LANGUAGE plpgsql;\n",
        "```"
      ],
      "metadata": {
        "id": "HQRTGKTCMWL_"
      }
    },
    {
      "cell_type": "code",
      "source": [
        "data = [[1, 100], [2, 200], [3, 300]]\n",
        "employee = pd.DataFrame(data, columns=['Id', 'Salary']).astype({'Id':'Int64', 'Salary':'Int64'})"
      ],
      "metadata": {
        "id": "o3RF_HuIMLLz"
      },
      "execution_count": 32,
      "outputs": []
    },
    {
      "cell_type": "code",
      "source": [
        "def nth_highest_salary(employee: pd.DataFrame, N: int) -> pd.DataFrame:\n",
        "    result = employee.assign(rn = employee.salary.rank(method='dense', ascending=False)).query(\"rn == @N\")[['salary']].rename({\"salary\":f\"getNthHighestSalary({N})\"}, axis=1)\n",
        "    return result.head(1) if result.shape[0] else pd.DataFrame([{f\"getNthHighestSalary({N})\": None}])"
      ],
      "metadata": {
        "id": "siT7JR4_MhRD"
      },
      "execution_count": 34,
      "outputs": []
    },
    {
      "cell_type": "markdown",
      "source": [
        "178. Rank Scores\n",
        "\n",
        "https://leetcode.com/problems/rank-scores/description/\n",
        "\n",
        "```sql\n",
        "SELECT\n",
        "    score,\n",
        "    dense_rank() OVER (ORDER BY score DESC) as rank\n",
        "FROM Scores\n",
        "ORDER BY score DESC\n",
        "```"
      ],
      "metadata": {
        "id": "kjLWudLoNc2V"
      }
    },
    {
      "cell_type": "code",
      "source": [
        "data = [[1, 3.5], [2, 3.65], [3, 4.0], [4, 3.85], [5, 4.0], [6, 3.65]]\n",
        "scores = pd.DataFrame(data, columns=['id', 'score']).astype({'id':'Int64', 'score':'Float64'})"
      ],
      "metadata": {
        "id": "RaJ3TLfFMj03"
      },
      "execution_count": 35,
      "outputs": []
    },
    {
      "cell_type": "code",
      "source": [
        "def order_scores(scores: pd.DataFrame) -> pd.DataFrame:\n",
        "    return scores.assign(rank = scores.score.rank(method='dense', ascending=False))[['score','rank']].sort_values(by='score', ascending=False)"
      ],
      "metadata": {
        "id": "uxpk7XqkNk_T"
      },
      "execution_count": 41,
      "outputs": []
    },
    {
      "cell_type": "code",
      "source": [],
      "metadata": {
        "id": "NMpKlYpmNqik"
      },
      "execution_count": null,
      "outputs": []
    }
  ]
}