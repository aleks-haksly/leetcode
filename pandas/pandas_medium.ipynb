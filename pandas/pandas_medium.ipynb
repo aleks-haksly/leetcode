{
  "nbformat": 4,
  "nbformat_minor": 0,
  "metadata": {
    "colab": {
      "provenance": [],
      "authorship_tag": "ABX9TyMi0hI67cotBLit3Wgjk0g+",
      "include_colab_link": true
    },
    "kernelspec": {
      "name": "python3",
      "display_name": "Python 3"
    },
    "language_info": {
      "name": "python"
    }
  },
  "cells": [
    {
      "cell_type": "markdown",
      "metadata": {
        "id": "view-in-github",
        "colab_type": "text"
      },
      "source": [
        "<a href=\"https://colab.research.google.com/github/aleks-haksly/leetcode/blob/main/pandas/pandas_medium.ipynb\" target=\"_parent\"><img src=\"https://colab.research.google.com/assets/colab-badge.svg\" alt=\"Open In Colab\"/></a>"
      ]
    },
    {
      "cell_type": "code",
      "source": [
        "import pandas as pd"
      ],
      "metadata": {
        "id": "cCLIcJ3PfWNR"
      },
      "execution_count": 1,
      "outputs": []
    },
    {
      "cell_type": "markdown",
      "source": [
        "176. Second Highest Salary\n",
        "\n",
        "https://leetcode.com/problems/second-highest-salary/description/\n",
        "\n",
        "```sql\n",
        "SELECT max(salary) as SecondHighestSalary\n",
        "FROM (\n",
        "SELECT\n",
        "    id, salary,\n",
        "    dense_rank() OVER (ORDER BY salary DESC) AS rn\n",
        "FROM Employee e)\n",
        "WHERE rn = 2\n",
        "```"
      ],
      "metadata": {
        "id": "HpCi5KDkEKOV"
      }
    },
    {
      "cell_type": "code",
      "source": [
        "data = [[1, 100], [2, 200], [3, 300]]\n",
        "employee = pd.DataFrame(data, columns=['id', 'salary']).astype({'id':'int64', 'salary':'int64'})"
      ],
      "metadata": {
        "id": "pcV90IlBEL8G"
      },
      "execution_count": null,
      "outputs": []
    },
    {
      "cell_type": "code",
      "source": [
        "def second_highest_salary(employee: pd.DataFrame) -> pd.DataFrame:\n",
        "    result = employee.assign(rn = employee.salary.rank(method='dense', ascending=False)).query(\"rn == 2\")[['salary']].rename({\"salary\":\"SecondHighestSalary\"}, axis=1)\n",
        "    return result.head(1) if result.shape[0] else pd.DataFrame([{\"SecondHighestSalary\": None}])"
      ],
      "metadata": {
        "id": "4QO06x1gENsK"
      },
      "execution_count": null,
      "outputs": []
    },
    {
      "cell_type": "markdown",
      "source": [
        "177. Nth Highest Salary\n",
        "\n",
        "https://leetcode.com/problems/nth-highest-salary/description/\n",
        "\n",
        "```sql\n",
        "CREATE OR REPLACE FUNCTION NthHighestSalary(N INT) RETURNS TABLE (Salary INT) AS $$\n",
        "BEGIN\n",
        "  RETURN QUERY (\n",
        "    -- Write your PostgreSQL query statement below.\n",
        "    SELECT max(sub.salary) FROM (\n",
        "    SELECT\n",
        "        e.salary,\n",
        "        dense_rank() OVER (ORDER BY e.salary DESC) as rn\n",
        "    FROM Employee e) sub\n",
        "    WHERE sub.rn = N\n",
        "      \n",
        "  );\n",
        "END;\n",
        "$$ LANGUAGE plpgsql;\n",
        "```"
      ],
      "metadata": {
        "id": "HQRTGKTCMWL_"
      }
    },
    {
      "cell_type": "code",
      "source": [
        "data = [[1, 100], [2, 200], [3, 300]]\n",
        "employee = pd.DataFrame(data, columns=['Id', 'Salary']).astype({'Id':'Int64', 'Salary':'Int64'})"
      ],
      "metadata": {
        "id": "o3RF_HuIMLLz"
      },
      "execution_count": null,
      "outputs": []
    },
    {
      "cell_type": "code",
      "source": [
        "def nth_highest_salary(employee: pd.DataFrame, N: int) -> pd.DataFrame:\n",
        "    result = employee.assign(rn = employee.salary.rank(method='dense', ascending=False)).query(\"rn == @N\")[['salary']].rename({\"salary\":f\"getNthHighestSalary({N})\"}, axis=1)\n",
        "    return result.head(1) if result.shape[0] else pd.DataFrame([{f\"getNthHighestSalary({N})\": None}])"
      ],
      "metadata": {
        "id": "siT7JR4_MhRD"
      },
      "execution_count": null,
      "outputs": []
    },
    {
      "cell_type": "markdown",
      "source": [
        "178. Rank Scores\n",
        "\n",
        "https://leetcode.com/problems/rank-scores/description/\n",
        "\n",
        "```sql\n",
        "SELECT\n",
        "    score,\n",
        "    dense_rank() OVER (ORDER BY score DESC) as rank\n",
        "FROM Scores\n",
        "ORDER BY score DESC\n",
        "```"
      ],
      "metadata": {
        "id": "kjLWudLoNc2V"
      }
    },
    {
      "cell_type": "code",
      "source": [
        "data = [[1, 3.5], [2, 3.65], [3, 4.0], [4, 3.85], [5, 4.0], [6, 3.65]]\n",
        "scores = pd.DataFrame(data, columns=['id', 'score']).astype({'id':'Int64', 'score':'Float64'})"
      ],
      "metadata": {
        "id": "RaJ3TLfFMj03"
      },
      "execution_count": null,
      "outputs": []
    },
    {
      "cell_type": "code",
      "source": [
        "def order_scores(scores: pd.DataFrame) -> pd.DataFrame:\n",
        "    return scores.assign(rank = scores.score.rank(method='dense', ascending=False))[['score','rank']].sort_values(by='score', ascending=False)"
      ],
      "metadata": {
        "id": "uxpk7XqkNk_T"
      },
      "execution_count": null,
      "outputs": []
    },
    {
      "cell_type": "markdown",
      "source": [
        "180. Consecutive Numbers\n",
        "\n",
        "https://leetcode.com/problems/consecutive-numbers/\n",
        "\n",
        "```sql\n",
        "-- Write your PostgreSQL query statement below\n",
        "SELECT\n",
        "    DISTINCT consecutivenums FROM (\n",
        "SELECT\n",
        "    num as ConsecutiveNums,\n",
        "    lag(num) OVER (ORDER BY id) as b,\n",
        "    lead(num) OVER (ORDER BY id) as a\n",
        " FROM Logs) sub\n",
        " WHERE ConsecutiveNums = a AND ConsecutiveNums = b\n",
        " ```\n"
      ],
      "metadata": {
        "id": "wyEUJqjywPCD"
      }
    },
    {
      "cell_type": "code",
      "source": [
        "data = [[1, 1], [2, 1], [3, 1], [4, 2], [5, 1], [6, 2], [7, 2]]\n",
        "logs = pd.DataFrame(data, columns=['id', 'num']).astype({'id':'Int64', 'num':'Int64'})"
      ],
      "metadata": {
        "id": "NMpKlYpmNqik"
      },
      "execution_count": 2,
      "outputs": []
    },
    {
      "cell_type": "code",
      "source": [
        "def consecutive_numbers(logs: pd.DataFrame) -> pd.DataFrame:\n",
        "    condition = ((logs.num.shift(1) == logs.num) & ((logs.num.shift(-1) == logs.num)))\n",
        "    return logs[condition]['num'].drop_duplicates().rename('ConsecutiveNums').to_frame()"
      ],
      "metadata": {
        "id": "XyhIixjbydRW"
      },
      "execution_count": 17,
      "outputs": []
    },
    {
      "cell_type": "markdown",
      "source": [
        "184. Department Highest Salary\n",
        "\n",
        "https://leetcode.com/problems/department-highest-salary/description/\n",
        "\n",
        "```sql\n",
        "SELECT\n",
        "    d.name AS Department,\n",
        "    sub.Employee,\n",
        "    sub.Salary\n",
        "FROM (\n",
        "SELECT\n",
        "    e.departmentId,\n",
        "    e.name AS Employee ,\n",
        "    salary AS Salary,\n",
        "    RANK() OVER (PARTITION BY departmentId ORDER BY Salary DESC) as rnk\n",
        "FROM Employee e) sub\n",
        "LEFT JOIN Department d ON sub.departmentId = d.id\n",
        "WHERE sub.rnk = 1\n",
        "```"
      ],
      "metadata": {
        "id": "XckxWJ3ZzDKb"
      }
    },
    {
      "cell_type": "code",
      "source": [
        "data = [[1, 'Joe', 70000, 1], [2, 'Jim', 90000, 1], [3, 'Henry', 80000, 2], [4, 'Sam', 60000, 2], [5, 'Max', 90000, 1]]\n",
        "employee = pd.DataFrame(data, columns=['id', 'name', 'salary', 'departmentId']).astype({'id':'Int64', 'name':'object', 'salary':'Int64', 'departmentId':'Int64'})\n",
        "data = [[1, 'IT'], [2, 'Sales']]\n",
        "department = pd.DataFrame(data, columns=['id', 'name']).astype({'id':'Int64', 'name':'object'})"
      ],
      "metadata": {
        "id": "men64bJfy17K"
      },
      "execution_count": 38,
      "outputs": []
    },
    {
      "cell_type": "code",
      "source": [
        "def department_highest_salary(employee: pd.DataFrame, department: pd.DataFrame) -> pd.DataFrame:\n",
        "    return employee[employee.groupby('departmentId')['salary']\\\n",
        "                    .rank(method='min', ascending=False) == 1].merge(department, how='left', left_on='departmentId', right_on='id')\\\n",
        "                    .rename({\"name_y\": \"Department\", \"name_x\": \"Employee\", \"salary\": \"Salary\"}, axis=1)[[\"Department\", \"Employee\", \"Salary\"]]"
      ],
      "metadata": {
        "id": "9Hu0diZVzNRo"
      },
      "execution_count": 51,
      "outputs": []
    },
    {
      "cell_type": "markdown",
      "source": [
        "550. Game Play Analysis IV\n",
        "\n",
        "https://leetcode.com/problems/game-play-analysis-iv/\n",
        "\n",
        "```sql\n",
        "-- Write your PostgreSQL query statement below\n",
        "WITH t AS (\n",
        "SELECT\n",
        "    a.player_id,\n",
        "    min(a.event_date) + INTERVAL '1 day ' as next_day\n",
        "FROM Activity a\n",
        "GROUP BY a.player_id )\n",
        "\n",
        "SELECT\n",
        "ROUND(COUNT(a.player_id)*1.0 / (SELECT COUNT(DISTINCT player_id) FROM Activity), 2) AS fraction  \n",
        "FROM Activity a\n",
        "JOIN t ON a.player_id = t.player_id AND t.next_day = a.event_date\n",
        "\n",
        "```"
      ],
      "metadata": {
        "id": "k31yVcT352eX"
      }
    },
    {
      "cell_type": "code",
      "source": [
        "data = [[1, 2, '2016-03-01', 5], [1, 2, '2016-03-02', 6], [2, 3, '2017-06-25', 1], [3, 1, '2016-03-02', 0], [3, 4, '2018-07-03', 5]]\n",
        "activity = pd.DataFrame(data, columns=['player_id', 'device_id', 'event_date', 'games_played']).astype({'player_id':'Int64', 'device_id':'Int64', 'event_date':'datetime64[ns]', 'games_played':'Int64'})"
      ],
      "metadata": {
        "id": "_N7UWnZa57_6"
      },
      "execution_count": 53,
      "outputs": []
    },
    {
      "cell_type": "code",
      "source": [
        "def gameplay_analysis(activity: pd.DataFrame) -> pd.DataFrame:\n",
        "    next_day = activity.groupby(\"player_id\").event_date.apply(lambda x: x.min() + pd.DateOffset(days=1))\n",
        "    fraction = round(activity.assign(next_day=activity.player_id.map(next_day)).query(\"event_date == next_day\").player_id.nunique() / activity.player_id.nunique(), 2)\n",
        "    return pd.DataFrame([fraction], columns=['fraction'], index=[0])"
      ],
      "metadata": {
        "id": "jcbuDfJS58fO"
      },
      "execution_count": 98,
      "outputs": []
    },
    {
      "cell_type": "markdown",
      "source": [
        "570. Managers with at Least 5 Direct Reports\n",
        "\n",
        "https://leetcode.com/problems/managers-with-at-least-5-direct-reports/description/\n",
        "\n",
        "```sql\n",
        "SELECT\n",
        "    e1.name\n",
        "FROM Employee e1\n",
        "JOIN Employee e2 ON e1.id = e2.managerId\n",
        "GROUP BY e1.id, e1.name\n",
        "HAVING count(e2.managerId) >= 5\n",
        "```"
      ],
      "metadata": {
        "id": "E5Q12FwXAay1"
      }
    },
    {
      "cell_type": "code",
      "source": [
        "data = [[101, 'John', 'A', None], [102, 'Dan', 'A', 101], [103, 'James', 'A', 101], [104, 'Amy', 'A', 101], [105, 'Anne', 'A', 101], [106, 'Ron', 'B', 101]]\n",
        "employee = pd.DataFrame(data, columns=['id', 'name', 'department', 'managerId']).astype({'id':'Int64', 'name':'object', 'department':'object', 'managerId':'Int64'})"
      ],
      "metadata": {
        "id": "hVVNObj5_DXf"
      },
      "execution_count": 116,
      "outputs": []
    },
    {
      "cell_type": "code",
      "source": [
        "def find_managers(employee: pd.DataFrame) -> pd.DataFrame:\n",
        "    filtered = employee.groupby('managerId', ).agg(reporting = ('id', 'count')).query('reporting >=5', engine='python')\n",
        "    return employee[employee.id.isin(filtered.index)][['name']]"
      ],
      "metadata": {
        "id": "enVmCaeBAh6e"
      },
      "execution_count": 127,
      "outputs": []
    },
    {
      "cell_type": "code",
      "source": [],
      "metadata": {
        "id": "zj7FYqP8BfEk"
      },
      "execution_count": null,
      "outputs": []
    },
    {
      "cell_type": "markdown",
      "source": [
        "585. Investments in 2016\n",
        "\n",
        "https://leetcode.com/problems/investments-in-2016/description/\n",
        "\n",
        "```sql\n",
        "WITH uniqu_ltt AS(\n",
        "SELECT\n",
        "    lat::text||' '||lon::text as ltconc\n",
        "FROM Insurance i\n",
        "GROUP BY lat::text||' '||lon::text\n",
        "HAVING count(*) = 1),\n",
        "\n",
        "repeted_tiv AS (\n",
        "SELECT\n",
        "tiv_2015\n",
        "FROM Insurance i\n",
        "GROUP BY tiv_2015\n",
        "HAVING COUNT(tiv_2015) > 1)\n",
        "\n",
        "SELECT\n",
        "ROUND(sum(tiv_2016)::NUMERIC, 2) as tiv_2016\n",
        "FROM Insurance\n",
        "WHERE tiv_2015 in (SELECT tiv_2015 FROM repeted_tiv) AND lat::text||' '||lon::text IN (SELECT ltconc FROM uniqu_ltt)\n",
        "```"
      ],
      "metadata": {
        "id": "oyhnsdPkG_0r"
      }
    },
    {
      "cell_type": "code",
      "source": [
        "data = [[1, 10, 5, 10, 10], [2, 20, 20, 20, 20], [3, 10, 30, 20, 20], [4, 10, 40, 40, 40]]\n",
        "insurance = pd.DataFrame(data, columns=['pid', 'tiv_2015', 'tiv_2016', 'lat', 'lon']).astype({'pid':'Int64', 'tiv_2015':'Float64', 'tiv_2016':'Float64', 'lat':'Float64', 'lon':'Float64'})"
      ],
      "metadata": {
        "id": "Ofxkdjc_Jr7T"
      },
      "execution_count": 149,
      "outputs": []
    },
    {
      "cell_type": "code",
      "source": [
        "def find_investments(insurance: pd.DataFrame) -> pd.DataFrame:\n",
        "    uniqu_ltt  = insurance.assign(ltconc = insurance.lat.astype(str).str.cat(insurance.lon.astype(str), sep=' ')).groupby('ltconc').agg(ltconc=('pid', 'count')).query(\"ltconc == 1\", engine='python').index\n",
        "    repeted_tiv  = insurance.groupby('tiv_2015').agg(tiv_2015_cnt = ('tiv_2015', 'count')).query(\"tiv_2015_cnt > 1\", engine='python').index\n",
        "    tiv_2016 = insurance[insurance.tiv_2015.isin(repeted_tiv) & insurance.lat.astype(str).str.cat(insurance.lon.astype(str), sep=' ').isin(uniqu_ltt)].tiv_2016.sum().round(2)\n",
        "    return pd.DataFrame([tiv_2016], columns=['tiv_2016'], index=[0])"
      ],
      "metadata": {
        "id": "JwcxQvhlJutz"
      },
      "execution_count": 151,
      "outputs": []
    },
    {
      "cell_type": "markdown",
      "source": [
        "602. Friend Requests II: Who Has the Most Friends\n",
        "\n",
        "https://leetcode.com/problems/friend-requests-ii-who-has-the-most-friends/description/\n",
        "\n",
        "```sql\n",
        "WITH temp as\n",
        "(SELECT requester_id as id FROM RequestAccepted\n",
        "UNION ALL\n",
        "SELECT accepter_id as id FROM RequestAccepted)\n",
        "\n",
        "SELECT id, COUNT(id) as num FROM temp GROUP BY id\n",
        "ORDER BY num DESC LIMIT 1\n",
        "```"
      ],
      "metadata": {
        "id": "UJQunGqPOjs_"
      }
    },
    {
      "cell_type": "code",
      "source": [
        "data = [[1, 2, '2016/06/03'], [1, 3, '2016/06/08'], [2, 3, '2016/06/08'], [3, 4, '2016/06/09']]\n",
        "request_accepted = pd.DataFrame(data, columns=['requester_id', 'accepter_id', 'accept_date']).astype({'requester_id':'Int64', 'accepter_id':'Int64', 'accept_date':'datetime64[ns]'})"
      ],
      "metadata": {
        "id": "LmeXjXJJNUdK"
      },
      "execution_count": 157,
      "outputs": []
    },
    {
      "cell_type": "code",
      "source": [
        "def most_friends(request_accepted: pd.DataFrame) -> pd.DataFrame:\n",
        "    result = request_accepted.requester_id.to_list() + request_accepted.accepter_id.to_list()\n",
        "    return pd.DataFrame(result, columns=['id'], index=range(len(result))).value_counts().sort_values(ascending=False).head(1).reset_index(name='num')"
      ],
      "metadata": {
        "id": "8AdvWZQCVl_a"
      },
      "execution_count": 231,
      "outputs": []
    },
    {
      "cell_type": "code",
      "source": [
        "import pandas as pd\n",
        "from collections import Counter\n",
        "\n",
        "def most_friends(request_accepted: pd.DataFrame) -> pd.DataFrame:\n",
        "    c = Counter(request_accepted.requester_id)\n",
        "    c.update(request_accepted.accepter_id)\n",
        "    return pd.DataFrame(c.most_common()[:1], columns=['id', 'num'], index=[0])"
      ],
      "metadata": {
        "id": "etgfORvKWD-J"
      },
      "execution_count": 245,
      "outputs": []
    },
    {
      "cell_type": "markdown",
      "source": [
        "608. Tree Node\n",
        "\n",
        "https://leetcode.com/problems/tree-node/description/\n",
        "\n",
        "```sql\n",
        "SELECT\n",
        "    id,\n",
        "    CASE WHEN p_id IS NULL THEN 'Root'\n",
        "         WHEN id in (SELECT p_id FROM Tree) THEN 'Inner'\n",
        "         ELSE 'Leaf' END as \"type\"\n",
        "FROM Tree\n",
        "```"
      ],
      "metadata": {
        "id": "a-_cPtpgakB9"
      }
    },
    {
      "cell_type": "code",
      "source": [
        "data = [[1, None], [2, 1], [3, 1], [4, 2], [5, 2]]\n",
        "tree = pd.DataFrame(data, columns=['id', 'p_id']).astype({'id':'Int64', 'p_id':'Int64'})"
      ],
      "metadata": {
        "id": "6MBXWXC-YwVb"
      },
      "execution_count": 246,
      "outputs": []
    },
    {
      "cell_type": "code",
      "source": [
        "import numpy as np\n",
        "\n",
        "def tree_node(tree: pd.DataFrame) -> pd.DataFrame:\n",
        "    tree[\"type\"] = np.where(tree.p_id.isna(), 'Root',\n",
        "                        np.where(~tree.id.isin(tree.p_id), 'Leaf', 'Inner'))\n",
        "    return tree[['id', 'type']]"
      ],
      "metadata": {
        "id": "HfOr8rmNb38x"
      },
      "execution_count": 264,
      "outputs": []
    },
    {
      "cell_type": "markdown",
      "source": [
        "626. Exchange Seats\n",
        "\n",
        "https://leetcode.com/problems/exchange-seats/description/\n",
        "\n",
        "```sql\n",
        "SELECT\n",
        "id,\n",
        "CASE WHEN id % 2 = 1 THEN LEAD(student, 1, student) OVER (ORDER BY id)\n",
        "    ELSE LAG(student, 1, student) OVER (ORDER BY id) END AS student\n",
        "FROM Seat\n",
        "```"
      ],
      "metadata": {
        "id": "5qaqa-GWfWSJ"
      }
    },
    {
      "cell_type": "code",
      "source": [
        "data = [[1, 'Abbot'], [2, 'Doris'], [3, 'Emerson'], [4, 'Green'], [5, 'Jeames']]\n",
        "seat = pd.DataFrame(data, columns=['id', 'student']).astype({'id':'Int64', 'student':'object'})"
      ],
      "metadata": {
        "id": "EAuC6nJQfbXK"
      },
      "execution_count": 307,
      "outputs": []
    },
    {
      "cell_type": "code",
      "source": [
        "def exchange_seats(seat: pd.DataFrame) -> pd.DataFrame:\n",
        "    seat['student'] = np.where((seat.id %2 == 1) & (seat.id != seat.shape[0]), seat.student.shift(-1),\n",
        "                               np.where(seat.id %2 == 0, seat.student.shift(1), seat.student))\n",
        "    return seat"
      ],
      "metadata": {
        "id": "LX9NqRKPfhGn"
      },
      "execution_count": 324,
      "outputs": []
    },
    {
      "cell_type": "markdown",
      "source": [
        "1045. Customers Who Bought All Products\n",
        "\n",
        "https://leetcode.com/problems/customers-who-bought-all-products/description/\n",
        "\n",
        "```sql\n",
        "SELECT\n",
        "    customer_id\n",
        "FROM Customer\n",
        "GROUP BY customer_id\n",
        "HAVING ARRAY_LENGTH(ARRAY_AGG(DISTINCT product_key), 1) = (SELECT COUNT(*) FROM Product);\n",
        "\n",
        "```"
      ],
      "metadata": {
        "id": "h_v8-yvw8021"
      }
    },
    {
      "cell_type": "code",
      "source": [
        "data = [[1, 5], [2, 6], [3, 5], [3, 6], [1, 6]]\n",
        "customer = pd.DataFrame(data, columns=['customer_id', 'product_key']).astype({'customer_id':'Int64', 'product_key':'Int64'})\n",
        "data = [[5], [6]]\n",
        "product = pd.DataFrame(data, columns=['product_key']).astype({'product_key':'Int64'})"
      ],
      "metadata": {
        "id": "SKkaub5Q6_Ti"
      },
      "execution_count": 325,
      "outputs": []
    },
    {
      "cell_type": "code",
      "source": [
        "def find_customers(customer: pd.DataFrame, product: pd.DataFrame) -> pd.DataFrame:\n",
        "    all_product = set(product.product_key.values)\n",
        "    return customer.groupby('customer_id')\\\n",
        "                   .product_key\\\n",
        "                   .apply(lambda x: set(x))\\\n",
        "                   .reset_index(name='product_keys')\\\n",
        "                   .query('product_keys == @all_product')\\\n",
        "                   [['customer_id']]"
      ],
      "metadata": {
        "id": "oSpByYQV8-Vd"
      },
      "execution_count": 355,
      "outputs": []
    },
    {
      "cell_type": "markdown",
      "source": [
        "1070. Product Sales Analysis III\n",
        "\n",
        "https://leetcode.com/problems/product-sales-analysis-iii/description/\n",
        "\n",
        "```sql\n",
        "-- Write your PostgreSQL query statement below\n",
        "WITH t as (\n",
        "SELECT\n",
        "    product_id,\n",
        "    min(year) as min_year\n",
        "FROM Sales\n",
        "GROUP BY product_id)\n",
        "\n",
        "SELECT\n",
        "    s.product_id,\n",
        "    s.year as first_year ,\n",
        "    s.quantity,\n",
        "    s.price\n",
        "FROM Sales s\n",
        "JOIN t ON t.product_id = s.product_id AND t.min_year = s.year\n",
        "```"
      ],
      "metadata": {
        "id": "wZ7cPK12_1Ek"
      }
    },
    {
      "cell_type": "code",
      "source": [
        "data = [[1, 100, 2008, 10, 5000], [2, 100, 2009, 12, 5000], [7, 200, 2011, 15, 9000]]\n",
        "sales = pd.DataFrame(data, columns=['sale_id', 'product_id', 'year', 'quantity', 'price']).astype({'sale_id':'Int64', 'product_id':'Int64', 'year':'Int64', 'quantity':'Int64', 'price':'Int64'})\n",
        "data = [[100, 'Nokia'], [200, 'Apple'], [300, 'Samsung']]\n",
        "product = pd.DataFrame(data, columns=['product_id', 'product_name']).astype({'product_id':'Int64', 'product_name':'object'})"
      ],
      "metadata": {
        "id": "ns3A5dKs9viw"
      },
      "execution_count": 356,
      "outputs": []
    },
    {
      "cell_type": "code",
      "source": [
        "def sales_analysis(sales: pd.DataFrame, product: pd.DataFrame) -> pd.DataFrame:\n",
        "    return sales.assign(min_year = sales.groupby('product_id').year.rank(method='min'))\\\n",
        "                .query('min_year ==  1', engine='python')\\\n",
        "                .iloc[:,1:-1]\\\n",
        "                .rename({'year': 'first_year'}, axis=1)"
      ],
      "metadata": {
        "id": "PFmxqrm8_8m-"
      },
      "execution_count": 358,
      "outputs": []
    },
    {
      "cell_type": "markdown",
      "source": [
        "1158. Market Analysis I\n",
        "\n",
        "https://leetcode.com/problems/market-analysis-i/description/\n",
        "\n",
        "```sql\n",
        "SELECT\n",
        "    u.user_id as buyer_id,\n",
        "    u.join_date,\n",
        "    count(o.order_id) as orders_in_2019\n",
        "FROM Users u\n",
        "LEFT JOIN Orders o ON u.user_id = o.buyer_id AND date_part('year', o.order_date) = 2019\n",
        "GROUP BY u.user_id, u.join_date\n",
        "```"
      ],
      "metadata": {
        "id": "GgzenvdzCeFL"
      }
    },
    {
      "cell_type": "code",
      "source": [
        "data = [[1, '2018-01-01', 'Lenovo'], [2, '2018-02-09', 'Samsung'], [3, '2018-01-19', 'LG'], [4, '2018-05-21', 'HP']]\n",
        "users = pd.DataFrame(data, columns=['user_id', 'join_date', 'favorite_brand']).astype({'user_id':'Int64', 'join_date':'datetime64[ns]', 'favorite_brand':'object'})\n",
        "data = [[1, '2019-08-01', 4, 1, 2], [2, '2018-08-02', 2, 1, 3], [3, '2019-08-03', 3, 2, 3], [4, '2018-08-04', 1, 4, 2], [5, '2018-08-04', 1, 3, 4], [6, '2019-08-05', 2, 2, 4]]\n",
        "orders = pd.DataFrame(data, columns=['order_id', 'order_date', 'item_id', 'buyer_id', 'seller_id']).astype({'order_id':'Int64', 'order_date':'datetime64[ns]', 'item_id':'Int64', 'buyer_id':'Int64', 'seller_id':'Int64'})\n",
        "data = [[1, 'Samsung'], [2, 'Lenovo'], [3, 'LG'], [4, 'HP']]\n",
        "items = pd.DataFrame(data, columns=['item_id', 'item_brand']).astype({'item_id':'Int64', 'item_brand':'object'})"
      ],
      "metadata": {
        "id": "Yl39K4flAmbm"
      },
      "execution_count": 370,
      "outputs": []
    },
    {
      "cell_type": "code",
      "source": [
        "def market_analysis(users: pd.DataFrame, orders: pd.DataFrame, items: pd.DataFrame) -> pd.DataFrame:\n",
        "    buyers = orders[orders.order_date.dt.year == 2019]\\\n",
        "                  .groupby('buyer_id')\\\n",
        "                  .order_id.count()\\\n",
        "                  .reset_index(name='orders_in_2019')\n",
        "    return users.merge(buyers, how='left', left_on='user_id', right_on='buyer_id')[['user_id', 'join_date', 'orders_in_2019']].fillna({'orders_in_2019': 0})\\\n",
        "                            .rename({'user_id': 'buyer_id'}, axis=1)"
      ],
      "metadata": {
        "id": "T3fCxFwpCuGZ"
      },
      "execution_count": 384,
      "outputs": []
    },
    {
      "cell_type": "markdown",
      "source": [
        "1164. Product Price at a Given Date\n",
        "\n",
        "https://leetcode.com/problems/product-price-at-a-given-date/description/\n",
        "\n",
        "```sql\n",
        "WITH t as (\n",
        "SELECT\n",
        "    s1.product_id,\n",
        "    s2.new_price,\n",
        "    row_number() OVER (PARTITION BY s1.product_id ORDER BY s2.change_date DESC NULLS LAST) as rn\n",
        "FROM Products s1\n",
        "LEFT JOIN  Products s2 ON s1.product_id = s2.product_id AND s1.change_date = s2.change_date  AND s2.change_date <= '2019-08-16')\n",
        "\n",
        "SELECT\n",
        "    product_id,\n",
        "    COALESCE(new_price, 10) AS  price\n",
        "FROM t\n",
        "WHERE rn = 1\n",
        "```"
      ],
      "metadata": {
        "id": "xzkB4r7HIRYP"
      }
    },
    {
      "cell_type": "code",
      "source": [
        "data = [[1, 20, '2019-08-14'], [2, 50, '2019-08-14'], [1, 30, '2019-08-15'], [1, 35, '2019-08-16'], [2, 65, '2019-08-17'], [3, 20, '2019-08-18']]\n",
        "products = pd.DataFrame(data, columns=['product_id', 'new_price', 'change_date']).astype({'product_id':'Int64', 'new_price':'Int64', 'change_date':'datetime64[ns]'})"
      ],
      "metadata": {
        "id": "lDaSGpjYCwSd"
      },
      "execution_count": 385,
      "outputs": []
    },
    {
      "cell_type": "code",
      "source": [
        "def price_at_given_date(products: pd.DataFrame) -> pd.DataFrame:\n",
        "    temp = products[products.change_date.le('2019-08-16')]\\\n",
        "      .assign(max_date = products[products.change_date.le('2019-08-16')]\\\n",
        "              .groupby('product_id')\\\n",
        "              .change_date.rank(method='min', ascending=False))\\\n",
        "              .query(\"max_date == 1\")\\\n",
        "              .set_index('product_id')\\\n",
        "              .new_price\n",
        "    products['price'] = products.product_id\\\n",
        "                                    .map(temp)\\\n",
        "                                    .fillna(10)\n",
        "    return products[['product_id','price']].drop_duplicates()"
      ],
      "metadata": {
        "id": "xcDxfVQqIX93"
      },
      "execution_count": 414,
      "outputs": []
    },
    {
      "cell_type": "markdown",
      "source": [
        "1174. Immediate Food Delivery II\n",
        "\n",
        "https://leetcode.com/problems/immediate-food-delivery-ii/description/\n",
        "\n",
        "```sql\n",
        "\n",
        "WITH t as (\n",
        "SELECT\n",
        "    *,\n",
        "    row_number() OVER (PARTITION BY customer_id ORDER BY order_date) as rn\n",
        "FROM Delivery)\n",
        "\n",
        "\n",
        "SELECT\n",
        "    round(count(delivery_id) FILTER (WHERE order_date = customer_pref_delivery_date )*100.0 / count(delivery_id), 2) as immediate_percentage\n",
        "FROM t\n",
        "WHERE t.rn = 1\n",
        "```"
      ],
      "metadata": {
        "id": "PAv8AsGvNJY0"
      }
    },
    {
      "cell_type": "code",
      "source": [
        "data = [[1, 1, '2019-08-01', '2019-08-02'], [2, 2, '2019-08-02', '2019-08-02'], [3, 1, '2019-08-11', '2019-08-12'], [4, 3, '2019-08-24', '2019-08-24'], [5, 3, '2019-08-21', '2019-08-22'], [6, 2, '2019-08-11', '2019-08-13'], [7, 4, '2019-08-09', '2019-08-09']]\n",
        "delivery = pd.DataFrame(data, columns=['delivery_id', 'customer_id', 'order_date', 'customer_pref_delivery_date']).astype({'delivery_id':'Int64', 'customer_id':'Int64', 'order_date':'datetime64[ns]', 'customer_pref_delivery_date':'datetime64[ns]'})"
      ],
      "metadata": {
        "id": "hCTio1gbLqKf"
      },
      "execution_count": 415,
      "outputs": []
    },
    {
      "cell_type": "code",
      "source": [],
      "metadata": {
        "id": "UnqMGQKyNQer"
      },
      "execution_count": null,
      "outputs": []
    }
  ]
}