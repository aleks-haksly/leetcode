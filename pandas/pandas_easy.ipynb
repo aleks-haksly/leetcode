{
  "nbformat": 4,
  "nbformat_minor": 0,
  "metadata": {
    "colab": {
      "provenance": [],
      "authorship_tag": "ABX9TyN9WHGj0Qg1UxZnmaOi4z7Z",
      "include_colab_link": true
    },
    "kernelspec": {
      "name": "python3",
      "display_name": "Python 3"
    },
    "language_info": {
      "name": "python"
    }
  },
  "cells": [
    {
      "cell_type": "markdown",
      "metadata": {
        "id": "view-in-github",
        "colab_type": "text"
      },
      "source": [
        "<a href=\"https://colab.research.google.com/github/aleks-haksly/leetcode/blob/main/pandas/pandas_easy.ipynb\" target=\"_parent\"><img src=\"https://colab.research.google.com/assets/colab-badge.svg\" alt=\"Open In Colab\"/></a>"
      ]
    },
    {
      "cell_type": "markdown",
      "source": [
        "1179. Reformat Department Table\n",
        "https://leetcode.com/problems/reformat-department-table/description/"
      ],
      "metadata": {
        "id": "4IMdR19--qwB"
      }
    },
    {
      "cell_type": "code",
      "source": [
        "import pandas as pd\n",
        "\n",
        "def reformat_table(department: pd.DataFrame) -> pd.DataFrame:\n",
        "    all_mths = [\"Jan\", \"Feb\", \"Mar\", \"Apr\", \"May\", \"Jun\", \"Jul\", \"Aug\", \"Sep\", \"Oct\", \"Nov\", \"Dec\"]\n",
        "    pvt = department.pivot_table(index='id', columns='month', values='revenue').reindex(columns = all_mths)\n",
        "    pvt.columns = [_+\"_Revenue\" for _ in pvt.columns]\n",
        "    return pvt.reset_index()"
      ],
      "metadata": {
        "id": "TAl0YJiy-uO1"
      },
      "execution_count": 1,
      "outputs": []
    },
    {
      "cell_type": "code",
      "source": [],
      "metadata": {
        "id": "wo4uHVyX-xCg"
      },
      "execution_count": null,
      "outputs": []
    }
  ]
}