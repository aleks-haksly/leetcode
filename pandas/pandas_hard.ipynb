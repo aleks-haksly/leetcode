{
  "nbformat": 4,
  "nbformat_minor": 0,
  "metadata": {
    "colab": {
      "provenance": [],
      "authorship_tag": "ABX9TyNWEMGUdOnnVOZeSi8+SvS+",
      "include_colab_link": true
    },
    "kernelspec": {
      "name": "python3",
      "display_name": "Python 3"
    },
    "language_info": {
      "name": "python"
    }
  },
  "cells": [
    {
      "cell_type": "markdown",
      "metadata": {
        "id": "view-in-github",
        "colab_type": "text"
      },
      "source": [
        "<a href=\"https://colab.research.google.com/github/aleks-haksly/leetcode/blob/main/pandas/pandas_hard.ipynb\" target=\"_parent\"><img src=\"https://colab.research.google.com/assets/colab-badge.svg\" alt=\"Open In Colab\"/></a>"
      ]
    },
    {
      "cell_type": "code",
      "source": [
        "import pandas as pd"
      ],
      "metadata": {
        "id": "cCLIcJ3PfWNR"
      },
      "execution_count": 1,
      "outputs": []
    },
    {
      "cell_type": "markdown",
      "source": [
        "185. Department Top Three Salaries\n",
        "\n",
        "https://leetcode.com/problems/department-top-three-salaries/description/\n",
        "\n",
        "```sql\n",
        "\n",
        "SELECT d.name as Department, sub.name as Employee, sub.salary as Salary\n",
        "FROM (\n",
        "SELECT\n",
        "    e.departmentId , e.name, e.salary,\n",
        "    dense_rank() OVER (PARTITION BY departmentId ORDER BY salary DESC) as rnk\n",
        "FROM Employee e) sub\n",
        "LEFT JOIN Department d ON d.id = sub.departmentId\n",
        "WHERE sub.rnk < 4\n",
        "```"
      ],
      "metadata": {
        "id": "ITv_9risLHTZ"
      }
    },
    {
      "cell_type": "code",
      "source": [
        "data = [[1, 'Joe', 85000, 1], [2, 'Henry', 80000, 2], [3, 'Sam', 60000, 2], [4, 'Max', 90000, 1], [5, 'Janet', 69000, 1], [6, 'Randy', 85000, 1], [7, 'Will', 70000, 1]]\n",
        "employee = pd.DataFrame(data, columns=['id', 'name', 'salary', 'departmentId']).astype({'id':'Int64', 'name':'object', 'salary':'Int64', 'departmentId':'Int64'})\n",
        "data = [[1, 'IT'], [2, 'Sales']]\n",
        "department = pd.DataFrame(data, columns=['id', 'name']).astype({'id':'Int64', 'name':'object'})"
      ],
      "metadata": {
        "id": "E8NmcLl-LbU_"
      },
      "execution_count": 2,
      "outputs": []
    },
    {
      "cell_type": "code",
      "source": [
        "def top_three_salaries(employee: pd.DataFrame, department: pd.DataFrame) -> pd.DataFrame:\n",
        "    return employee.assign(rnk = employee.groupby('departmentId').salary.rank(method='dense', ascending=False))\\\n",
        "                    .query('rnk <= 3', engine='python')\\\n",
        "                    .merge(department, how='left', left_on='departmentId', right_on='id', suffixes=['_emp', '_dpt'])\\\n",
        "                    [['name_dpt', 'name_emp', 'salary']].rename({'name_dpt': 'Department', 'name_emp': 'Employee', 'salary': 'Salary'}, axis=1)"
      ],
      "metadata": {
        "id": "zjCl7f54MAaQ"
      },
      "execution_count": 27,
      "outputs": []
    },
    {
      "cell_type": "code",
      "source": [],
      "metadata": {
        "id": "O3oY7_WfL7Qb"
      },
      "execution_count": null,
      "outputs": []
    }
  ]
}